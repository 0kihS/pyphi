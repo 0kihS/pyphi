{
 "cells": [
  {
   "cell_type": "markdown",
   "id": "eabd3300",
   "metadata": {
    "id": "eabd3300"
   },
   "source": [
    "# Initial Setup"
   ]
  },
  {
   "cell_type": "markdown",
   "id": "OM_SkVY2ofmX",
   "metadata": {
    "id": "OM_SkVY2ofmX"
   },
   "source": [
    "## Installing PyPhi\n",
    "\n",
    "This script was designed to be used with the [IIT-4.0 branch of PyPhi, commit dc6fe5d](https://github.com/isacdaavid/pyphi/tree/dc6fe5dcb6a97a941699499c73e92563cf44206d). PyPhi is the reference library to compute the quantities and structures of Integrated Information Theory.\n",
    "\n",
    "**Run this** subsection of cells to install PyPhi and requisite libraries."
   ]
  },
  {
   "cell_type": "code",
   "execution_count": null,
   "id": "c7_vN42lpDQc",
   "metadata": {
    "colab": {
     "base_uri": "https://localhost:8080/"
    },
    "collapsed": true,
    "id": "c7_vN42lpDQc",
    "jupyter": {
     "outputs_hidden": true
    },
    "outputId": "7e9bbf42-8553-4f00-f248-54d7709fa938",
    "tags": []
   },
   "outputs": [
    {
     "name": "stdout",
     "output_type": "stream",
     "text": [
      "Looking in indexes: https://pypi.org/simple, https://us-python.pkg.dev/colab-wheels/public/simple/\n",
      "Collecting git+https://github.com/isacdaavid/pyphi.git@feature/iit-4.0\n",
      "  Cloning https://github.com/isacdaavid/pyphi.git (to revision feature/iit-4.0) to /tmp/pip-req-build-xm3jqx8_\n",
      "  Running command git clone -q https://github.com/isacdaavid/pyphi.git /tmp/pip-req-build-xm3jqx8_\n",
      "  Running command git checkout -b feature/iit-4.0 --track origin/feature/iit-4.0\n",
      "  Switched to a new branch 'feature/iit-4.0'\n",
      "  Branch 'feature/iit-4.0' set up to track remote branch 'feature/iit-4.0' from 'origin'.\n",
      "  Installing build dependencies ... \u001b[?25l\u001b[?25hdone\n",
      "  Getting requirements to build wheel ... \u001b[?25l\u001b[?25hdone\n",
      "    Preparing wheel metadata ... \u001b[?25l\u001b[?25hdone\n",
      "Requirement already satisfied: numpy>=1.11.0 in /usr/local/lib/python3.8/dist-packages (from pyphi==1.2.0) (1.21.6)\n",
      "Collecting ordered-set>=4.0.2\n",
      "  Downloading ordered_set-4.1.0-py3-none-any.whl (7.6 kB)\n",
      "Collecting plotly>=5.8.2\n",
      "  Downloading plotly-5.11.0-py2.py3-none-any.whl (15.3 MB)\n",
      "\u001b[K     |████████████████████████████████| 15.3 MB 14.0 MB/s \n",
      "\u001b[?25hRequirement already satisfied: scipy>=0.13.3 in /usr/local/lib/python3.8/dist-packages (from pyphi==1.2.0) (1.7.3)\n",
      "Requirement already satisfied: tblib>=1.3.2 in /usr/local/lib/python3.8/dist-packages (from pyphi==1.2.0) (1.7.0)\n",
      "Requirement already satisfied: more-itertools>=8.13.0 in /usr/local/lib/python3.8/dist-packages (from pyphi==1.2.0) (9.0.0)\n",
      "Requirement already satisfied: joblib>=0.8.0 in /usr/local/lib/python3.8/dist-packages (from pyphi==1.2.0) (1.2.0)\n",
      "Requirement already satisfied: toolz>=0.9.0 in /usr/local/lib/python3.8/dist-packages (from pyphi==1.2.0) (0.12.0)\n",
      "Collecting igraph>=0.9.10\n",
      "  Downloading igraph-0.10.2-cp38-cp38-manylinux_2_17_x86_64.manylinux2014_x86_64.whl (3.3 MB)\n",
      "\u001b[K     |████████████████████████████████| 3.3 MB 60.8 MB/s \n",
      "\u001b[?25hRequirement already satisfied: networkx>=2.6.2 in /usr/local/lib/python3.8/dist-packages (from pyphi==1.2.0) (2.8.8)\n",
      "Requirement already satisfied: pyyaml>=3.13 in /usr/local/lib/python3.8/dist-packages (from pyphi==1.2.0) (6.0)\n",
      "Collecting ray[default]>=1.9.2\n",
      "  Downloading ray-2.2.0-cp38-cp38-manylinux2014_x86_64.whl (57.4 MB)\n",
      "\u001b[K     |████████████████████████████████| 57.4 MB 97 kB/s \n",
      "\u001b[?25hRequirement already satisfied: pyemd>=0.3.0 in /usr/local/lib/python3.8/dist-packages (from pyphi==1.2.0) (0.5.1)\n",
      "Collecting Graphillion>=1.5\n",
      "  Downloading Graphillion-1.5.tar.gz (1.2 MB)\n",
      "\u001b[K     |████████████████████████████████| 1.2 MB 59.7 MB/s \n",
      "\u001b[?25hRequirement already satisfied: tqdm>=4.20.0 in /usr/local/lib/python3.8/dist-packages (from pyphi==1.2.0) (4.64.1)\n",
      "Requirement already satisfied: psutil>=2.1.1 in /usr/local/lib/python3.8/dist-packages (from pyphi==1.2.0) (5.4.8)\n",
      "Collecting redis>=2.10.5\n",
      "  Downloading redis-4.4.0-py3-none-any.whl (236 kB)\n",
      "\u001b[K     |████████████████████████████████| 236 kB 52.6 MB/s \n",
      "\u001b[?25hRequirement already satisfied: future in /usr/local/lib/python3.8/dist-packages (from Graphillion>=1.5->pyphi==1.2.0) (0.16.0)\n",
      "Collecting texttable>=1.6.2\n",
      "  Downloading texttable-1.6.7-py2.py3-none-any.whl (10 kB)\n",
      "Requirement already satisfied: tenacity>=6.2.0 in /usr/local/lib/python3.8/dist-packages (from plotly>=5.8.2->pyphi==1.2.0) (8.1.0)\n",
      "Collecting virtualenv>=20.0.24\n",
      "  Downloading virtualenv-20.17.1-py3-none-any.whl (8.8 MB)\n",
      "\u001b[K     |████████████████████████████████| 8.8 MB 56.8 MB/s \n",
      "\u001b[?25hRequirement already satisfied: frozenlist in /usr/local/lib/python3.8/dist-packages (from ray[default]>=1.9.2->pyphi==1.2.0) (1.3.3)\n",
      "Requirement already satisfied: grpcio>=1.32.0 in /usr/local/lib/python3.8/dist-packages (from ray[default]>=1.9.2->pyphi==1.2.0) (1.51.1)\n",
      "Requirement already satisfied: protobuf!=3.19.5,>=3.15.3 in /usr/local/lib/python3.8/dist-packages (from ray[default]>=1.9.2->pyphi==1.2.0) (3.19.6)\n",
      "Requirement already satisfied: msgpack<2.0.0,>=1.0.0 in /usr/local/lib/python3.8/dist-packages (from ray[default]>=1.9.2->pyphi==1.2.0) (1.0.4)\n",
      "Requirement already satisfied: jsonschema in /usr/local/lib/python3.8/dist-packages (from ray[default]>=1.9.2->pyphi==1.2.0) (4.3.3)\n",
      "Requirement already satisfied: aiosignal in /usr/local/lib/python3.8/dist-packages (from ray[default]>=1.9.2->pyphi==1.2.0) (1.3.1)\n",
      "Requirement already satisfied: requests in /usr/local/lib/python3.8/dist-packages (from ray[default]>=1.9.2->pyphi==1.2.0) (2.23.0)\n",
      "Requirement already satisfied: filelock in /usr/local/lib/python3.8/dist-packages (from ray[default]>=1.9.2->pyphi==1.2.0) (3.8.2)\n",
      "Requirement already satisfied: attrs in /usr/local/lib/python3.8/dist-packages (from ray[default]>=1.9.2->pyphi==1.2.0) (22.1.0)\n",
      "Requirement already satisfied: click>=7.0 in /usr/local/lib/python3.8/dist-packages (from ray[default]>=1.9.2->pyphi==1.2.0) (7.1.2)\n",
      "Collecting opencensus\n",
      "  Downloading opencensus-0.11.0-py2.py3-none-any.whl (128 kB)\n",
      "\u001b[K     |████████████████████████████████| 128 kB 76.9 MB/s \n",
      "\u001b[?25hCollecting prometheus-client<0.14.0,>=0.7.1\n",
      "  Downloading prometheus_client-0.13.1-py3-none-any.whl (57 kB)\n",
      "\u001b[K     |████████████████████████████████| 57 kB 6.1 MB/s \n",
      "\u001b[?25hRequirement already satisfied: smart-open in /usr/local/lib/python3.8/dist-packages (from ray[default]>=1.9.2->pyphi==1.2.0) (6.3.0)\n",
      "Collecting aiohttp-cors\n",
      "  Downloading aiohttp_cors-0.7.0-py3-none-any.whl (27 kB)\n",
      "Requirement already satisfied: pydantic in /usr/local/lib/python3.8/dist-packages (from ray[default]>=1.9.2->pyphi==1.2.0) (1.10.2)\n",
      "Collecting py-spy>=0.2.0\n",
      "  Downloading py_spy-0.3.14-py2.py3-none-manylinux_2_5_x86_64.manylinux1_x86_64.whl (3.0 MB)\n",
      "\u001b[K     |████████████████████████████████| 3.0 MB 57.5 MB/s \n",
      "\u001b[?25hRequirement already satisfied: aiohttp>=3.7 in /usr/local/lib/python3.8/dist-packages (from ray[default]>=1.9.2->pyphi==1.2.0) (3.8.3)\n",
      "Collecting colorful\n",
      "  Downloading colorful-0.5.5-py2.py3-none-any.whl (201 kB)\n",
      "\u001b[K     |████████████████████████████████| 201 kB 69.5 MB/s \n",
      "\u001b[?25hCollecting gpustat>=1.0.0\n",
      "  Downloading gpustat-1.0.0.tar.gz (90 kB)\n",
      "\u001b[K     |████████████████████████████████| 90 kB 12.0 MB/s \n",
      "\u001b[?25hRequirement already satisfied: async-timeout<5.0,>=4.0.0a3 in /usr/local/lib/python3.8/dist-packages (from aiohttp>=3.7->ray[default]>=1.9.2->pyphi==1.2.0) (4.0.2)\n",
      "Requirement already satisfied: charset-normalizer<3.0,>=2.0 in /usr/local/lib/python3.8/dist-packages (from aiohttp>=3.7->ray[default]>=1.9.2->pyphi==1.2.0) (2.1.1)\n",
      "Requirement already satisfied: multidict<7.0,>=4.5 in /usr/local/lib/python3.8/dist-packages (from aiohttp>=3.7->ray[default]>=1.9.2->pyphi==1.2.0) (6.0.3)\n",
      "Requirement already satisfied: yarl<2.0,>=1.0 in /usr/local/lib/python3.8/dist-packages (from aiohttp>=3.7->ray[default]>=1.9.2->pyphi==1.2.0) (1.8.2)\n",
      "Requirement already satisfied: six>=1.7 in /usr/local/lib/python3.8/dist-packages (from gpustat>=1.0.0->ray[default]>=1.9.2->pyphi==1.2.0) (1.15.0)\n",
      "Collecting nvidia-ml-py<=11.495.46,>=11.450.129\n",
      "  Downloading nvidia_ml_py-11.495.46-py3-none-any.whl (25 kB)\n",
      "Collecting psutil>=2.1.1\n",
      "  Downloading psutil-5.9.4-cp36-abi3-manylinux_2_12_x86_64.manylinux2010_x86_64.manylinux_2_17_x86_64.manylinux2014_x86_64.whl (280 kB)\n",
      "\u001b[K     |████████████████████████████████| 280 kB 62.6 MB/s \n",
      "\u001b[?25hCollecting blessed>=1.17.1\n",
      "  Downloading blessed-1.19.1-py2.py3-none-any.whl (58 kB)\n",
      "\u001b[K     |████████████████████████████████| 58 kB 7.4 MB/s \n",
      "\u001b[?25hRequirement already satisfied: wcwidth>=0.1.4 in /usr/local/lib/python3.8/dist-packages (from blessed>=1.17.1->gpustat>=1.0.0->ray[default]>=1.9.2->pyphi==1.2.0) (0.2.5)\n",
      "Collecting distlib<1,>=0.3.6\n",
      "  Downloading distlib-0.3.6-py2.py3-none-any.whl (468 kB)\n",
      "\u001b[K     |████████████████████████████████| 468 kB 70.9 MB/s \n",
      "\u001b[?25hRequirement already satisfied: platformdirs<3,>=2.4 in /usr/local/lib/python3.8/dist-packages (from virtualenv>=20.0.24->ray[default]>=1.9.2->pyphi==1.2.0) (2.6.0)\n",
      "Requirement already satisfied: idna>=2.0 in /usr/local/lib/python3.8/dist-packages (from yarl<2.0,>=1.0->aiohttp>=3.7->ray[default]>=1.9.2->pyphi==1.2.0) (2.10)\n",
      "Requirement already satisfied: pyrsistent!=0.17.0,!=0.17.1,!=0.17.2,>=0.14.0 in /usr/local/lib/python3.8/dist-packages (from jsonschema->ray[default]>=1.9.2->pyphi==1.2.0) (0.19.2)\n",
      "Requirement already satisfied: importlib-resources>=1.4.0 in /usr/local/lib/python3.8/dist-packages (from jsonschema->ray[default]>=1.9.2->pyphi==1.2.0) (5.10.1)\n",
      "Requirement already satisfied: zipp>=3.1.0 in /usr/local/lib/python3.8/dist-packages (from importlib-resources>=1.4.0->jsonschema->ray[default]>=1.9.2->pyphi==1.2.0) (3.11.0)\n",
      "Collecting opencensus-context>=0.1.3\n",
      "  Downloading opencensus_context-0.1.3-py2.py3-none-any.whl (5.1 kB)\n",
      "Requirement already satisfied: google-api-core<3.0.0,>=1.0.0 in /usr/local/lib/python3.8/dist-packages (from opencensus->ray[default]>=1.9.2->pyphi==1.2.0) (2.8.2)\n",
      "Requirement already satisfied: googleapis-common-protos<2.0dev,>=1.56.2 in /usr/local/lib/python3.8/dist-packages (from google-api-core<3.0.0,>=1.0.0->opencensus->ray[default]>=1.9.2->pyphi==1.2.0) (1.57.0)\n",
      "Requirement already satisfied: google-auth<3.0dev,>=1.25.0 in /usr/local/lib/python3.8/dist-packages (from google-api-core<3.0.0,>=1.0.0->opencensus->ray[default]>=1.9.2->pyphi==1.2.0) (2.15.0)\n",
      "Requirement already satisfied: rsa<5,>=3.1.4 in /usr/local/lib/python3.8/dist-packages (from google-auth<3.0dev,>=1.25.0->google-api-core<3.0.0,>=1.0.0->opencensus->ray[default]>=1.9.2->pyphi==1.2.0) (4.9)\n",
      "Requirement already satisfied: cachetools<6.0,>=2.0.0 in /usr/local/lib/python3.8/dist-packages (from google-auth<3.0dev,>=1.25.0->google-api-core<3.0.0,>=1.0.0->opencensus->ray[default]>=1.9.2->pyphi==1.2.0) (5.2.0)\n",
      "Requirement already satisfied: pyasn1-modules>=0.2.1 in /usr/local/lib/python3.8/dist-packages (from google-auth<3.0dev,>=1.25.0->google-api-core<3.0.0,>=1.0.0->opencensus->ray[default]>=1.9.2->pyphi==1.2.0) (0.2.8)\n",
      "Requirement already satisfied: pyasn1<0.5.0,>=0.4.6 in /usr/local/lib/python3.8/dist-packages (from pyasn1-modules>=0.2.1->google-auth<3.0dev,>=1.25.0->google-api-core<3.0.0,>=1.0.0->opencensus->ray[default]>=1.9.2->pyphi==1.2.0) (0.4.8)\n",
      "Requirement already satisfied: urllib3!=1.25.0,!=1.25.1,<1.26,>=1.21.1 in /usr/local/lib/python3.8/dist-packages (from requests->ray[default]>=1.9.2->pyphi==1.2.0) (1.24.3)\n",
      "Requirement already satisfied: chardet<4,>=3.0.2 in /usr/local/lib/python3.8/dist-packages (from requests->ray[default]>=1.9.2->pyphi==1.2.0) (3.0.4)\n",
      "Requirement already satisfied: certifi>=2017.4.17 in /usr/local/lib/python3.8/dist-packages (from requests->ray[default]>=1.9.2->pyphi==1.2.0) (2022.12.7)\n",
      "Requirement already satisfied: typing-extensions>=4.1.0 in /usr/local/lib/python3.8/dist-packages (from pydantic->ray[default]>=1.9.2->pyphi==1.2.0) (4.4.0)\n",
      "Building wheels for collected packages: pyphi, Graphillion, gpustat\n",
      "  Building wheel for pyphi (PEP 517) ... \u001b[?25l\u001b[?25hdone\n",
      "  Created wheel for pyphi: filename=pyphi-1.2.0-py3-none-any.whl size=708214 sha256=12ff7cf8049b097e960ba321ced49faaaa162f89709beb58006cf0d0e8e0b1af\n",
      "  Stored in directory: /tmp/pip-ephem-wheel-cache-j8vzgzd9/wheels/23/8d/00/abc6d628202c5effaebaba5925ff9c9a272dd5026b0f59c7b9\n",
      "  Building wheel for Graphillion (setup.py) ... \u001b[?25l\u001b[?25hdone\n",
      "  Created wheel for Graphillion: filename=Graphillion-1.5-cp38-cp38-linux_x86_64.whl size=1729542 sha256=7d338b88f8e45c89c7776d7868e72070563ba583c37686224fe9455d5c436527\n",
      "  Stored in directory: /root/.cache/pip/wheels/ed/14/ca/2f2ea3b2c01e18e31c78b30e0af8c8ee5c7cfb0a8995941497\n",
      "  Building wheel for gpustat (setup.py) ... \u001b[?25l\u001b[?25hdone\n",
      "  Created wheel for gpustat: filename=gpustat-1.0.0-py3-none-any.whl size=19887 sha256=8d92dac417a75c19f23de8f5cb403829ee9dd4c425b65dbd826e1a33f803ec84\n",
      "  Stored in directory: /root/.cache/pip/wheels/1b/ed/14/0d513c962b25da841c42022cb5847c2ef835902c8563b8fb01\n",
      "Successfully built pyphi Graphillion gpustat\n",
      "Installing collected packages: distlib, virtualenv, psutil, opencensus-context, nvidia-ml-py, blessed, texttable, ray, py-spy, prometheus-client, opencensus, gpustat, colorful, aiohttp-cors, redis, plotly, ordered-set, igraph, Graphillion, pyphi\n",
      "  Attempting uninstall: psutil\n",
      "    Found existing installation: psutil 5.4.8\n",
      "    Uninstalling psutil-5.4.8:\n",
      "      Successfully uninstalled psutil-5.4.8\n",
      "  Attempting uninstall: prometheus-client\n",
      "    Found existing installation: prometheus-client 0.15.0\n",
      "    Uninstalling prometheus-client-0.15.0:\n",
      "      Successfully uninstalled prometheus-client-0.15.0\n",
      "  Attempting uninstall: plotly\n",
      "    Found existing installation: plotly 5.5.0\n",
      "    Uninstalling plotly-5.5.0:\n",
      "      Successfully uninstalled plotly-5.5.0\n",
      "Successfully installed Graphillion-1.5 aiohttp-cors-0.7.0 blessed-1.19.1 colorful-0.5.5 distlib-0.3.6 gpustat-1.0.0 igraph-0.10.2 nvidia-ml-py-11.495.46 opencensus-0.11.0 opencensus-context-0.1.3 ordered-set-4.1.0 plotly-5.11.0 prometheus-client-0.13.1 psutil-5.9.4 py-spy-0.3.14 pyphi-1.2.0 ray-2.2.0 redis-4.4.0 texttable-1.6.7 virtualenv-20.17.1\n"
     ]
    }
   ],
   "source": [
    "!python -m pip install git+https://github.com/isacdaavid/pyphi.git@feature/iit-4.0"
   ]
  },
  {
   "cell_type": "code",
   "execution_count": 18,
   "id": "2636ae3c",
   "metadata": {
    "colab": {
     "base_uri": "https://localhost:8080/"
    },
    "execution": {
     "iopub.execute_input": "2023-01-10T20:47:47.155236Z",
     "iopub.status.busy": "2023-01-10T20:47:47.154494Z",
     "iopub.status.idle": "2023-01-10T20:47:47.189537Z",
     "shell.execute_reply": "2023-01-10T20:47:47.188459Z",
     "shell.execute_reply.started": "2023-01-10T20:47:47.155183Z"
    },
    "id": "2636ae3c",
    "outputId": "7eaf63a1-0a47-4b63-dcab-8679f11c4c80"
   },
   "outputs": [],
   "source": [
    "import pyphi\n",
    "import math\n",
    "import numpy as np\n",
    "\n",
    "pyphi.config.PROGRESS_BARS = False\n",
    "pyphi.config.PARALLEL_COMPLEX_EVALUATION = False\n",
    "pyphi.config.PARALLEL_CONCEPT_EVALUATION = False\n",
    "pyphi.config.PARALLEL_CONCEPT_EVALUATION = False\n",
    "pyphi.config.PARALLEL_CUT_EVALUATION = False\n",
    "pyphi.config.PARALLEL_PURVIEW_EVALUATION = math.inf\n",
    "pyphi.config.PARALLEL_MECHANISM_PARTITION_EVALUATION = False"
   ]
  },
  {
   "cell_type": "markdown",
   "id": "8f2ca108",
   "metadata": {
    "id": "8f2ca108"
   },
   "source": [
    "## Loading system data\n",
    "\n",
    "This tutorial will be based on the second system from Figure 7-C:\n",
    "_\"Functionally equivalent networks with different Φ-structures\"_.\n",
    "\n",
    "![IIT_4.0_demo_system.png](data:image/png;base64,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)\n",
    "\n",
    "Background conditions (nodes \"I\" and \"O\") have already been fixed to\n",
    "\"I\"=ON, \"O\"=ON in the hypothetical 5-node Transition Probability Matrix (TPM).\n",
    "Therefore, we will start from a TPM which only contains nodes \"A\", \"B\", \"C\"."
   ]
  },
  {
   "cell_type": "code",
   "execution_count": 19,
   "id": "25da39dd",
   "metadata": {
    "execution": {
     "iopub.execute_input": "2023-01-10T20:47:48.146725Z",
     "iopub.status.busy": "2023-01-10T20:47:48.145986Z",
     "iopub.status.idle": "2023-01-10T20:47:48.156202Z",
     "shell.execute_reply": "2023-01-10T20:47:48.154447Z",
     "shell.execute_reply.started": "2023-01-10T20:47:48.146687Z"
    },
    "id": "25da39dd"
   },
   "outputs": [],
   "source": [
    "import pyphi\n",
    "import numpy as np\n",
    "\n",
    "node_labels = (\"A\", \"B\", \"C\")\n",
    "\n",
    "# TPM in state-by-node format (see `help(pyphi.Network)` for information on TPM\n",
    "# representations).\n",
    "tpm = np.array([\n",
    "    [1, 0, 0],\n",
    "    [0, 1, 0],\n",
    "    [1, 1, 1],\n",
    "    [0, 1, 1],\n",
    "    [0, 0, 0],\n",
    "    [1, 1, 0],\n",
    "    [0, 0, 1],\n",
    "    [1, 0, 1],\n",
    "])\n",
    "\n",
    "# The network's adjacency matrix. In its absence, PyPhi will assume all-to-all\n",
    "# connectivity.\n",
    "connectivity_matrix = np.array([\n",
    "    [1, 1, 0,],                 # A->A, A->B\n",
    "    [0, 1, 1,],                 # B->B, B->C\n",
    "    [1, 1, 1,],                 # C->A, C->B, C->C\n",
    "])"
   ]
  },
  {
   "cell_type": "markdown",
   "id": "2adf287f",
   "metadata": {
    "id": "2adf287f"
   },
   "source": [
    "We begin by instantiating a `Network` object. This holds the physical\n",
    "substrate, which serves as the operational starting point to assess the causal\n",
    "powers and intrinsic properties of a system."
   ]
  },
  {
   "cell_type": "code",
   "execution_count": 20,
   "id": "e0defd4d",
   "metadata": {
    "colab": {
     "base_uri": "https://localhost:8080/"
    },
    "execution": {
     "iopub.execute_input": "2023-01-10T20:47:49.011774Z",
     "iopub.status.busy": "2023-01-10T20:47:49.011123Z",
     "iopub.status.idle": "2023-01-10T20:47:49.019862Z",
     "shell.execute_reply": "2023-01-10T20:47:49.018822Z",
     "shell.execute_reply.started": "2023-01-10T20:47:49.011736Z"
    },
    "id": "e0defd4d",
    "outputId": "de81970c-fb20-461b-de11-a8fc99b60efc"
   },
   "outputs": [
    {
     "data": {
      "text/plain": [
       "Network(ExplicitTPM([[[[1. 0. 0.]\n",
       "   [0. 0. 0.]]\n",
       "\n",
       "  [[1. 1. 1.]\n",
       "   [0. 0. 1.]]]\n",
       "\n",
       "\n",
       " [[[0. 1. 0.]\n",
       "   [1. 1. 0.]]\n",
       "\n",
       "  [[0. 1. 1.]\n",
       "   [1. 0. 1.]]]]), cm=[[1 1 0]\n",
       " [0 1 1]\n",
       " [1 1 1]])"
      ]
     },
     "execution_count": 20,
     "metadata": {},
     "output_type": "execute_result"
    }
   ],
   "source": [
    "network = pyphi.Network(tpm, cm=connectivity_matrix, node_labels=node_labels)\n",
    "network"
   ]
  },
  {
   "cell_type": "markdown",
   "id": "775104dd",
   "metadata": {
    "id": "775104dd"
   },
   "source": [
    "Then we instantiate a `Subsystem` object. All further analysis of the resulting\n",
    "`candidate_system` will be performed for a `state` of interest.\n",
    "Here we use the full network (\"A\", \"B\", \"C\").\n",
    "In general, system nodes that are excluded from the keyword argument `nodes` act\n",
    "as fixed background units to the analysis, which means that the TPM is\n",
    "conditioned on their respective state as specified by `state`."
   ]
  },
  {
   "cell_type": "code",
   "execution_count": 21,
   "id": "0228654d",
   "metadata": {
    "colab": {
     "base_uri": "https://localhost:8080/"
    },
    "execution": {
     "iopub.execute_input": "2023-01-10T20:47:49.814682Z",
     "iopub.status.busy": "2023-01-10T20:47:49.813927Z",
     "iopub.status.idle": "2023-01-10T20:47:49.823969Z",
     "shell.execute_reply": "2023-01-10T20:47:49.822836Z",
     "shell.execute_reply.started": "2023-01-10T20:47:49.814647Z"
    },
    "id": "0228654d",
    "outputId": "644d861e-546c-4ad9-d9a3-971423187eee"
   },
   "outputs": [
    {
     "data": {
      "text/plain": [
       "Subsystem(A, B, C)"
      ]
     },
     "execution_count": 21,
     "metadata": {},
     "output_type": "execute_result"
    }
   ],
   "source": [
    "# A=ON, B=OFF, C=OFF (Abc in Figure 7).\n",
    "state = (1, 0, 0)\n",
    "\n",
    "candidate_system = pyphi.Subsystem(network, state, nodes=node_labels)\n",
    "candidate_system"
   ]
  },
  {
   "cell_type": "markdown",
   "id": "95b5fc3f",
   "metadata": {
    "id": "95b5fc3f"
   },
   "source": [
    "# System Irreducibility Analysis: identifying complexes\n",
    "\n",
    "From the System Irreducibility Analysis (SIA), we can see that the\n",
    "`candidate_system` in state `(1, 0, 0)` exists (it has a both cause and effect power, since II_c > 0 and II_e > 0) in a way that is intrinsic (within the system\n",
    "ABC), informative (the cause and effect are specific states of system ABC), and\n",
    "integrated ($φ_s$ > 0 for the minimum partition MIP)."
   ]
  },
  {
   "cell_type": "code",
   "execution_count": 22,
   "id": "c381a229",
   "metadata": {
    "colab": {
     "base_uri": "https://localhost:8080/"
    },
    "execution": {
     "iopub.execute_input": "2023-01-10T20:47:50.265102Z",
     "iopub.status.busy": "2023-01-10T20:47:50.264355Z",
     "iopub.status.idle": "2023-01-10T20:47:50.351573Z",
     "shell.execute_reply": "2023-01-10T20:47:50.350323Z",
     "shell.execute_reply.started": "2023-01-10T20:47:50.265049Z"
    },
    "id": "c381a229",
    "outputId": "608a0e9a-127f-4cd4-db51-5d404c5186bd"
   },
   "outputs": [
    {
     "data": {
      "text/plain": [
       "┌──────────────────────────────────┐\n",
       "│ SystemIrreducibilityAnalysis     │\n",
       "│ ━━━━━━━━━━━━━━━━━━━━━━━━━━━      │\n",
       "│      Subsystem:  A,B,C           │\n",
       "│  Current state:  1,0,0           │\n",
       "│            φ_s: 2.0              │\n",
       "│ Normalized φ_s: 0.4              │\n",
       "│          CAUSE:  (0, 0, 0)       │\n",
       "│           II_c: 3.0              │\n",
       "│         EFFECT:  (0, 1, 0)       │\n",
       "│           II_e: 3.0              │\n",
       "│   #(tied MIPs): 2                │\n",
       "│      Partition:                  │\n",
       "│                 3 parts: {A,B,C} │\n",
       "│                 [[0 0 1]         │\n",
       "│                  [1 0 1]         │\n",
       "│                  [1 1 0]]        │\n",
       "└──────────────────────────────────┘"
      ]
     },
     "execution_count": 22,
     "metadata": {},
     "output_type": "execute_result"
    }
   ],
   "source": [
    "sia = pyphi.new_big_phi.sia(candidate_system)\n",
    "sia"
   ]
  },
  {
   "cell_type": "markdown",
   "id": "4bdfed41",
   "metadata": {
    "id": "4bdfed41"
   },
   "source": [
    "Two tied minimum partitions (MIPs) were found, one of which cuts the\n",
    "`candidate_system` into three parts. The 1's in the partition matrix\n",
    "indicate connections that are severed. Note that system partitions are directed,\n",
    "so the matrix may be asymmetric."
   ]
  },
  {
   "cell_type": "code",
   "execution_count": 23,
   "id": "706ff35b",
   "metadata": {
    "colab": {
     "base_uri": "https://localhost:8080/"
    },
    "execution": {
     "iopub.execute_input": "2023-01-10T20:47:50.906614Z",
     "iopub.status.busy": "2023-01-10T20:47:50.905765Z",
     "iopub.status.idle": "2023-01-10T20:47:50.917449Z",
     "shell.execute_reply": "2023-01-10T20:47:50.916056Z",
     "shell.execute_reply.started": "2023-01-10T20:47:50.906553Z"
    },
    "id": "706ff35b",
    "outputId": "b23e7abc-a435-4838-8fb4-ae302fa2043c"
   },
   "outputs": [
    {
     "data": {
      "text/plain": [
       "3 parts: {A,B,C}\n",
       "[[0 0 1]\n",
       " [1 0 1]\n",
       " [1 1 0]]"
      ]
     },
     "execution_count": 23,
     "metadata": {},
     "output_type": "execute_result"
    }
   ],
   "source": [
    "sia.partition"
   ]
  },
  {
   "cell_type": "markdown",
   "id": "abaa93f3",
   "metadata": {
    "id": "abaa93f3"
   },
   "source": [
    "We can access properties which hold the corresponding system integrated\n",
    "information ($φ_s$, its minimal irreducibility), and a normalized\n",
    "system integrated information ($φ_s$ divided by the maximum $φ_s$ that\n",
    "could be obtained for a system of three nodes)."
   ]
  },
  {
   "cell_type": "code",
   "execution_count": 24,
   "id": "eb5682c6",
   "metadata": {
    "colab": {
     "base_uri": "https://localhost:8080/"
    },
    "execution": {
     "iopub.execute_input": "2023-01-10T20:47:51.258986Z",
     "iopub.status.busy": "2023-01-10T20:47:51.258062Z",
     "iopub.status.idle": "2023-01-10T20:47:51.266954Z",
     "shell.execute_reply": "2023-01-10T20:47:51.265419Z",
     "shell.execute_reply.started": "2023-01-10T20:47:51.258918Z"
    },
    "id": "eb5682c6",
    "outputId": "fccf312d-9208-41b7-80c8-017fbaf92565"
   },
   "outputs": [
    {
     "name": "stdout",
     "output_type": "stream",
     "text": [
      "φ_s = 2.0\n",
      "φ_s_norm = 0.4\n"
     ]
    }
   ],
   "source": [
    "print(f\"φ_s = {sia.phi}\")\n",
    "print(f\"φ_s_norm = {sia.normalized_phi}\")"
   ]
  },
  {
   "cell_type": "markdown",
   "id": "0f9619f7",
   "metadata": {
    "id": "0f9619f7"
   },
   "source": [
    "By the principle of minimal existence, $φ_s$ must be the minimum between the $φ$\n",
    "of the maximally irreducible cause and the maximally irreducible effect within\n",
    "the `candidate_system` itself. For this particular `candidate_system` at the\n",
    "current particular `state`, it turns out cause and effect are equally\n",
    "irreducible."
   ]
  },
  {
   "cell_type": "code",
   "execution_count": 25,
   "id": "73fae529",
   "metadata": {
    "colab": {
     "base_uri": "https://localhost:8080/"
    },
    "execution": {
     "iopub.execute_input": "2023-01-10T20:47:51.615111Z",
     "iopub.status.busy": "2023-01-10T20:47:51.614422Z",
     "iopub.status.idle": "2023-01-10T20:47:51.622948Z",
     "shell.execute_reply": "2023-01-10T20:47:51.621525Z",
     "shell.execute_reply.started": "2023-01-10T20:47:51.615068Z"
    },
    "id": "73fae529",
    "outputId": "8398b154-d0a5-4325-8de6-1c310fccfdec"
   },
   "outputs": [
    {
     "name": "stdout",
     "output_type": "stream",
     "text": [
      "2.0\n",
      "2.0\n"
     ]
    }
   ],
   "source": [
    "print(sia.cause.phi)\n",
    "print(sia.effect.phi)"
   ]
  },
  {
   "cell_type": "markdown",
   "id": "cad6eb80",
   "metadata": {
    "id": "cad6eb80"
   },
   "source": [
    "## Maximal cause-effect state\n",
    "\n",
    "Let's look more closely at one of them:"
   ]
  },
  {
   "cell_type": "code",
   "execution_count": 26,
   "id": "97bbb0f5",
   "metadata": {
    "colab": {
     "base_uri": "https://localhost:8080/"
    },
    "execution": {
     "iopub.execute_input": "2023-01-10T20:47:51.984024Z",
     "iopub.status.busy": "2023-01-10T20:47:51.983328Z",
     "iopub.status.idle": "2023-01-10T20:47:51.994829Z",
     "shell.execute_reply": "2023-01-10T20:47:51.993740Z",
     "shell.execute_reply.started": "2023-01-10T20:47:51.983971Z"
    },
    "id": "97bbb0f5",
    "outputId": "6c78ab0b-eab1-4451-ca7a-0dddb8ada8c7"
   },
   "outputs": [
    {
     "data": {
      "text/plain": [
       "Repertoire irreducibility analysis\n",
       "  φ = 2\n",
       "  Normalized φ = None\n",
       "  Mechanism: [A,B,C]\n",
       "  Purview: [A,B,C]\n",
       "  Specified state:\n",
       "  ┌─────────────────────┐\n",
       "  │   Specified EFFECT  │\n",
       "  │ ╍╍╍╍╍╍╍╍╍╍╍╍╍╍╍╍╍╍╍ │\n",
       "  │ EFFECT:  (0, 1, 0)  │\n",
       "  │   II_e: 3.0         │\n",
       "  └─────────────────────┘\n",
       "  Direction: EFFECT\n",
       "  Partition:\n",
       "    3 parts: {A,B,C}\n",
       "    [[0 0 1]\n",
       "     [1 0 1]\n",
       "     [1 1 0]]\n",
       "  Forward probability: \n",
       "      1.0\n",
       "  Partitioned forward probability:\n",
       "      0.25\n",
       "  #(state ties): 0\n",
       "  #(partition ties): 0"
      ]
     },
     "execution_count": 26,
     "metadata": {},
     "output_type": "execute_result"
    }
   ],
   "source": [
    "sia.effect"
   ]
  },
  {
   "cell_type": "markdown",
   "id": "d30559c5",
   "metadata": {
    "id": "d30559c5"
   },
   "source": [
    "Recall that $φ_s$ is evaluated for a specific cause or effect state, which is\n",
    "defined as the state that maximizes intrinsic information ($ii$). We can\n",
    "inspect this state:"
   ]
  },
  {
   "cell_type": "code",
   "execution_count": 27,
   "id": "8d503c34",
   "metadata": {
    "colab": {
     "base_uri": "https://localhost:8080/"
    },
    "execution": {
     "iopub.execute_input": "2023-01-10T20:47:52.447819Z",
     "iopub.status.busy": "2023-01-10T20:47:52.446993Z",
     "iopub.status.idle": "2023-01-10T20:47:52.457523Z",
     "shell.execute_reply": "2023-01-10T20:47:52.456081Z",
     "shell.execute_reply.started": "2023-01-10T20:47:52.447760Z"
    },
    "id": "8d503c34",
    "outputId": "90fe9df5-c397-486c-be3a-ebf156d2a160"
   },
   "outputs": [
    {
     "data": {
      "text/plain": [
       "┌─────────────────────┐\n",
       "│   Specified EFFECT  │\n",
       "│ ╍╍╍╍╍╍╍╍╍╍╍╍╍╍╍╍╍╍╍ │\n",
       "│ EFFECT:  (0, 1, 0)  │\n",
       "│   II_e: 3.0         │\n",
       "└─────────────────────┘"
      ]
     },
     "execution_count": 27,
     "metadata": {},
     "output_type": "execute_result"
    }
   ],
   "source": [
    "sia.effect.specified_state"
   ]
  },
  {
   "cell_type": "markdown",
   "id": "b9a8f5ce",
   "metadata": {
    "id": "b9a8f5ce"
   },
   "source": [
    "Let's go deeper into PyPhi's API to recompute the specified effect state:"
   ]
  },
  {
   "cell_type": "code",
   "execution_count": 28,
   "id": "54c2a656",
   "metadata": {
    "colab": {
     "base_uri": "https://localhost:8080/"
    },
    "execution": {
     "iopub.execute_input": "2023-01-10T20:47:52.930496Z",
     "iopub.status.busy": "2023-01-10T20:47:52.929738Z",
     "iopub.status.idle": "2023-01-10T20:47:52.941151Z",
     "shell.execute_reply": "2023-01-10T20:47:52.939890Z",
     "shell.execute_reply.started": "2023-01-10T20:47:52.930440Z"
    },
    "id": "54c2a656",
    "outputId": "7fb1b6d3-4fd9-4fa7-89d0-ee6bda6bc742"
   },
   "outputs": [
    {
     "data": {
      "text/plain": [
       "┌─────────────────────┐\n",
       "│   Specified EFFECT  │\n",
       "│ ╍╍╍╍╍╍╍╍╍╍╍╍╍╍╍╍╍╍╍ │\n",
       "│ EFFECT:  (0, 1, 0)  │\n",
       "│   II_e: 3.0         │\n",
       "└─────────────────────┘"
      ]
     },
     "execution_count": 28,
     "metadata": {},
     "output_type": "execute_result"
    }
   ],
   "source": [
    "maximal_effect_state = candidate_system.intrinsic_information(\n",
    "    direction=pyphi.Direction.EFFECT,\n",
    "    mechanism=candidate_system.node_indices,\n",
    "    purview=candidate_system.node_indices,\n",
    ")\n",
    "\n",
    "# Note: You can use also\n",
    "# `pyphi.new_big_phi.system_intrinsic_information(candidate_system)`\n",
    "# to obtain both cause and effect states at once.\n",
    "\n",
    "maximal_effect_state"
   ]
  },
  {
   "cell_type": "markdown",
   "id": "39b3579b",
   "metadata": {
    "id": "39b3579b"
   },
   "source": [
    "## System integrated information\n",
    "\n",
    "Let's use PyPhi to recompute `sia.effect` and $φ_s$. We will use the fact\n",
    "that we already know the MIP to avoid going through all partitions."
   ]
  },
  {
   "cell_type": "code",
   "execution_count": 29,
   "id": "4b0a27db",
   "metadata": {
    "execution": {
     "iopub.execute_input": "2023-01-10T20:47:53.379025Z",
     "iopub.status.busy": "2023-01-10T20:47:53.378345Z",
     "iopub.status.idle": "2023-01-10T20:47:53.394997Z",
     "shell.execute_reply": "2023-01-10T20:47:53.393962Z",
     "shell.execute_reply.started": "2023-01-10T20:47:53.378986Z"
    },
    "id": "4b0a27db"
   },
   "outputs": [],
   "source": [
    "# Note: the full set of system partitions may be manually computed by invoking:\n",
    "system_partitions = pyphi.partition.system_partitions(\n",
    "    candidate_system.node_indices,\n",
    "    node_labels=candidate_system.node_labels\n",
    ")\n",
    "\n",
    "cut_candidate_system = candidate_system.apply_cut(sia.partition)\n",
    "\n",
    "maximal_effect_state = pyphi.new_big_phi.system_intrinsic_information(\n",
    "    candidate_system\n",
    ")"
   ]
  },
  {
   "cell_type": "markdown",
   "id": "ea2073ec",
   "metadata": {
    "id": "ea2073ec"
   },
   "source": [
    "We can now compute the integration value with respect to a direction,\n",
    "`candidate_system`, `cut_candidate_system` and the `maximal_effect_state` we\n",
    "had already obtained."
   ]
  },
  {
   "cell_type": "code",
   "execution_count": 30,
   "id": "bff80ba7",
   "metadata": {
    "colab": {
     "base_uri": "https://localhost:8080/"
    },
    "execution": {
     "iopub.execute_input": "2023-01-10T20:47:54.285564Z",
     "iopub.status.busy": "2023-01-10T20:47:54.285010Z",
     "iopub.status.idle": "2023-01-10T20:47:54.294898Z",
     "shell.execute_reply": "2023-01-10T20:47:54.293963Z",
     "shell.execute_reply.started": "2023-01-10T20:47:54.285530Z"
    },
    "id": "bff80ba7",
    "outputId": "8dcc2c0f-a22c-4d83-8151-6bf9ba792179"
   },
   "outputs": [
    {
     "data": {
      "text/plain": [
       "Repertoire irreducibility analysis\n",
       "  φ = 2\n",
       "  Normalized φ = None\n",
       "  Mechanism: [A,B,C]\n",
       "  Purview: [A,B,C]\n",
       "  Specified state:\n",
       "  ┌─────────────────────┐\n",
       "  │   Specified EFFECT  │\n",
       "  │ ╍╍╍╍╍╍╍╍╍╍╍╍╍╍╍╍╍╍╍ │\n",
       "  │ EFFECT:  (0, 1, 0)  │\n",
       "  │   II_e: 3.0         │\n",
       "  └─────────────────────┘\n",
       "  Direction: EFFECT\n",
       "  Partition:\n",
       "    3 parts: {A,B,C}\n",
       "    [[0 0 1]\n",
       "     [1 0 1]\n",
       "     [1 1 0]]\n",
       "  Forward probability: \n",
       "      1.0\n",
       "  Partitioned forward probability:\n",
       "      0.25\n",
       "  #(state ties): 0\n",
       "  #(partition ties): 0"
      ]
     },
     "execution_count": 30,
     "metadata": {},
     "output_type": "execute_result"
    }
   ],
   "source": [
    "ria = pyphi.new_big_phi.integration_value(\n",
    "    pyphi.Direction.EFFECT,\n",
    "    candidate_system,\n",
    "    cut_candidate_system,\n",
    "    maximal_effect_state\n",
    ")\n",
    "ria"
   ]
  },
  {
   "cell_type": "markdown",
   "id": "3af07111",
   "metadata": {
    "id": "3af07111"
   },
   "source": [
    "## Exclusion: identifying the first complex\n",
    "\n",
    "We know the `candidate_system` is irreducible. But is it maximally\n",
    "irreducible? We will go through all its subsets, computing system\n",
    "irreducibility analyses for all of them.\n",
    "\n",
    "Indeed, in this case the full `candidate_subsystem` composed of nodes \"A\", \"b\", \"c\"\n",
    "wins over all its subsets (note that in general, the largest subset is not necessarily the maximally irreducible one)."
   ]
  },
  {
   "cell_type": "code",
   "execution_count": 31,
   "id": "d3661959",
   "metadata": {
    "colab": {
     "base_uri": "https://localhost:8080/"
    },
    "execution": {
     "iopub.execute_input": "2023-01-10T20:47:55.229083Z",
     "iopub.status.busy": "2023-01-10T20:47:55.228313Z",
     "iopub.status.idle": "2023-01-10T20:47:55.333165Z",
     "shell.execute_reply": "2023-01-10T20:47:55.331628Z",
     "shell.execute_reply.started": "2023-01-10T20:47:55.229031Z"
    },
    "id": "d3661959",
    "outputId": "bd3be88b-6c3d-473e-a1a6-bdb83eb1fa0c"
   },
   "outputs": [
    {
     "name": "stdout",
     "output_type": "stream",
     "text": [
      "φ_s = 2.0 (A, B, C)\n",
      "φ_s = 0.0 (A, C)\n",
      "φ_s = 0.0 (A, B)\n",
      "φ_s = 0.0 (C,)\n",
      "φ_s = 1.0 (A,)\n"
     ]
    },
    {
     "data": {
      "text/plain": [
       "┌──────────────────────────────────┐\n",
       "│ SystemIrreducibilityAnalysis     │\n",
       "│ ━━━━━━━━━━━━━━━━━━━━━━━━━━━      │\n",
       "│      Subsystem:  A,B,C           │\n",
       "│  Current state:  1,0,0           │\n",
       "│            φ_s: 2.0              │\n",
       "│ Normalized φ_s: 0.4              │\n",
       "│          CAUSE:  (0, 0, 0)       │\n",
       "│           II_c: 3.0              │\n",
       "│         EFFECT:  (0, 1, 0)       │\n",
       "│           II_e: 3.0              │\n",
       "│   #(tied MIPs): 2                │\n",
       "│      Partition:                  │\n",
       "│                 3 parts: {A,B,C} │\n",
       "│                 [[0 0 1]         │\n",
       "│                  [1 0 1]         │\n",
       "│                  [1 1 0]]        │\n",
       "└──────────────────────────────────┘"
      ]
     },
     "execution_count": 31,
     "metadata": {},
     "output_type": "execute_result"
    }
   ],
   "source": [
    "def find_first_complex(candidate_system, all_sias):\n",
    "    \"\"\"Return the SIA of the first complex from a list of SIAs.\n",
    "    \"\"\"\n",
    "    best_phi = 0.0\n",
    "\n",
    "    for sia in all_sias:\n",
    "        node_labels = candidate_system.indices2nodes(sia.node_indices)\n",
    "        print(f\"φ_s = {sia.phi} {node_labels}\")\n",
    "        if sia.phi > best_phi:\n",
    "            first_complex = sia\n",
    "            best_phi = first_complex.phi\n",
    "\n",
    "    return first_complex\n",
    "\n",
    "all_sias = pyphi.new_big_phi.all_complexes(network, state)\n",
    "\n",
    "find_first_complex(candidate_system, all_sias)\n",
    "first_complex_sia"
   ]
  },
  {
   "cell_type": "markdown",
   "id": "CJcJziuiIQzO",
   "metadata": {
    "id": "CJcJziuiIQzO"
   },
   "source": [
    "Note that PyPhi's API includes a function for finding this complex:"
   ]
  },
  {
   "cell_type": "code",
   "execution_count": 47,
   "id": "5ksJE5svHXDZ",
   "metadata": {
    "colab": {
     "base_uri": "https://localhost:8080/"
    },
    "execution": {
     "iopub.execute_input": "2023-01-10T20:50:10.425744Z",
     "iopub.status.busy": "2023-01-10T20:50:10.424648Z",
     "iopub.status.idle": "2023-01-10T20:50:10.530623Z",
     "shell.execute_reply": "2023-01-10T20:50:10.529477Z",
     "shell.execute_reply.started": "2023-01-10T20:50:10.425681Z"
    },
    "id": "5ksJE5svHXDZ",
    "outputId": "c0c1abbb-4791-404b-9681-9ead63bd7b39",
    "tags": []
   },
   "outputs": [
    {
     "data": {
      "text/plain": [
       "┌──────────────────────────────────┐\n",
       "│ SystemIrreducibilityAnalysis     │\n",
       "│ ━━━━━━━━━━━━━━━━━━━━━━━━━━━      │\n",
       "│      Subsystem:  A,B,C           │\n",
       "│  Current state:  1,0,0           │\n",
       "│            φ_s: 2.0              │\n",
       "│ Normalized φ_s: 0.4              │\n",
       "│          CAUSE:  (0, 0, 0)       │\n",
       "│           II_c: 3.0              │\n",
       "│         EFFECT:  (0, 1, 0)       │\n",
       "│           II_e: 3.0              │\n",
       "│   #(tied MIPs): 2                │\n",
       "│      Partition:                  │\n",
       "│                 3 parts: {A,B,C} │\n",
       "│                 [[0 0 1]         │\n",
       "│                  [1 0 1]         │\n",
       "│                  [1 1 0]]        │\n",
       "└──────────────────────────────────┘"
      ]
     },
     "execution_count": 47,
     "metadata": {},
     "output_type": "execute_result"
    }
   ],
   "source": [
    "pyphi.new_big_phi.maximal_complex(network, candidate_system.state)"
   ]
  },
  {
   "cell_type": "markdown",
   "id": "10b7b523",
   "metadata": {
    "id": "10b7b523"
   },
   "source": [
    "# Distinctions\n",
    "\n",
    "Now that the maximal complex or physical substrate of consciousness has been\n",
    "identified, we can \"unfold\" the substrate to examine the compositional structure of the distinctions it specifies and the relations among them.\n",
    "\n",
    "Note: We will keep referring to the `candidate_subsystem`.\n",
    "\n",
    "For example, does mechanism \"A\" specify an irreducible distinction? Yes, it is:"
   ]
  },
  {
   "cell_type": "code",
   "execution_count": 46,
   "id": "261eeb8d",
   "metadata": {
    "colab": {
     "base_uri": "https://localhost:8080/"
    },
    "execution": {
     "iopub.execute_input": "2023-01-10T20:50:07.550487Z",
     "iopub.status.busy": "2023-01-10T20:50:07.549059Z",
     "iopub.status.idle": "2023-01-10T20:50:07.562019Z",
     "shell.execute_reply": "2023-01-10T20:50:07.560725Z",
     "shell.execute_reply.started": "2023-01-10T20:50:07.550423Z"
    },
    "id": "261eeb8d",
    "outputId": "2b627f4d-5ce4-43d1-b1d4-3253ae7544fd",
    "tags": []
   },
   "outputs": [
    {
     "data": {
      "text/plain": [
       "━━━━━━━━━━━━━━━━━━━━━━━━━━━━━━━━━━━━━━━━━━━━━━━━━━━━━━━━━━━━━━━━━━━━━━━━━━━━━━\n",
       "Distinction: mechanism = [A], state = [1]\n",
       "           φ = 0.4387218755409           \n",
       "━━━━━━━━━━━━━━━━━━━━━━━━━━━━━━━━━━━━━━━━━━━━━━━━━━━━━━━━━━━━━━━━━━━━━━━━━━━━━━\n",
       "┌─────────────────────────────────────┐┌─────────────────────────────────────┐\n",
       "│  Maximally-irreducible cause        ││  Maximally-irreducible effect       │\n",
       "│    φ = 1/2                          ││    φ = 0.4387218755409              │\n",
       "│    Normalized φ = 1/4               ││    Normalized φ = 0.4387218755409   │\n",
       "│    Mechanism: [A]                   ││    Mechanism: [A]                   │\n",
       "│    Purview: [A,C]                   ││    Purview: [B]                     │\n",
       "│    Specified state:                 ││    Specified state:                 │\n",
       "│    ┌─────────────────┐              ││    ┌─────────────────────────────┐  │\n",
       "│    │ Specified CAUSE │              ││    │       Specified EFFECT      │  │\n",
       "│    │ ╍╍╍╍╍╍╍╍╍╍╍╍╍╍╍ │              ││    │ ╍╍╍╍╍╍╍╍╍╍╍╍╍╍╍╍╍╍╍╍╍╍╍╍╍╍╍ │  │\n",
       "│    │ CAUSE:  (0, 0)  │              ││    │ EFFECT:  (1,)               │  │\n",
       "│    │  II_c: 0.5      │              ││    │   II_e: 0.43872187554086717 │  │\n",
       "│    └─────────────────┘              ││    └─────────────────────────────┘  │\n",
       "│    Direction: CAUSE                 ││    Direction: EFFECT                │\n",
       "│    MIP:                             ││    MIP:                             │\n",
       "│       A     ∅                       ││       A     ∅                       │\n",
       "│      ─── ✕ ───                      ││      ─── ✕ ───                      │\n",
       "│       ∅    A,C                      ││       ∅     B                       │\n",
       "│    Forward probability:             ││    Forward probability:             │\n",
       "│        1.0                          ││        0.75                         │\n",
       "│    Partitioned forward probability: ││    Partitioned forward probability: │\n",
       "│        0.5                          ││        0.5                          │\n",
       "│    #(state ties): 1                 ││    #(state ties): 0                 │\n",
       "│    #(partition ties): 0             ││    #(partition ties): 0             │\n",
       "│    #(purview ties): 0               ││    #(purview ties): 0               │\n",
       "└─────────────────────────────────────┘└─────────────────────────────────────┘"
      ]
     },
     "execution_count": 46,
     "metadata": {},
     "output_type": "execute_result"
    }
   ],
   "source": [
    "mechanism = (0,)\n",
    "\n",
    "# Note: Mechanism partitions are represented as fractions, with\n",
    "# mechanism parts in the numerator and purview parts in the denominator.\n",
    "\n",
    "candidate_system.concept(mechanism)"
   ]
  },
  {
   "cell_type": "markdown",
   "id": "e1ae29f8",
   "metadata": {
    "id": "e1ae29f8"
   },
   "source": [
    "Does the higher-order mechanism \"Ab\" form an irreducible distinction? It does:"
   ]
  },
  {
   "cell_type": "code",
   "execution_count": 44,
   "id": "51b1b44b",
   "metadata": {
    "colab": {
     "base_uri": "https://localhost:8080/"
    },
    "execution": {
     "iopub.execute_input": "2023-01-10T20:49:53.413009Z",
     "iopub.status.busy": "2023-01-10T20:49:53.412468Z",
     "iopub.status.idle": "2023-01-10T20:49:53.422633Z",
     "shell.execute_reply": "2023-01-10T20:49:53.421582Z",
     "shell.execute_reply.started": "2023-01-10T20:49:53.412977Z"
    },
    "id": "51b1b44b",
    "outputId": "45eea5de-ad5b-457e-ac50-aa004335d827",
    "tags": []
   },
   "outputs": [
    {
     "data": {
      "text/plain": [
       "━━━━━━━━━━━━━━━━━━━━━━━━━━━━━━━━━━━━━━━━━━━━━━━━━━━━━━━━━━━━━━━━━━━━━━━━━━━━━━\n",
       "Distinction: mechanism = [A,B], state = [1, 0]\n",
       "             φ = 0.4150374992788              \n",
       "━━━━━━━━━━━━━━━━━━━━━━━━━━━━━━━━━━━━━━━━━━━━━━━━━━━━━━━━━━━━━━━━━━━━━━━━━━━━━━\n",
       "┌─────────────────────────────────────┐┌─────────────────────────────────────┐\n",
       "│  Maximally-irreducible cause        ││  Maximally-irreducible effect       │\n",
       "│    φ = 1/2                          ││    φ = 0.4150374992788              │\n",
       "│    Normalized φ = 1/8               ││    Normalized φ = 0.4150374992788   │\n",
       "│    Mechanism: [A,B]                 ││    Mechanism: [A,B]                 │\n",
       "│    Purview: [A,B,C]                 ││    Purview: [B]                     │\n",
       "│    Specified state:                 ││    Specified state:                 │\n",
       "│    ┌────────────────────┐           ││    ┌──────────────────┐             │\n",
       "│    │  Specified CAUSE   │           ││    │ Specified EFFECT │             │\n",
       "│    │ ╍╍╍╍╍╍╍╍╍╍╍╍╍╍╍╍╍╍ │           ││    │  ╍╍╍╍╍╍╍╍╍╍╍╍╍╍  │             │\n",
       "│    │ CAUSE:  (0, 0, 0)  │           ││    │  EFFECT:  (1,)   │             │\n",
       "│    │  II_c: 1.0         │           ││    │    II_e: 1.0     │             │\n",
       "│    └────────────────────┘           ││    └──────────────────┘             │\n",
       "│    Direction: CAUSE                 ││    Direction: EFFECT                │\n",
       "│    MIP:                             ││    MIP:                             │\n",
       "│       A     B     ∅                 ││       A     B     ∅                 │\n",
       "│      ─── ✕ ─── ✕ ───                ││      ─── ✕ ─── ✕ ───                │\n",
       "│       ∅    A,B    C                 ││       B     ∅     ∅                 │\n",
       "│    Forward probability:             ││    Forward probability:             │\n",
       "│        1.0                          ││        1.0                          │\n",
       "│    Partitioned forward probability: ││    Partitioned forward probability: │\n",
       "│        0.5                          ││        0.75                         │\n",
       "│    #(state ties): 1                 ││    #(state ties): 0                 │\n",
       "│    #(partition ties): 1             ││    #(partition ties): 0             │\n",
       "│    #(purview ties): 0               ││    #(purview ties): 1               │\n",
       "└─────────────────────────────────────┘└─────────────────────────────────────┘"
      ]
     },
     "execution_count": 44,
     "metadata": {},
     "output_type": "execute_result"
    }
   ],
   "source": [
    "mechanism = (0, 1)\n",
    "candidate_system.concept(mechanism)"
   ]
  },
  {
   "cell_type": "markdown",
   "id": "55e36438",
   "metadata": {
    "id": "55e36438"
   },
   "source": [
    "What about mechanism \"A\", \"c\"? This mechanism does not contribute a\n",
    "distinction to the cause-effect structure of the complex, because it is\n",
    "reducible on the cause side:"
   ]
  },
  {
   "cell_type": "code",
   "execution_count": 43,
   "id": "fd3fe397",
   "metadata": {
    "colab": {
     "base_uri": "https://localhost:8080/"
    },
    "execution": {
     "iopub.execute_input": "2023-01-10T20:49:48.849038Z",
     "iopub.status.busy": "2023-01-10T20:49:48.848588Z",
     "iopub.status.idle": "2023-01-10T20:49:48.878547Z",
     "shell.execute_reply": "2023-01-10T20:49:48.877315Z",
     "shell.execute_reply.started": "2023-01-10T20:49:48.849006Z"
    },
    "id": "fd3fe397",
    "outputId": "0306a172-ef20-413f-9079-77d2faf8b11f",
    "tags": []
   },
   "outputs": [
    {
     "data": {
      "text/plain": [
       "━━━━━━━━━━━━━━━━━━━━━━━━━━━━━━━━━━━━━━━━━━━━━━━━━━━━━━━━━━━━━━━━━━━━━━━━━━━━━━\n",
       "Distinction: mechanism = [A,C], state = [1, 0]\n",
       "                    φ = 0                     \n",
       "━━━━━━━━━━━━━━━━━━━━━━━━━━━━━━━━━━━━━━━━━━━━━━━━━━━━━━━━━━━━━━━━━━━━━━━━━━━━━━\n",
       "┌─────────────────────────────────────┐┌─────────────────────────────────────┐\n",
       "│  Maximally-irreducible cause        ││  Maximally-irreducible effect       │\n",
       "│    φ = 0                            ││    φ = 1.4150374992788              │\n",
       "│    Normalized φ = 0                 ││    Normalized φ = 0.4716791664263   │\n",
       "│    Mechanism: [A,C]                 ││    Mechanism: [A,C]                 │\n",
       "│    Purview: [B,C]                   ││    Purview: [A,B]                   │\n",
       "│    Specified state:                 ││    Specified state:                 │\n",
       "│    ┌─────────────────┐              ││    ┌──────────────────┐             │\n",
       "│    │ Specified CAUSE │              ││    │ Specified EFFECT │             │\n",
       "│    │ ╍╍╍╍╍╍╍╍╍╍╍╍╍╍╍ │              ││    │ ╍╍╍╍╍╍╍╍╍╍╍╍╍╍╍╍ │             │\n",
       "│    │ CAUSE:  (0, 0)  │              ││    │ EFFECT:  (0, 1)  │             │\n",
       "│    │  II_c: 0.5      │              ││    │   II_e: 2.0      │             │\n",
       "│    └─────────────────┘              ││    └──────────────────┘             │\n",
       "│    Direction: CAUSE                 ││    Direction: EFFECT                │\n",
       "│    MIP:                             ││    MIP:                             │\n",
       "│       A     C     ∅                 ││       A     C     ∅                 │\n",
       "│      ─── ✕ ─── ✕ ───                ││      ─── ✕ ─── ✕ ───                │\n",
       "│       ∅    B,C    ∅                 ││       ∅     B     A                 │\n",
       "│    Forward probability:             ││    Forward probability:             │\n",
       "│        0.5                          ││        1.0                          │\n",
       "│    Partitioned forward probability: ││    Partitioned forward probability: │\n",
       "│        0.5                          ││        0.375                        │\n",
       "│    #(state ties): 1                 ││    #(state ties): 0                 │\n",
       "│    #(partition ties): 0             ││    #(partition ties): 1             │\n",
       "│    #(purview ties): 3               ││    #(purview ties): 0               │\n",
       "└─────────────────────────────────────┘└─────────────────────────────────────┘"
      ]
     },
     "execution_count": 43,
     "metadata": {},
     "output_type": "execute_result"
    }
   ],
   "source": [
    "mechanism = (0, 2)\n",
    "candidate_system.concept(mechanism)"
   ]
  },
  {
   "cell_type": "markdown",
   "id": "d47a528f",
   "metadata": {
    "id": "d47a528f"
   },
   "source": [
    "Notice that PyPhi displays a particular cause purview even though all of them\n",
    "were reducible. You may restrict the search to a subset of purviews to convince\n",
    "yourself that they are in fact reducible:"
   ]
  },
  {
   "cell_type": "code",
   "execution_count": 42,
   "id": "47752e51",
   "metadata": {
    "colab": {
     "base_uri": "https://localhost:8080/"
    },
    "execution": {
     "iopub.execute_input": "2023-01-10T20:49:44.470426Z",
     "iopub.status.busy": "2023-01-10T20:49:44.469979Z",
     "iopub.status.idle": "2023-01-10T20:49:44.494928Z",
     "shell.execute_reply": "2023-01-10T20:49:44.494003Z",
     "shell.execute_reply.started": "2023-01-10T20:49:44.470390Z"
    },
    "id": "47752e51",
    "outputId": "31793b4e-2ee8-4832-ede5-e74adc044b07",
    "tags": []
   },
   "outputs": [
    {
     "data": {
      "text/plain": [
       "━━━━━━━━━━━━━━━━━━━━━━━━━━━━━━━━━━━━━━━━━━━━━━━━━━━━━━━━━━━━━━━━━━━━━━━━━━━━━━\n",
       "Distinction: mechanism = [A,C], state = [1, 0]\n",
       "                    φ = 0                     \n",
       "━━━━━━━━━━━━━━━━━━━━━━━━━━━━━━━━━━━━━━━━━━━━━━━━━━━━━━━━━━━━━━━━━━━━━━━━━━━━━━\n",
       "┌─────────────────────────────────────┐┌─────────────────────────────────────┐\n",
       "│  Maximally-irreducible cause        ││  Maximally-irreducible effect       │\n",
       "│    φ = 0                            ││    φ = 1.4150374992788              │\n",
       "│    Normalized φ = 0                 ││    Normalized φ = 0.4716791664263   │\n",
       "│    Mechanism: [A,C]                 ││    Mechanism: [A,C]                 │\n",
       "│    Purview: [A,B,C]                 ││    Purview: [A,B]                   │\n",
       "│    Specified state:                 ││    Specified state:                 │\n",
       "│    ┌────────────────────┐           ││    ┌──────────────────┐             │\n",
       "│    │  Specified CAUSE   │           ││    │ Specified EFFECT │             │\n",
       "│    │ ╍╍╍╍╍╍╍╍╍╍╍╍╍╍╍╍╍╍ │           ││    │ ╍╍╍╍╍╍╍╍╍╍╍╍╍╍╍╍ │             │\n",
       "│    │ CAUSE:  (0, 0, 0)  │           ││    │ EFFECT:  (0, 1)  │             │\n",
       "│    │  II_c: 1.0         │           ││    │   II_e: 2.0      │             │\n",
       "│    └────────────────────┘           ││    └──────────────────┘             │\n",
       "│    Direction: CAUSE                 ││    Direction: EFFECT                │\n",
       "│    MIP:                             ││    MIP:                             │\n",
       "│       A     C     ∅                 ││       A     C     ∅                 │\n",
       "│      ─── ✕ ─── ✕ ───                ││      ─── ✕ ─── ✕ ───                │\n",
       "│      A,C    B     ∅                 ││       ∅     B     A                 │\n",
       "│    Forward probability:             ││    Forward probability:             │\n",
       "│        1.0                          ││        1.0                          │\n",
       "│    Partitioned forward probability: ││    Partitioned forward probability: │\n",
       "│        1.0                          ││        0.375                        │\n",
       "│    #(state ties): 1                 ││    #(state ties): 0                 │\n",
       "│    #(partition ties): 0             ││    #(partition ties): 1             │\n",
       "│    #(purview ties): 2               ││    #(purview ties): 0               │\n",
       "└─────────────────────────────────────┘└─────────────────────────────────────┘"
      ]
     },
     "execution_count": 42,
     "metadata": {},
     "output_type": "execute_result"
    }
   ],
   "source": [
    "mechanism = (0, 2)\n",
    "\n",
    "cause_purviews = (\n",
    "    c for c in pyphi.utils.powerset(candidate_system.node_indices)\n",
    "    if c not in ((), (1,2))\n",
    ")\n",
    "\n",
    "candidate_system.concept(\n",
    "    mechanism,\n",
    "    cause_purviews=cause_purviews\n",
    ")"
   ]
  },
  {
   "cell_type": "markdown",
   "id": "6ec898f9",
   "metadata": {
    "id": "6ec898f9"
   },
   "source": [
    "The `Subsystem` methods `candidate_system.mic()` and `candidate_system.mie()`\n",
    "are useful if you are only interested in finding a maximally-irreducible cause\n",
    "or effect. E.g.:"
   ]
  },
  {
   "cell_type": "code",
   "execution_count": 41,
   "id": "efaa21b2",
   "metadata": {
    "colab": {
     "base_uri": "https://localhost:8080/"
    },
    "execution": {
     "iopub.execute_input": "2023-01-10T20:49:39.074129Z",
     "iopub.status.busy": "2023-01-10T20:49:39.073305Z",
     "iopub.status.idle": "2023-01-10T20:49:39.102579Z",
     "shell.execute_reply": "2023-01-10T20:49:39.101620Z",
     "shell.execute_reply.started": "2023-01-10T20:49:39.074069Z"
    },
    "id": "efaa21b2",
    "outputId": "909f72ab-4bf3-42d5-864a-052dabb704e7",
    "tags": []
   },
   "outputs": [
    {
     "data": {
      "text/plain": [
       "Maximally-irreducible cause\n",
       "  φ = 0\n",
       "  Normalized φ = 0\n",
       "  Mechanism: [A,C]\n",
       "  Purview: [B,C]\n",
       "  Specified state:\n",
       "  ┌─────────────────┐\n",
       "  │ Specified CAUSE │\n",
       "  │ ╍╍╍╍╍╍╍╍╍╍╍╍╍╍╍ │\n",
       "  │ CAUSE:  (0, 0)  │\n",
       "  │  II_c: 0.5      │\n",
       "  └─────────────────┘\n",
       "  Direction: CAUSE\n",
       "  MIP:\n",
       "     A     C     ∅ \n",
       "    ─── ✕ ─── ✕ ───\n",
       "     ∅    B,C    ∅ \n",
       "  Forward probability: \n",
       "      0.5\n",
       "  Partitioned forward probability:\n",
       "      0.5\n",
       "  #(state ties): 1\n",
       "  #(partition ties): 0\n",
       "  #(purview ties): 3"
      ]
     },
     "execution_count": 41,
     "metadata": {},
     "output_type": "execute_result"
    }
   ],
   "source": [
    "mechanism = (0, 2)\n",
    "candidate_system.mic(mechanism)"
   ]
  },
  {
   "cell_type": "markdown",
   "id": "10a743ee",
   "metadata": {
    "id": "10a743ee"
   },
   "source": [
    "# Relations\n",
    "\n",
    "Relations capture overlaps among the purviews of different distinctions, thus\n",
    "binding causes and effects that are congruent over the same units in the system.\n",
    "\n",
    "We can obtain all 4 irreducible distinctions (mechanisms \"A\", \"b\", \"c\", \"Ab\"),\n",
    "and then use them to find causal relations among them:"
   ]
  },
  {
   "cell_type": "code",
   "execution_count": null,
   "id": "738c75d0",
   "metadata": {
    "colab": {
     "base_uri": "https://localhost:8080/"
    },
    "id": "738c75d0",
    "outputId": "ae424172-3975-4b99-c6c0-63538c03dc88"
   },
   "outputs": [
    {
     "name": "stdout",
     "output_type": "stream",
     "text": [
      "# of distincions: 4\n",
      "# of relations: 14\n",
      "Σφ_r = 3.6176687467547968\n"
     ]
    }
   ],
   "source": [
    "distinctions = pyphi.compute.ces(candidate_system)\n",
    "# Note: individual distinctions may also be indexed or iterated upon.\n",
    "print(f\"# of distincions: {len(distinctions)}\")\n",
    "\n",
    "relations = pyphi.relations.relations(candidate_system, distinctions)\n",
    "print(f\"# of relations: {len(relations)}\")\n",
    "\n",
    "print(f\"Σφ_r = {relations._sum_phi()}\")"
   ]
  },
  {
   "cell_type": "markdown",
   "id": "2d438980",
   "metadata": {
    "id": "2d438980"
   },
   "source": [
    "As expected, PyPhi attaches useful information to each relation. Let's inspect\n",
    "relation 11:"
   ]
  },
  {
   "cell_type": "code",
   "execution_count": null,
   "id": "6fb50a81",
   "metadata": {
    "colab": {
     "base_uri": "https://localhost:8080/"
    },
    "id": "6fb50a81",
    "outputId": "2614f0b1-806d-4fe2-9b45-4b0707c8334d"
   },
   "outputs": [
    {
     "name": "stdout",
     "output_type": "stream",
     "text": [
      "╍╍╍╍╍╍╍╍╍╍╍╍╍╍╍╍╍╍╍╍╍╍╍╍╍╍╍\n",
      "          Relation         \n",
      "╍╍╍╍╍╍╍╍╍╍╍╍╍╍╍╍╍╍╍╍╍╍╍╍╍╍╍\n",
      "      φ: 0.1383458330929479\n",
      "Purview:  [C]              \n",
      " Relata:                   \n",
      "      Effect[B]/[C]        \n",
      "     Cause[A,B]/[A,B,C]    \n"
     ]
    }
   ],
   "source": [
    "relation = relations[11]\n",
    "\n",
    "print(relation)"
   ]
  },
  {
   "cell_type": "markdown",
   "id": "82acb059",
   "metadata": {
    "id": "82acb059"
   },
   "source": [
    "As seen above, a relation contains:\n",
    "\n",
    " - A `relation.phi` value.\n",
    " - `relation.relata` (the effect of \"B\" and the cause of \"Ab\").\n",
    " - The maximum overlap between those, or `relation.purview`.\n",
    "\n",
    "Moreover, we can also obtain the `relation.degree` (the number of distinctions\n",
    "involved) and `relation.order` (the number of relata). For instance, this relation happens to be a 2-degree relation."
   ]
  },
  {
   "cell_type": "code",
   "execution_count": null,
   "id": "e9e9eed8",
   "metadata": {
    "colab": {
     "base_uri": "https://localhost:8080/"
    },
    "id": "e9e9eed8",
    "outputId": "1189cf97-bf5a-4cd1-c987-ff97993809a6"
   },
   "outputs": [
    {
     "name": "stdout",
     "output_type": "stream",
     "text": [
      "Relation degree: 2\n"
     ]
    }
   ],
   "source": [
    "print(f\"Relation degree: {relation.degree}\")"
   ]
  },
  {
   "cell_type": "markdown",
   "id": "af757725",
   "metadata": {
    "id": "af757725"
   },
   "source": [
    "# Cause-effect structure and big Φ\n",
    "\n",
    "![IIT_4.0_demo_cause-effect_structure.png](data:image/png;base64,iVBORw0KGgoAAAANSUhEUgAAAmUAAAIKCAYAAABiLTioAAABhGlDQ1BJQ0MgcHJvZmlsZQAAKJF9kT1Iw0AcxV9btSIVBwsV6ZChOtlFRRxrFYpQIdQKrTqYXPoFTRqSFBdHwbXg4Mdi1cHFWVcHV0EQ/ABxdHJSdJES/5cUWsR4cNyPd/ced+8Af7PKVLMnAaiaZWRSSSGXXxWCrwghigj6EJGYqc+JYhqe4+sePr7exXmW97k/x6BSMBngE4gTTDcs4g3imU1L57xPHGZlSSE+J54w6ILEj1yXXX7jXHLYzzPDRjYzTxwmFkpdLHcxKxsq8TRxTFE1yvfnXFY4b3FWq3XWvid/YaigrSxznWYUKSxiCSIEyKijgiosxGnVSDGRof2kh3/U8YvkkslVASPHAmpQITl+8D/43a1ZnJp0k0JJoPfFtj/GgOAu0GrY9vexbbdOgMAzcKV1/LUmMPtJeqOjxY6AoW3g4rqjyXvA5Q4w8qRLhuRIAZr+YhF4P6NvygPDt8DAmttbex+nD0CWukrfAAeHwHiJstc93t3f3du/Z9r9/QB++XKr+eLCCQAAAAZiS0dEAAAAAAAA+UO7fwAAAAlwSFlzAAALEwAACxMBAJqcGAAAAAd0SU1FB+YMHBccBsWLGoQAAAAZdEVYdENvbW1lbnQAQ3JlYXRlZCB3aXRoIEdJTVBXgQ4XAAAgAElEQVR42uzdeXxc9X0v/M85Z/ZFGu2rJdmSLRmvgAhOINiGBAhJDKVN4ZY29L5KHtz03psnuQ+9t09TcsNN01cuaSnJk9YUSkJT07hNS3CW4pRgO2ax8YKMDUi2sSXZkrVrpNnOzNmeP45mpJFmZC0jaUb6vF8vveyRZj3LzGd+y/cnGIZhgIiIiIiWlMhNQDRLgQBw//2AJAG1tcAf/iG3CRERMZQRLbpwGDh2DNB1oLMTyM/nNiEiIoYyokV35gzQ3T1++ROf4DYhIiKGMqJFd+rU+P9tNqC+ntuEiIgYyogW3X/8x/j/160DvF5uEyIiYigjWlSRCPDhh+OX6+sBh4PbhYiIGMqIFtWHH5qzL+NWrwacTm4XIiKaNws3AS1rmgaEQoCiABNL8lmtZrejOMvvJW1t5uxLwCyJ0dBg/guY9x+NmqFN18fOMAtQUDD7x0klfv+hUPJrsdvNH5uN+5uIiKGMKMtcvAi0tpr/nj5t/huLmX8TBKCkBLj5ZuCGG4Dbbpt5oOnsNIMRAHg8ZiiLh7+33gJeeQX49a8Bv9/8XVkZ8JnPAB/9KNDcbIbB2ZJl4MIFc4LB6dPAu++av4urqwPWrzdfy9atQHk59z8RUQ4SWNGflpXLl4FvfhN47TWgr88MR+mIIlBaCnzuc8BXv2r+fzqqCnzxi8Czz5qXS0qAN94wx5l985vAwYPAwMB4K9nExykvNx/j4YcBl2vmYeziReAv/sJ8nM5OM+ilU1wM1NQAzz0HXH89jwUiohzDljJaXn71K+D558dbxaaj60BPD/C97wFXrgDf/S5QVZX++sFg8iB/SQLOngW+/GWgo8P8nc1m/miaGaoMw3yc7m7gj//YbGX7oz+6douZqgJ79wLf+AbQ3j6z1z4wYP7wexYRUU5iSxktL7/3e8CPfwzk5ZljuT77WbPrsLBw/Dp9fcA//ZPZmjY6Ovb1xALs3m0Gs3T6+4Ft28zWK8Ac4O92m0GouNjspvxP/8l8bF03A9v3vw8cPTp+H3V1wM9/Dlx3XfrH8fvN2/3pn5qtcPHnt3EjsH07cPfd4zM+g0GzFe3gQeC998zfX71qXp+IiBjKiJbMN79pDoS/915g06bpZ0Y+/7wZfHp6zMtr1phjtjye1Nc/e9a8z8nuuQf4kz8BPvaxqQP6OzuBXbvM+4370z81W8Cme15f+pIZuAAzUD74IPDnfw74fOlv94//aLaqffWrPA6IiBjKiJZYLGZ2DQrCta8bCJhB51vfMi+Xlprdnxs3pr7+3/898Mgjyb/7zd80x5gVFKR/nJ/9DPjCF8bD30c+AvziF0BRUfL1dB14803g858HLl0yf1dQYLaa3X23OcNyJq+fszCJiHIS65TR8mKzzSyQAWZJjObm8bCj6+ZYrnTOnk2+XFsLfO1r0PLzMRIehT7yPhDunDqm69ZbgdtvH7/c3T0+Bm2ivj7g618fD2SFhcD//t9mq99MAln89RMREUMZUc6ZbjbjRIYBHDky4cwRgf/yX4DVbvSf+nP89ovP4+KrD8M48w1ACyXfNj8f2LJlfJxXKGSOT5vs6FGznEbcHXdMbZkjIqJli6OBaXk7exbo6jIHzEej5r+6bg7wV1Xgl78crzsmCOkHyPf2mgPo4zZvBn7/9wH5An5y+nUc6fk4fhLLx5dsb8CqhgHLhHFpgpDcgmUYU1vTwmHgL/9yfNZoTQ3wne/MvIWMiIgYyoiyyuCgORvyF78wW57efdccMK+q4z+6boaf+L9xkjR1nFfc+fPjlfwBc4xXcTGMmAWvKptRaw3ideVGNA/8HDui/YBjmppngjC1i/Wtt8a7R0XRnMXJIrBERAxlRDlH08yyEE88YQac6caGpVNdDVRUpP5bW9t4eQqvF7jlFgBAb8yCt8IVWCddxDZ3DN8dvQPrr55GWf6G5Nur6njrmNNpls2Y+Lcf/3h8Tc3CQuDOO7lPiYgYyohyjKqaVez/z/8ZHyRvsZi1w+x2s4L+qlXjFfvz8szuxJYW4NCh8fu54Yb0j3Hlyng3p90ONDUBAM709iIYi6HAHkWzoxen5Y34zjkFf9agwhHvCg2HzcH98fFrRUVmAIwLBs3nHf97eTmwbh33KxERQxlRjvnnfwb++38f716sqQH+8A/NLsYNG9JXz3/lleRQlq4URihkFmaNG1vzUjcMvHn5MuSYjCI34BNjuNfbjm91lGPt2bN4eMsWCIJgzqp8553x25eWApWVyaFseHj8stNptsYREdGKwtmXlNva280B8fFAdt11wJ495pJGW7emD2S6Dhw+POHriQVobEx93VhsvAVu4q81DWf7+1HpLYAKEQIMNFiH0CAO4uXWcxiOLxp+5Qrw/vvjN7z+enP8WpyqJo9tc7mSuzeJiIihjCjr/eu/AidPjl/+yleAT31qamX9yfr6zJayuKam5C7FiYJBc0zZJH5ZxonubjQWlcEuaBAFQIKBBzxtuHDlQ/w0fps9e8zHA8yuyUcfnf65aRqgKNy3REQrDLsvKbe9/XbyoP777pvZ7U6eTF7ou7o6/fJKly6NL3kUp6q4ODyMYCyGSm8+hKAdBgQABqqlUdzpHcCL757F9lAIdQcPmrex2cxCsHV1k74aickhMl66g4VgiYhWFLaUUW7z+5MvpytpMdH588DjjyffdsOG9CUoJlfyDwSAlha81NqK64pLEY4p8OTXAqJZU8wmarizYATSwADOfvXPxpdXqqkxa5tNroXmcCQHwt5e4MIF7lsiIoYyohwyuTUp3k2YTn+/uWj5qVPjv5MkYPXq9C1TZ84kXw6FoP37v+PXly6hqagUo7EofEXrIEgOwABgAKXaIP7o/FncdvQtc/yaKAKf+IQ5zm0ytxsoKRm/3N1troFJREQMZUQ5o6ws+fL3vpc8aH6i998HvvhF4MUXk3/v8aQf5C/LU8eTyTIi3/421r3+Bq4vr8RgJAibqxqwFQIAHD0BlP/bGXzq+z9AXnyw/+bNwJ/8idkqliqUPfCAuRwTYHbHPvEE8JOfTL8MlKYB586ZY+OGhngsEBHlOI4po9x2xx3AD384HsSee87s/vviF8dnMAYCwIEDwI9+ZJamcLnMgfTxYq42G7BmTer7v3w5OfBUVgJDQ/CMjuIb//FLyL5ivOrzobykHI5RL7yvdaDwSDccXSGIMd28i6oqqH/0R1hdU5P+ddx5J7B9O/Czn5ktawMDwH/9r8Crr5rrX/p8yUHxyBHzNX3wgbkw+ve+ZxadJSKinCUYxuRF+IhySH8/8D//J/D88zO7fk2NOfvxqafM4AOYi4W3tKS+/s9+Zl6/u9ts5XrqKaCz0/w33go2jciatfjT3/3PuLS+Hv/wG/fCO91alm1twMMPA8ePm8Fsph54APj+9836ZkRElLPYfUm5raTEbCV68MH0i4kDZhfl3XcDP/0p8PnPm61Lomjeprk5/e26usxuQo/HnAjw0Y8i+Md/jH974AEEfAUpS28YFgGq24L+39iGS9//e2z6zG/gbM8Q3rx8efrX0tgIvPQS8Ad/ABQUXPu122xmC9qOHQxkRETLAFvKaHno6TFbtfbtG28BA8ywsnUrcNttwGc+Y4YrWTbHa126ZP79lluAm25Kfb/t7ebsS1U1r3vHHfgwEEDz3/0dflxZh5rXj2Dg8K/QZLHB6rAi6gkiUqUjtNaHYFMtpKYvQPbdgH84fRq98hCe+eynUexyTf9aYjGzsO2rr5oTEia+nngYW7cOuPlmc2moj32M+5+IiKGMKMv4/cl1yyTJ7HbMYEvSP5w+jW/8+ghevO9BnLrShWd//Sv85e13odjlQqz7ZSh9r5izMAFYVn8OlrrPoXNkBP/jtVfwSPMm/N/bts38wUZHU09ccLnMHyIiWjY40J+Wl4kD4hfIS62t2FRSDpfVhoFoFEG3EygsgeZwAOFVQL8FMMxgaAQvA5qMmvx83F7bgB+8cwa/dd11qJ7pMkpcbomIaMXgmDKiWRiKRHC2rw+bSsvhsFgQVVUYhgH32BqbgqcOkBzxcmXQQpdhaFEAwN0Na+G2OPHTtnPQ2UBNREQMZURz925vL2KajvXFpdB0HaIgQNF12MYWGBfdqwBpvFvRiPTAiI0AACq9XtzfuAHff+ddnB8c5MYkIiKGMqK5Ot3TA0kQ0FRUAtUwEFW1RCADAEgOCM4KwBDMH12HHrho/kkQcGtNDWyw4R/fPQN54tg3IiJiKOMmIJqZiKrixNWr2FhaBq/dDk3XEYjFUOnxJp9UvvUAEisuQfe3Jv7mslpx//qN+OezbTh7rSWhiIiIoYyIpgpEozje1YU7V68FAOiGgZiuIN+ZvHSS6KmDIYiJYKaHrsBQxwvNfqy6Gg2+Enzv7RNsLSMiIoYyotm6ODyM3lAYm0srAACKpiEYi8EtJYcywVECwVker4oBIzYCPdie+LvbZsP9TdfhRFcvXrt0CaxKQ0REDGVEs/Dz8+exqaQMhU5zIH9M1+GXZRS5kmugCfYiCN7xtTT1mB9GsAOJ4mUAmisqcH1ZNZ49+Q66AgFuXCIiYigjmqlXP/wQ64qKYbeYA/tVXYNuGLBLyeX+BIsTkrsKEIR4KoMW7AR0bfzEE0XsWteEsz2D+NXFi9y4RETEUEY0ExeGhtAVCGBzaQWksfFifjkKt9UKqygkX1kQIHrXAKIThgEYBqAHLsHQwklXW1tQgE/VN+EHLWdwYWiIG5mIiKGMiK6lpacHAgQ0FZckfjcYjkDVDZS43FOuLzjLAdEsKGsA0MJXYehK8sknirinYS3kGHDgwodQdJ0bmoiIoYyI0tENA29duYIipxtrfIWJ3w/LETisErx2x9QTy1kK2Hzjg/2VMPRg15TrVeXl4e416/A3x0+itb+fG5uIiKGMiNIZjUZx6upVfLymDqIw3lUZiEZhEQU4JOvUGwkipLy140VkIUAfTT127NaaGvhsbjx76hQ0zsQkImIoI6LU4utd3l5Xn/T7vmAIgiDAY7WlvJ3kawQgjK+DOXIOhj61Llmp243fbNqIty/34s3OTq6LSUTEUEZEqZwbHITLYkPFpMr9PcEQXBYL7BZL6pPLVQlYPYnLeqQfRiR1Ff/bampR5srDD1reRSgW40YnImIoI6LJfnXpEjaXliFvwtgxVdehQYckihDTnEWCvQCit3a8pSw2DC3YkfK6dosFv9F4HQ5d6sTB9nZudCIihjIimkhWVZzp68PaohJYJqSvETmKQocTDosFFkFKHcqsHoiuqvglGEoYWqgLE4vITtRUUoybK+rwQsu7GJFlbnwiIoYyIoo7efUq+kIh3FBemTTI3x+VYRVFiIIAcXKdsngMk+yQ8mohxJdhMgzoo+0w1EjK67utNjywYSPah4LY39bGjU9ExFBGRHHHu7owIkexZWy9yzhZUVDodELTdQgQ0t5e8tQCgtUsIgtADV5JOdg/bk1BAXbUrMG33zyGKBcrJyJiKCMis+vy5NWraCwsgduWPMNyWJbhslqh6AYkMf1pJLqrAYsrcVmX+2FEp6/ef8eaergkB547dQoqC8oSETGUEa10wVgMLT09uKmyasrf/LKMUrcLxjXKVwiSHdKEwf6GoUP1n5/2NtVeLz7TsB5PHz2Os3193BFERAxlRCtbTzCIdr8f64tLp/xtKBJBscsNURQSa2GmPck8tRhPZYA62j59kBMEfGLNGngkJ/a+e4Y7goiIoYxoZft1RwfqC4qmrG0Zbx2TRBGSIMIiTH8/Ft9aYMIMTS3QDl0JTXsbl9WKz2+5ES9/cAEfDg9zZxARMZQRrUy6YeBIRwe2llWg1O1J+puq69AMA5IgQBQAUZSmP8kcxRDdFYnGMl0JwJAHrvkctlVVYWNxJZ44dBij0Sh3ChERQxnRytMxMoKOkRFsLi2He9IySqphQNE0GDCgGwaEa51kNh8s3rqxSwL06Ai08LXHirltNtzXtB6/utiBg5cucacQETGUEa08J7u7MRKNYlNp+ZS/6YYBqyDCMABF15OKyqYiWF0QPTUwBIvZWqYr0AIdMLRrt35tKS3FRyvX4Act73KxciIihjKilUU3DLT09kIURNTmF0z5u6brkCQRkihcc/ZlnOSpgiCOr5GpBDqmrVeWOEFFEb+7aTPOD4zg5dZW7hwiIoYyopUjrCg43dODzSUVKVvBYpqGmKZD1w04rdYZhrJaCBYXYACGAahD78G4xmD/uLr8fNxe24Bvv3kUl/x+7iAiIoYyopUhXp+sOUV9MsBsKRMB+KNRFDgcMwtljgII1vzEqpe6GoUaujqzk1QUcW9jE4aDCv7tgw+4g4iIGMqIVobTvb0QIKDeV5g2tDmtVuhQYRNn1lIGQYQlvx4GBPPHANTAzAfvl7rd+Nx1m7D39Fn0h0LcSUREDGVEy9+bnZ1oKipByaRSGHHDsgyHZMFoVIbDYpnx/VoK1o8XkQWgDp2DoWszvv0n19Qj3+bBX7z+OpdfIiJiKCNa3mRVxWvt7bihvAplaUJZXyiEYpcLV4NBeGz2Gd+35K6AYC9I5DI10g89MjDj2/scDvxW00YcON+B1zs7ubOIiBjKiJavs319iKgq1hUVp71ORFXhtFpmf7LZ82DxVCYuG0oA2jUWJ59sW3U1VnkK8KMz73FnERExlBEtXye6uzEckbGltCLtdfpDYRQ4nAjGFLhmOPsSAERbPix5q4GxcrNaLAAt1AVjFl2RNknCf956A145fwlvXb7MHUZExFBGtPwomoZ3enpQ6vKgwOlMe73LoyPw2G0YliPw2WfefSmIFkjuckCQErMwldF2wFBm9TzXFhZiZ+1a/P0778Avy9xxREQMZUTLSyAWw9tdXbitpi7tdXTDQDAaQ6HDCUHQYZOss3oMS/4awOoyx5UZQGyoDYYantV9WCUJv71hA97q6MXLbW3ccUREDGVEy8vVYBAXh4exoaQs7XXCsRgKx1rRekMhOCyzDGXuCgiSY3wGZrAHWmz2JS6qvXnYWlaJ7719AjFN484jImIoI1o+Xu/sxNqCYtTk+9JeJ6gocI+NIxuOROC12Wb1GIJog8VTE78EwIAyPLfWrvubroMdDrzQ0gKd62ISETGUES0XRy9fRmNRMQod6ceT+WUZRS7XvB7HWtAAQEh0YSojF+d0P/WFhbhjdQP+6cx7aB0Y4A4kImIoI8p9PcEgWgcHsbG0bNraY1FVhctqxWg0ijKPZ26hLG81DFgSXZix0SvQldl3YUqCgM+uXYvBkILn32nhTiQiYigjyn1n+/sRURSsKyyZ9nqDkQgqPF5EFAU+u2NOjyU5iiA5CxNFZLXYCLTI3Fq6bBYL7l17HX7y/jn0BIPckUREDGVEuUvTdRy6dAmqZmBTadm01+0NheCz26EYKqyCdU6PJzkKIHkqx5ZcEqDLI1CDV5FoOpuluxoa8LGqNfj6ocMIxmLcoUREDGVEuSmqaWgbHMS6ohJYRGn666oqCl1OjMgyvLOoUTaRYLHD4igBhLHTT1ehhnpnVUR2ojy7HbfXrcarH3bgtUuXuEOJiBjKiHLTUCSCQ+3tuK1m9bTXU3QdumHAIooIKcqsFiOfFMtgK94AQXImujCjA2dnXa9sohsrK9FcXoNvv3GUi5UTETGUEeWmdr8fAgTUTlMKAwAMw4BhAMLYMknzYfVUApIlEcpigU4YujKv+/zE6noMhRUuVk5ExFBGlJt+dekStpRVXHM2paLrEAUBVlHESDSKco97zo9p8VRCco4veq4rYcTmWBoj7saKCty/bgO+cfgILgwNcccSETGUEeWWE93dWOMrRKFj+vpjhmFAFASIooioqiBvjmPK4qz5yd2lyuiVed2fJIq4paYG7UMh/Pv5C9yxREQMZUS549zgIHqCIWyrXgWbdI1B/poGTddhE0XEdBU20Tavx3YUbwAgwDDMIrLy4Acw9PktmVTp9eKB6zbhO0ePs0QGERFDGVHuuDA0hNGojHpf8TWvq+k6FM3swhyRo8izza+lTHIUQ7CMt87psh+aPP9ux1tqalHlKcAPT5/m8ktERAxlRNlPVlW8dfkyytx5qM7Lu+b1VV2H3SJBEkWElNg8Zl+OhTJnASzuisRgfzU6Ai3SP+/XtSovD7+zcSt+dKYN7/f3c0cTETGUEWV/KGvp7cXm0vIZXX8oEoHP6czcyWd1Q3IWAIZgFpGNRaCE+jDXIrITXV9eDgkW/P2pd7ijiYgYyoiyW18ohNc7O3FTRfWMrj8QicBlsUDVdVgkCVZpfqePIFphL1gHQTLHphkwEO1/H7oSmfdrc1gs+ML1zdh3po0FZYmIGMqIstv7AwNwWW0occ2stEUgGoXHZoNhGJAEAaKQgXpl3lWAaE20jUUDXTB0NSOv77qSEmwuqcSLZ85AVlXucCIihjKi7HTg/Hk0FBSh3OOd0fVHZBlemx3a2OB5UZj/6WMvaoRo80woInsZaiQzNcby7Hb8t4/cjDc7evCzc+e4w4mIGMqIsk8wFsPZ/n5sKilD/gzrjfUEQvDabNANHYqmQcpAS5kgWmDLrwMgJH5iox0Ze52r8vNxS3Udvn7oCFvLiIgYyoiyz9m+PoxGY7itZjWEGYar3lAAZW43NN2AqhtABkIZAFjz65Iuy/0fZPS13tOwDoJuxbMnT8JgiQwiIoYyomzS4fdjOBLB5rKKGV1f1XUIEGCRJBgwoBqZW/Tbnl8HQZASRWTVcG9GBvvH1fl8+OTqtXjpg3PoHBnhziciYigjyg7BWAyHOjpwY3nVNav4x41GoygYK4eh6jockgV2MTOnj8VVDNFZkrisRIahhHoz9notooiHNm1EQNbx10eP8QAgImIoI8oOsqri6JUruKGicsa38csy7GMBTgdgEc01MDNBsnlhdZclBvtrsSDUUF9GX7NVkrBr7Xr8+L02tPv9PAiIiBjKiJbeucFBnBscxPqi0hnfJqQoKHWbpTN0Q0dU12EOzM/ASWh1wZpXBQESYACGpiA60p7x1729rg6bS6rwrdffQEzTeCAQETGUES2tY1euoDa/AGUzLIUBAMFoDIVOc51KTTdgGAasYuZOH3veKggWcxaoASA22pXx113gcOBz123EwUuX8XZXFw8EIiKGMqKlo+o6Xmtvx8aScpS5PTO+3VAkgiKnAwCgG0bGZzHaixshSPZEEdlQ/1kYeuZbs26sqMCmogr8r0OHoeo6DwgiIoYyoqXREwyiJxDE5tJyWGbR0jUUiaB0LMTFNG3GEwRmymovgOQogAHB/NE1RAML05r1qbWNuDQUwE/b2nhAEBExlBEtjdaBAYQVBTdXrZrxbXTDgG4YsFvMIDYajcLncGT2iQkiHEXrkn4V6W1ZkG1wQ3k5PlN/Hb577Dj6QyEeFEREDGVEi0s3DLzX1weX1YY6X8GMb6eNdVdKY8sqhdUo3FZ7xp+fo3AtAMEc7G8A4f5W6JqS8ceRRBH3NjaiPxjDvvfe44FBRMRQRrS4RqJRHOrowKbS8lktkaRoGmITllWKqAqsgpTx52d1l0K0uBLjytTIMDR5YYq9lrjd2LV2Pfa++x56gkEeHEREDGVEixjKZBmvd3bi5spVs7qdAcAmSRDHQtnVQABue+ZbyiRHPqyeisS4MjU6iliwZ8G2x211q+GRnPjWG28kFlknIiKGMqIFd+rqVdhEC2ryfbO6nappEASzACsAqIaekcXIp4QymwcWdyniXZhaLAI13L9g26PS48FtNWvw2oedaO3v5wFCRMRQRrQ4fnnxIuoLClHu9s7qdqphQNEMSGOzNWVVS1T3zyRBkGDPr4YgWsd+Y0AevrSg2+Rjq1ahzJWP7xx7m61lREQMZUQLT1ZVtA0MYF1RCfJnOXNS0TSIAhLFYoOxGPIXoPsSAFxF6yBa7Ikll0IDrQu6XUrcbnxu/UYcunQZh9vbeaAQETGUES2s80NDGI7IuLGiata3DUZjsEuWxOWIGoXLujChzJa3CoLFXPjcAKCEB6HJowu2XQQAG0pKcEPZKvztiRMIxmI8WIiIGMqIFoYxVgojoqr4SEX17EOZoiDPMR7CwqoCmygtzAlpscOeX5OYgWkYOkL9C1u2wmu347NrG/FezzBeu3SJBwwREUMZ0cJQdB3Hu7rQUFCEAqdz1rcfjIThtdoSl3uCQXgWqPsSAFxFa83uy7F6ZaGB1owv6zTZmoIC7Kytx1+99TZGolEeNEREDGVEmTcsyzjU0TGnrkvAXIDcZbWOh7wJNcsWgi1/FYQJddDk4U4Yqryg28hts+ETq+sxEo7hH1paFjwEEhERQxmtQB1+Pz4cGsbGkrI53X4gFEKRy5UIZM4JAW0hWJ2FsLnLYI74EqBGA4guYL2yuDqfD3fXN+Jf3mvDhaEhHjhERAxlRJl1vLsbFR5vYkHx2RqMRBJrXQaUGArn0AU6G5I9D5KzKNGFqcojiAUXvo6YRRRx55oGRKI6/vHMGR44REQMZUSZoxsGjnR2oja/ACVO96xvbxgGIooCj80cUxbTFOTbFjiUWR2we8rMMWUAdF1DdLRrUbZXnt2O31q/Ef/edgkfsKAsERFDGVGmXA0GcXF4GDeUV86p2zEQi8FusSSWWBqNRpPKYywMAa7S9Um/CfW3Lsr2skkSbqutQ4Xbh2+98SZLZBARMZQRZcaHQ0MYlaO4uap6TrcPKwpsE6r3j0aj8NjsC/68Hfmrxk5Pc1xZdPQqDENflG3msdlwT8M6HL/SgyMdHTyIiIgYyojm7+TVq7CJEtYXz22Q/7AsI882Xg5DNwxYxIU/bWzuEtjcJQDMLkxVCSEyeHHRttvW8nJsKanCc6daoGgaDyQiIoYyovl58/Jl3FRZPecgJSsqXBNCWUhREoP+F5qruHFCEVkguEhdmADgsFhwz9pG9IxGsL+tjQcSERFDGdH8HGpvx02Vq+Z8+6FIBI4JY8hCsXzPJecAACAASURBVBiKx8pjLDRP2XWJArIAEOz7ALquLs4bgyBgU2kptpZV4a+Pvo0ro6M8mIiIGMqI5uZsXx8MA6jy5s35PgbC4aTCsZqhwSFZF+X527zlsNjHn7si+6EEBxbvzUEQcMfqNRgNq/hJK1vLiIgYyojm6KXWVjQUFqHC453T7Q2YLWPuCd2Xw3IEHqt9UZ6/1ZEPm2d8LJwmB6BEFreo62pfAX6zaRNefPcsBsJhHlRERAxlRLMTUVW83tmJ+oIi+BxzqyumGwYkSYR9wuzLsKLAYbEszslpc8PmKkx0YapKGNFg76JuR4so4uZVq+CxuPCjs2d5YBERMZQRzU7bwADODQ7itlV1iRpjs6XqOjTdSCqJoRvGnO9v1ienaIGzqN6s7A+zkG1w4Pyib8tKjwd31DXguZOncfLqVR5cREQMZUQz1+H3wy/LuKG8as73oek6BCDRUqYbBiRRhCQu3mnjyK9GvFYZIJiLky/BYuHNlZXwWFx48cwZ6FysnIiIoYxopo52dWGV15dYSHxOoWysVcxmkRIhzSIKsIjCor0Od1E9BHG8u1QO9ECJDC/69ixxu/Hb6zfi1QsdOMXWMiIihjKimXq9sxO3162Z132omgZV1yctqxRvtVocgmiBp3T9eBcmgNDAuUXfngKAm6ursb6wHM+ePMXll4iIGMqIri0Yi+FsXx9urKie1/3EdB2arifWzFR0DYqmL0pF/4k8JY0AkBjwP3r1vSXZri6rFfevvw6vd3Tj1YuXeKARETGUEU3vF+fPo8TpRrnHM6/7UTUdVkmCdSyEaboBzdAhCMKivh5XcT0g2hBvpYuMdkONBpdk2zYUFOIj5TX466NvQ1ZVHmxERAxlROn9/Px51PkKUenJm9f9BGJR+OzJSyotxRh3qyMfdndx4rImBxAN9S/JtrVKEj61dh3kqIEfnT3LQf9ERAxlRKn1BIN4v68PN1VWz7uemF+W4bCO34dq6JBEAVZhcU8bqyMfNndRovsyFhlBLNi/ZNu4sagIn1yzFv/yXiu6AgEedEREDGVEU10YGsKVQAA3VFTOu5sxGIuhYEJL2XhJjMXtvhQtdji8lROeh47QUPvSvWkIAu6oW42ukTC+/847POiIiBjKiFKHsmAshs2l5fO+r0A0ltRSFj9hBAiL/rrcxWsTsy8BIOy/vKTbudDpxGcamvCv753DhaEhHnhERAxlRMlev3wZH6lcBSkDXYx+WUaJy524rOgaFF1f1OKxca6CVUmXQ4MXYehLN9BeEAR8Yk09avOK8MPT7yKsKDz4iIgYyohMumHgtYsXcU/Duozc31Akgnz7+OLjmm5A0/VFW2ZpIqurEDZ3caK1TFNjCPu7l3R7Fzmd2LWuCfvOtuJ4VxcPQCIihjIiU+vAAEajMTQWlcz7vjRdh27osE+aLLBUcw0FQUBe2XVjT0IADAGhwfNLvs03lZZhra8E3zl2HKqu8yAkImIoIwL+5f33UV9QiFKXZ973NRSR4bXZk37nlyPwORxL9vq8FRsAiInWsuBAOzQ1uqTb3CwouxHdIzL+/fx5lsggImIoo5Uupml468oV1BcUocDpnPf9pVpGaDQmw2O1L9lrdLiKIdnGA2c0NAg1MrLk2/76sjJsLq3A8++cRojLLxERMZTRytY5MoIOvx83V9VkZJB/SIlNaRWLKAqsomXJXqPV6YPDW5aoVyYH+hEJ9C75tpdEEbvWNeJc/wheam3jwUhExFBGK9mFoSH0BIMZKYUBjJXDsFiTfjcYCSPPvnQtZRa7CzZX0dglAWo0gGhwICu2f4XHg+01a/B3J97BQDjMA5KIiKGMVqrXOztR4nJjVV5+Ru5vIByC12ZL+l1YVWCVpCV7jYJogaekHgYEGDBnmwb6z2fF9rdKEnY1NkFVBDx76hTXxSQiYiijlep4dzduXbU6Y+Uq/HIUnkmtYpquwyIu7SnjLqhJuhwYuJQ1+6DK68Udqxuw78wH6A+FeFASETGU0UoTjMVwpKMDn1zdkJH7MwwDhmHALiWfHiNyNKlu2ZKEssI6iBbzORgAYpHhrOnCBIBPrFmDQrsXf3viJEtkEBExlNFK83pnJ8o9XpS63Rm5P9UwoBsGrGJyV2VIUaaUyVhsgijCU7gaBsxaZYYOhPzZU7i1yOnEpxsa8S9nP0BLTw8PTiIihjJaSV5ua0NdfkHSkkjzoWgaYroO26SWMlmLLensy7i88vXmDEyYP6N952EY2dEqJQgCPl5Tg7W+Mvx/bx+HX5Z5gBIRMZTRShCMxfBOTw8ai4rhyVArlmEYkCDAJiUHsIFIGC6rdclfs6d4DURp/HnIgT6osUjW7BOn1YrfWr8BRzt78EF/Pw9SIiKGMloJPhgYQPfoKG5dVZex+1R1A5IowDEpgIViMdiWcPZlnN1dCIenJNFUJgf6IQeyq6twc3k5PlZVh28eeYOtZUREDGW0ErQNDGBYlrG5rCKDoUyDZhhwTghgmq5nRSADAIvdDZurMNF9KQcHIQcGs2q/2CUJd66px8XBUfyktRUGl18iIrr2+zs3AeWyX168iFur6+C22jJ2n8rYrMGJi5EHYzEUZmD5poyctFYnnHllGOo+awZGLYbgcAdKVn8kq/bN+uJi3F67Fj9sOYvbV69GTX7+sjv+ArKBgDy3wFnpm/934hPtCvafjuKJe+e33uuTB0J47K75jcns9k8/rtHrEOB1CFmx39p6NOw9FsHu7a6M7IeVJiAbONgWQ1uPim6/joBsoDJfQnOdBc111qzYpt1+HSc6FHQP6+ZzjOpoLLdg93bnvM63PYfNoSK7ttixa2vmJ34xlFFOe+vyZTyyNbNhJBSLwWuzJ9U8kzUFhU5X1rxub2kD0PorAGOD/fsvZt2+EUUR9zU14ehrHfhBSwse37592R1/J9oV7D0m40T7zIrlNpZJaCy3wOsQ8Njdrnk97p7DEbT1aPP6kAGA/S1R7D0axc5GO5rr5v6RsOdQGCc61LThbPd2J3bvyI4vNpU+ETAE3PO0Hw9ts2P3dlfWBMZst/eojD2HIym+jKjYfzqKSp+I3dudCxJYZhIW9x6Tsb8lmjgOK30idm2xo7nOhua6uY8J7vLrePzlUOJ+m2sXZnwxQxnlrIvDw+gPhbGusDij9zsSjcJpTT41ZFXJipmXcZ6i1YAgjHULCggNd0PXlKQJANmgxOXCZxqa8PO2D3D/+vXYWFq6rI7BnU027Gyyoduv45EXRtMGkkqfiCfudc/rQ2E8/ESw53AElT4Rzz2ch8by+XWr7z8dBQAcbIvOK5Q9cZ8HAdnAIy+Moq1Hy+r95nUIeOI+Nyp9IvYcjuBQq4JnH85jq9k0RmUDX9kXuOYXkO54eBnR5/2FYaa6/Tr2HA5jf0ss8bvmWgt273Bm5JwzAHzt5eA1W4Mz8mWWhxrlqv+4eBF1vsyVwojzy/KUemTDsow8uyNrXrvd5YPNXQQYAmAAuhpDyN+ddftIEATsXL0GdtGOH55+N9E1vNxU+kTsbEzfhb57+/w/HAKygcdfDmY0kJ1oVxIfsvtbYnPuip0YdhaqBWEh7N7hxO7tTnT5ddzztB/7W6J8Y00TSr7wwuiMW4QB4JlDkVldf672HpXxwDMjiUDmdQh47C4Xnvv9vIwEssV8LQxllLM0w8BP29qwpqAw42O9FE2He9LMy5imwSJk1+mSX7I2MdjfADDS05aV+6rA4cBvNm3AT9suoHUZl8joHtHSBrZMdOU8/nIw8cHz2N2ZGQsVbyWLh769x+Y/UzbXugEf3eFMtBA+/nKIwSyFbx8Io61Hg9chYGejDbu22LGz0TbtMWgAeOZweMGe0+hYq+yTB8KJLxNVPhH7Hs3HQ9sy9wW6tUdLjCNjKCNKo8PvR8fICG4sr4LDktlv5kOR8JSgp+o6HBYpq7aBu2BV0uWQvwu6pmTl/rq5uhprfaX47tvHoWjasjseA7KBg62pt30mWo6ePBBO3H/8A3HeIdKvJ3X3xFsd5ttalmsEAF+fMFHCDCAqaDyU7D0q46FtdvziSz489aAHT9znxlMPevCLL/mm7aJcqG7sLr+OB58ZSWq9qvKJGe+C7vLr+Mq+wKJub44po5x0fmgIXaOjuKW6NuP33R+KTFnjMhSLIT+Lui8BwJVfBpvTh2h4BAAQCQxCDg7ClV+edfvLbbVi17omPNvyNl65cAGfXrcuY4vHL3b4OtGh4ES7gm6/nviZLsjsPx1FW6+KSp+I5lordjbZZvXBsfeojL1Hx1uwMjVYfk+KVgwzXMaWZJD2Uop3Px9si42NnQriR4/mr/jB/waAr+wLJLp5U9m9w5m2lTU+OzmT23FUNvCFSeM3BSDjgSze0rcY48gmYksZ5aR3rl6Fz+FCTb4v4/cdVhTkO5IDWLbNvgQAh6fEHFc2JhLsh5xFi5NPdkNFJVZ5C/G3x08iFIvl1PF2ol3BIy+M4uPfGsaXfxTE3qNRHGxVUJlvDuBP13LldQh47mEvGsssONiq4MkDYdzztB+Pz3DQsDmAebzrpLnOkpEPnm6/nrZlb2KX5kohAPidbfakFpKvvRxc8e+zV/06djbarjlg/9EdzpTBK9NlUNINuH90hzPjkzSeORTB/pbYogdzhjLKSYc7OnDrqsy3kgViMThTdFPKqgKbmF0Ny3a3D05viTmmzAAUOYjIaF/W7jOLKOLTDetwaSiAg+3tOXGctfVoeOSFUTzyQvKss8Zyaawrx4udTTac6EgdcHY2mtPwn7jPjX2Pjtdp298Swz1P+685VmXP4XBSK1wmui3jITNd696JdnXRBjVnk+Y6a9IH8MFWZUVuh4kqfeKMSrd4HULKULSj0ZbR5/PiUXnKl4mqsZIXmdQ19mUoXt5jUd8n+fFOuejolSt48vZ7Mh/KolE4U6xvOSzLU1rPlpoo2ZBXvBq9Hx4zv0XqBkb7LqJq/e1Zu982l5Xh7vom7Dl+CjdVVaHC48na57r3qIwnD4RTBq2nHvTMKODsbLImBbnd251JQWzPoQi8diHlwOQT7cqUMV+Zmk02kzD4XF3egm3bE+0KDrbFEIjALOpZZsHOJisay+f2kRSQDexviSaNYfI6ze010yArwByvF++Gi3dfNS/gdljOBCCjdem6/HrKLtIbazNbrDbePSoAeO7hPBxvX9xxugxllHOOd3XBbbWhegEqxAdjsZShLBtnXwKAp7gWE+OAv/8iDF2HIGZnI7hVknBXfQN+ffAiftDSgi9v2waHJfvehuK1wFK1HDxxX3IJlum6+yaHqOY6C3B4akDatdU+pZtk8uN7HcK8S2AASBTW3LXFnva5n2g3i8BmukvIrGEVnNICdbBVGdsOtllV2Q/IBp48EEoqhxD/vRmsZ1fMdN2k7RtvNZxr/bZ4VfmFsrPRlhXj3rr9+pRB/ZnsUkw3vksAMjrT0gDw7QNmgdjdC9AlylBGy9KRzk7UFxahNMP1yQAgoqhwTgoJumFAMwzzHSDLeAuqIYgSDN18Q4yG/YhFRmF3+7J2/1V5vdhRswYvvHMGv7tpE1Zl2fJL+1uiaVuSnns4b8qHYLouruY6y5TrVvqklMFi7zE5qZuk269Pud9MBLJ42Kv0idi9w4nuES3t8997LDLvpZeSPrhHtESB3cYy87W09WqTtn0MJ9pVPDeDQdtdfj1pwHd8MPrkmlrxYqYB2bjmB/jkED3f1rIuv4bHfxJasJaoyoeleRX8zZSfTigjEq8TlsnJIgHZSHmcVvpENJZLONGuoK1HS4Rxr0OY9YQawOwe3d8Sw64t9kXvtozjmDLKKX5ZxsH2dmwqKYPPkfmTpi8cmlIkVjMMOCwW2CUp67aHIErwla1NfIAYAPy957J+P97dsBY13iJ8v+U01CwrKJsukO3aYp/yJt/Wo6UdsD+bcS4nJnWRHGydOhHCa8/MWpndfh3NY10+033wZKKY7OT7q8wX8Ysv+bBvd775k2KGY3x1hOkee3Igq5rwWgQAv3Pz1PD17QPhGa3POXWbqSuuTMhsTK7j1VguZaybfeL5kGrfeRzmUlmPvBDAkwfC2HPYbOGe7YSa+DG153DEPJaWcDkwtpRRTrkwNIR2vx/3N25ekPsfCkdQ6fUmf1s2DEiCgKxsKgPgLqjC0NXWxPfn4HAXyrJ8P5a53WMlMo5i5+o6fLymJiue18Q18yZL9UZ9YprxJqk+mLr9qes2TX7Mg21TQ1kmWsriY3LiryU+uD1V6EjVgjcfk8fixV/TQzc7pgTh7rHxQ6ke2wDw7VeSA9aNk2rBpRqbZsDsap7u9cQHrE+8b2MsFMyl5aep3DKluzuTlnJZqPjxMbFcSzzE3vO0f9oyGrNhADjUlnq2drygbXOdJVGeZvIXgZPt6jXLZcRbV4OyMaNWWoYyovi3soEBtPv9+EjFqgW5f1lV4Jo0pkzTdSiaDkuWjtPKK66DZHFCVcw3x6D/KqLhEdhd+Vm7HwVBwC3Vq/CT1vfx9NFj2FRaCl8WTKRIV9E+XSmKg2k+LBrLpZTXTxf4JoeihZj1Fy+DMbnFL1UoSmyPo5kLZelC5UPbUj/+3qMyHrrZMaX1an9LNGm7C0ieUBEPK6nCZvfwtVtN0rWWzSWUeR1CxmcGLrW2Hg1PHggldRemsueQuU8zcfykOx+euNedtF9SjQWNt6pOV3cu3oq6e4czY8ME5ordl5RTWnp7sSrPN2XB8EzQdB26AdjE5JNSM3Soho5sLSPp9JbC7ilMXI6M9EMODmb9vrRIEn6jaQPOXB3EB1mw/FJANtJWIE/1wZpq3NfEEJdKuhA3MSSlew7z/fYeLxY7eVzVQ9scaT+s0o3lyaR05RRS7Q8DwE9TTE7wOqbePtWsy5mMv0q1Lc71ssL/+H7R4bWLM+rSfeZQJO0xP5sQmOqxBEwdozlxyazJwSzdF66XW6LYe1TGTbWWJRtHxlBGOeuXFy7go9UL00qmGwY0fWqLmGGYP8jSCvQOdyFcnhJg7HmGg4MIB/pyYn/eWFGBO+rW4ltvvAm/LC/pc5lu7Emq7rDpui53bXHMKuA0llkmPA9tQV7b/pYYmussU1oCrtWas2cB1y8c375SmhAbnVEQnhzq4uUYJgazh7bZZ9TalSqULXZV92zWXGdNLLH02F2ua69/eWh+60YGZH3G+0oA8Nk0x/KLKZYQ6/LreGZsHNnX78uO8jzsvqScMRSJ4MpoAI9eX70g96/oOiRRnDr7EgZEURgbV5Z9rA43nHllMMba8gxdR3CoC6jP/n3qttlwx+o1+H8Pnce+s2fxf914I4Qs3M6pQsN0rV4pr9+afuD8xG/36QJAqpmbMxVfZDtd+NrZZE3bkjDfshAzkW4SQ/ewManVZOYtVpU+ccoYtrk+l7kuF7ScS2JU+kQ8tM2BHU02fGVfIG0Lb1uPhrYebc7dgtMF4lSvfWeTDV97OZRyH7b1aInjOD6O7Kpfx1894FnScWQMZZSTfnnxIio8XqwtKlqQ+9cNA6IgwD6por+m65AEAVYxexuW80qS65WN9HfmzH5dV1SE7avq8cPT7+HT69ahOm9pinWme1NO17U22wXI043bqvSJSS04CzHTb//p6JTHmdz60VxnmbY8RnOdd9H3SSCa/IF8rif9RImF/lCdSyhbCSUxqnwifvRoPh58ZiRlMDPGwvRijdVKNVlj4vOIb69nDkUS48h2NtmQLRjKKGccu3wZ9QVFqMlbmBpciq5D1TTYJMuUk1kSxaxswRkPZauTLo8OdkDXVYhibpzin1nXiHeOdOFn585hd3PzkjyHdG/mqUzbdZki+Ow9Kqe93+ceXtgQGp9R+sS9088C3L3diUfaAyn/drBVyfjC0rNlpGk1MX+v8eNsCcUXBH/wmZGU+2ixS4qkO4+7R7TEMRMvnLznUCQxKWE24uU34q89U+GYRzHlhCujo2jp7cUn69bBtkD1wmKaBkU3plT0V3UdiqZBErK3pczhyofbV46QvwcGAE1TMdLfjoKyhpzYv7V5ebi/cSO+f+o0dtTVoam4eEmex0M3O6YsrdTt16cEknRdl/Hp+ZNvn66VbDGqhscfO/4hMleZLI+RaW29KoDsm+W4nEtiTPli6BDw/9zlwlf2BVOeF/P5sjTr7ZIvAZja6huIIOsxlFFOiNcn21BavnDfxA0DNkmc0k2pGTo0PXtnX8Z5CqoQ9Pckmg+CQ905E8pEUcQtNTV4+fwH+Pn586gvLFyS7uKHtjlwsC2WYhmg5DpVaWddTuq6bOvR8OV9gSktBV6HgN3bnSkrzKf7oJ1uwHM68aKbjWUSvM5rH8Feh5B2bFC6EhULaaZdXum6NTNpLq97OZbEmM7OJtuUUiTCPEPZdOuhzrbbOptCLEMZ5bTTPT3oC4awqWThyqIOR2QUp1i6yTDM5u5s7r4EgIKKdei5eArG2Ogyf/8lVDfemrXrYE55/g4HfrtpI7537E3cuWYNNpUtTQncJ+71JJYDittzOILmOrMKfrwqfuoPJetYgDILa6bqFmmuteCxu91pA8d05SlmKz54/6kHvTP6QArIBu552p+2mOz+lmhG1xpM3Hc09facOCtViIe001OvF6+6n4nAGO/iymRrz0oxeVH3mQSrmQSpVDXn0nVbC5jd+FCGMqI5eOPKFXx01cJWfQ/Eoim7RiMpCspmI4e7EDZXHqLhEQBAeHQAsWgQdmdezuznm6qqUHOhEN99+zj+5tP3LEnB3kqfuRTQnkMR7D1mTqOPL/2ze7tz2rpLbb0qHnkhOqW2ktchYGejDbu22q65BM18PsAmtyKcaFdTLg81XcvOdMVk959eoFCWdlZq8rZalybIGljY7tWlLiiaSyYfa+kKL08M+vHZmenWq9zZaEuMAZt8jM8mMMbPLQHmUIWZfNFp69FSnvPNdZZEy3gmwx5DGWU9WVXxHx9+iK985NYFfZzRaBQ++9SuhrCioMDhzPrt5M4rgctbgmhoBAaAkL8X0dBIToUyn8OB399yA/767ddxqL0dd6xevWQtlLt3mN2LB1vN7sy2HhVPHghP+0Yen5HZXGsuXxRfB3A2H+rpWgZm21KWrljstaSrsB//gFqI8hipXluqD/PploV6MUPdq6nu2xyjtDKZYyr1OX9ZSFc3bPL6pTgNvHhMnrIkkgDgs1tTh7J03dYp9+GkUjUzPS9enrSCROJYrLUuyBqZLB5LWe/C0BBcVhvqC4oW9HGCsRgcKVrEDOiQhOx/U7a7C+DwFo/VKxOgKDIigYGc298bS0rR4CvBP54+g5CiLOlz8ToE7NpqxxP3uRMLaKcNcdud+MWXfPjFl3x46kEPnrjPjYe2OebUypLqNum61dJ9kO5viaWtmXat1zxd6FqIYrKpxrHt3u5K2drx0M2pP0xHZQNf2RdI+xitPRo+naZr9lof6DuarFiJ9hyK4J6n/XjgmVF8+mn/jFqmJl7nplpLytnIBoCv7AtMub8uv46vvRxMEdCtKY/JVDXgjDT78NHtzpzY5gxllPVeuXAB9b5CrC4oXNDH6Q+FUeyceuL2h0Pw2rJ/sK4oSiiqWAdj7I3JMAz0dp7Juf1tkyT8zoZNONLehZ+fP59Vzy1ehDWVa3VLzkaqJYJmM3MsHpzS1Uy7lum6AePFZOfS4pL6/qZ+sO7aYk8bDH9nmmWhjrerU8oyBGQDe4/K+MILo/jsVvv0LWnG1OcpZHjf5orj7UpSi2nXWBf+dPvewPjM5Omq5E+3pFl8fODkfZAqVKVbJWPyF5iqaWr0MZQRzYKsqjjb34/a/AIUu1wL+lhDkQjyU4SyUCwGhyU3evo9+cmzU4d7P8zJ/V7r8+G2mnq88M67GAiHs+I5dfv1lF0ocZkcV5LqA6Rthusv7j0qY3+L+cGYbgD9tVwrhDz+cnDW3akH21KvaDB5m1b6RDx2d/pzPc8h4K8eSF+pv7VHwz1P+/Hxbw3jnqf9uOdpP548EEaVT7zmmLO2Xi3FtrDkxADxxToHHnlhNG33dnxh7yqfOKUbcjZSBeeb6qx47C7XlBC4/7Q85TlODGp5DgHPPpw7Qzh4pFFWuzA0hPf6+nBrTd2C1glTx9a8dKQY6K8bRtbPvEy8AZXUwGJzjr1hCQgHhxEezb0uTKsk4fc2b4E/rOLFM2cQVZd2QeiAbODxl4PTdt/sPZa5Ikjp6p1d6znuPSon1Vk72Kpg79HZryk6XXHc+HO51vaIv454SYiAbCTNag3IBp48EE4ESMDstn3u4bxrjgu7qc56zYAVn6ARkA3cVGuZ0QdzqnVHP7uCSlpM1FiePozGuzX3HIpg/+ko9p+O4pEXRrH3qIzmsW09XSCbrot8uq7zh7Y5puz3/S2xxDFuAHhmQvf6fMPhUuBAf8r6UHZhaGhBS2EA5iD/dDMsw4qaE7Mv4zy+cgz3to+/tqEuuPKKc27fl7hc+GhVDV54513cv379oi+/dLA1hr3HzEr8MxlLs/doNDGOq7nWOm1rz0xMrrAf76pJObamXcGX96VuvXryQBhPHgibLVB3udIuKXOiXUlMZJjJ6z3YquBgqx8PbbPjsbumlpJprrXgifvMNQV373DikRdG0TbWilXpExPrScY/pB+62TGrgdO7dzjx2a325MHiKT7809WDS+XkpK6wXOr2yvgXvLEWpq+9HEzdRTipKHJzrQXPPeydUVevAODr93qm7Lsqn4iv3+uZ0X6f+LyePBDG/tPRpELPD93swEPbHDlXykQwDMMAUZb6b6+8gsOXOvDS535vQR/n0vAwDl1qx+9u3jLlb3978hg+Vb8Old78nNhm50/+HOdbDiQu1zR9HBs/9luAkHt1loYiETx+6DXcsroM37h9J0RhZdWK+vKPgkkzv3bvcGZtVf2JYbbbr6cMQifaFZxoVxMfxI3l0tiPZV4fnifaFbT1aIkP5UqfaJYsmMVYMAOYrPvKXQAAIABJREFUsn7jE/e6V2wom8icdatMCezxiSTxWbGzZXY1mnX/4pNqZnM/8dvHS9B4HQIaK6QlXah9vthSRlnteFcXtpZVLvjjhBUFDkvqN3BJAixi7pwqnoIKSBY7NNUcqxMJDkJVY7BYc+/DpcDhwJ1rGvBv507jdzdvwnUlJSvq+H/sbhdOdCiJFqW9R+WsD2XTLe5szqLLfKtzJu63268nBbJdW+wMZGPi4TnTKufZElm5DFsyOaaMspZfltHS04ObKqoW/LFGolG4banf1HuCQXhttpzZbu78Mrjzi82VCAwgNNIHOezPyWNAEATc09CAMqcP337zLYzI8oo6B+JdjnHpZpvR/KQai7QQNaiIGMooZ7X09KDam4+qvIXvNvRHZHisqYNXWInBbsmdljKnpxAO93j5kEjIDyUaydnjwCJJ+PTaRrze3oULQ8Mr7jzYtdWeVJtrIeqErXQTZ+wJAP7qAS9nXBJDGVGcbhj4xYULqC8oQsMCF40FgCE5AneKav66YUASpZway2S1O5FXWJWoV6ZpKvouv5fTx8PNVVX4WNVq/PmvjyAYi6248+Gxu13YtdX80nCiXZ12qSeanXgrWXys1NfvdXNZJWIoI5poIBxGS08PbiivhHuBuw4NAJquwyZODV4RVYXTkntDL/NKVk24JGDw6oWcPh7sFgvubliLi0Oj+Nm5c9BX4PykJ+71JFrMHv9JaFbr/lF6zxyKJMpycGA/MZQRpfB+fz/ODw7ilpq6BX8sRdOgG4AzRfflaFSGz5F7b9KFZfUQBAkGBBgA/H0dUJVoTh8TG0pK8PFV9fibt0+iJxhckefFY3e7sHu7c0rNL5qbPYci2HM4gkqfiOce9jKQEUMZUSpn+/rgl2WsK1z4+lq6YUAzDFhSdFFqhgYxB08Tm90Fd14p4n2YmqZhZPBKzh8Xd9U3IKLo+Nm58yv23Ni9w1xj0+sQzAKehyN8w5ilUdnAl/cFsOdwBA9ts2Pfo/krciklYigjmpHDHR24qaIa0iKM5dJ0HRZBgC1FNX+/LMMu5eabdUHFmvF1MAEM9V7K+eOiJi8Pn1rdhD3HT+HC0NCKPT8qfSL2PZqP5x72mjuXZuWqX0djmQVH/kcBHrvLnbM1rYihjGhRHL1yBZtKyxflsTTDgG4YcFinjh0LK0rOFiz1FVWb3ZeG+RMY6oGu53Z3lyAI+GR9PZyiAy990Lriz5PmOitLN8xBY7mE3TucDGPEUEZ0La0DA4goKjaUlC7K40U1DaquwyZNDWXm7MvcPE1c+aWw2ceXvxkd7oEcHsn548PncODBDZvwdyfeWbFjy4iIoYxoUbx5+TLqfAVoKCxalMfTxxYjd6WYZZmrsy8BwOn2weYYX0dODo0gJi+PELOlvBxr8kvwZ6+9BkXnYHciYigjyriYpuHXHR1YX1SKCs/iLEAdVhS4rTYIKbopR6My8hy5OSPL7S2CO684MaZMjgQwOnh1WRwnBQ4nHtiwGYcudeFIRwdPHCJiKCPKtP5QCO/396O5shqSsDiHZzCmpBzkD5izLyUhN1vKBFFE4aTB/v05Xq9soi1lZWgsLMMLLad54hARQxlRpl0eHcX5oSHcWl27eEEwHEaB05Hyb+bsy9yt7l1W3WT+ZyyV9V85t2yOFZsk4Q+2XI/X27vxyoULPHmIiKGMKJPO9vXBa7OjwLl4M8p0Q4dDSt0aZs6+zN3t6S2ogCSOv7ZwyI9wYPmUkqj1+bCztgF/+eZRDIS5JiQRMZQRZczLbW34aFXNoj7mYDiCErd7yu8NABAECMjdVCaKIooq1441lAmAIWCg59KyOV6skoTf3rARHUMh/PN77/EEIiKGMqJMCMVieL2jE82V1Yv6uL2hIHyOqd2XxliVf5uU24sTF5TWjNUqM4PmcF/nsjpuKjwe3N+0Ac+dPA2/LPNEIiKGMqL5euPyZThtVtQXFC7q44ZjKvLsU2dYqroOSRThtOb28iv5hVUQJ3TPBoZ7oUSX19I8d9Y3wCU68Z1jx1bkYuVExFBGlDG6YeBIRwfKXF6sLShetMeNKAqc1tTjyQwYMAwjp7svAcDtLYTd4UnMwAwFhhCVl1fR1SKnE59e24h9Z1vx5uXLPKGIiKGMaK5Go1G09PZic2kZ3Dbboj2urGopK/kDgKrpUHUDFknM6eUF3XlFsLvyAAgwICA4OoRw0L+83sgEAXfX18Nn9eD5d1p4QhERQxnRXPUEg2gdGMBtNasX9XFDSgxeW+ruSd0woOo6rEJujymz2p0oKF1lBkvDXMGg/+rFZXcMWSQJn9+8FW91dONMXx9PKiJiKCOaiyujoxgIh3Fz5eLOvIxqGhxpllHSzQ5MxAv953JrWXFFfdIL6O9annW9rq+owA1lq/DV115DMBbjiUVEDGVEs/XqxYtYW1AMl21xB9WPyjLy7KkLx+qGAYsowmEZf065GsxKK9dCEMTEuLLB3k6oSnTZHUdOiwW7GptwpmcI//b+B/NI61HA7weCQUCWAU4eICKGMlopfn7+PG5ZVbfojzsSjaat2B8PZbleEgMAHC4PvIXlgGHmC1VVMNTbuSyPpetKSnBLZR2eO9UCda6LlR85AjzyCPClLwFPPQVEIjxJiYihjJa/dr8f3YEAtpZVLPpjRxQVLmv6MWWKpkGaNPsyV9tM8gsrkp77UP/ynaX4wIaNiCjAP7/3HrS5tHL967+aP88/D7z0EuBw8EQlIoYyWv4Otbej0OFCtTd/UR9X1XXIqgq7JXVLmKJr0A0si5YyACitbEBigByA4f4u6HNtScpyNfn5+NTqdXj+VAsuDQ/P4aA8NP7/9esBkW+VRMRQRsucqus4euUKStxu1PgWN5TFW8LSlcQwDHOwv5jiAzkXW8vceYWw2V0w4qUxAkOIRoLL8rgS/n/2zjs+jvLO/+/Z3rTqXZZkSbYk927cG2BsWoCEEvhBwiUkIQSOkAt3l5BLIORSLyQEAkkgkEAggdAxxJjmgguusmzJRb13afvu7M78/hhZskDNYFsr87xfr31ZM/vMzLM781gffasksSo3lxZ3kGcOlp7awc3NcPSkxu2zZomFKhAIhCgTnPu0+3wcamtjVU4eeunsPo5hRdGyL4ewhIWGycwcj8TEJWGxOfuC/V097fi9Pefss5Vkt/OFoun8ZX8ptT2n8Dl37YKTLYiFhWKhCgQCIcoE5z4NbjdHOjpYlp171q+tqioRVSsOOxieUJBY89CxROPNWmaxOrE54zmhyuSAn57O5nP6+Vo4YQJFCak8sGPH6Etk7NnT/3NiIqSkiIUqEAiEKBOc++xsaMCiNzA5IfmsXzsYidATCAwZ6B9WI1gNxnNnsev1JKfmnSRKoaO1/px+vjIcDq4qnsam47VsrqkZ+YBIBHbv7t+eMAGSksRCFQgEQpQJzn3eqqhgXnrmmFw7oih4ZRnLEDFlPcEAFv3womy8WcvSJkxGVaXeF7Q1V6OeCzW4FAWUSP/rpM80PSWFNHssTx0oHTkTs7MTWlr6t1NSICbmI2o9rNUuCwRAFKgVCASnEYP4CgRjhU+Wea+6mv9asmpMrh+KKBglHcYhYsrcwRCxFuuI51Fh3LQsT0jJwmyxEQj4APB73HhdHThix6E1yOWC+npobISmJpDl/vcsFk1QFRVhSk3j+mkz+ckH7/Lm8eNcPGnS0OesrYW2tv7t4mLNhQmaANu6Fd5+W7teOKxdZ8oUuOQSyM0Fg/gvVSAQCFEmGIccbmvDpNOTF5swJtfv8vuJsw4dMxZWImc9+eBsEJecSXPdMQAiEZmO1rrxI8rkMDTUay7GPbuhu0cTZ4HAwHGSBFYrJCfD3LlMuvhiVmTm8cT+/cxITWWC0zn4+Zub4eSkgKIirbr/rl3w8MOaKGtu1gTZCZxOeOYZ+OY34ZprwGwWi1sgEAhRJhhfbKqsJNnuICcubkyu75VlYkymId8PnkL25XiylqWk5/WJslAoSGtjNdkFs5CkcfAJujrhwQehunqEG6KCzwc1NVBTQ0xVFddeehm3VVTzj9JD3LV40eDHHT8+UJRlZMAPfgC/+512vsFwuTTRdvAgdHXBV78KNptY4AKBQIgywfjAGwqxv7mZiXHxxI/CRXgmcIeCJFiHvrYnFMJ5Dlo9nAkpSHo9SiSCqiq4etqQQwFMZmv0T769XXNZ6nRgMoEzBnJyITW1f0w4DKWl2tgTFrSSEpL1elZdcD5PlxziK3PnEDvYvS37SL/Me+/V9oVCkJUFy5drLk2Aykp49VXtOqC1YnrgAc2decEFYpELBAIhygTjgyaPh4Otrdwxfym6MbLQ+GSZZKt9yPcVVTml7MvxYi1zxiVjtTvx9GiV7l1d7fi9rvEhyvwBmDkTJk6E4iIoLNLclION27sHHnlEs3D1ZlWuv/wyDhltPLpnD3ctWoT+o8/e/v0Dt/fs0WLTbr4Zrr8epk076QFRtCKzt98Ob72l7auuhl/9ClatEvFlAoFAiDLB+KDB7aaqq4tFmdljNocWj5fixKFLcXSPIvtyPAozW0wcZqsTT0+3pl+8brzeHmITUqP/wSkugryJEBs7fOsjqwUWLdLiv557ri8JIKO5hbV5k3mt/DCLs7JYmn3S8xcOw4EDA8+TlAT33Qc33vjx/pc6nRZz9qMfaW7Pqipt/4EDcPgwzJghFrpAIDglREkMwZjw5rFjzEhJxz5MTNeZpivgJ83hGPJ9VzA4ZA2z8YzZbCMxOatPRIYjYTpbG8fH5G02iI8fXS9KnU5zJZ7IngQMisJFBQWEwxIP7do9cPzRox9PGPjGNzQr2XANyefPh299q39O3d2wd69Y5AKBQIgywfhgU1UV8zOzxuz6iqqil3TDBvKHFQX9OdqIOiN7MqpK36u1sercfNCMRi32rFeAdskypa2toEq0erwDx+7YMXB78mS4886R3ZAGA8yZo4lF0IRdba1Y5AKB4JQR7kvBWafd56O0tZWbZ8wfszl4giHsw1jBQpEI5iHql43EeHBhpmRMRNLpUZUIAN0dLYSCAUzDtJWKarxezf0YDEI4jBoMIkXCUHIQ2tspS07mcFIi23paSP3wSSp7bFxePGXgObZv7//ZZIL/+q9+oTUSsbFakdmOjt6HQBULXSAQCFEmiH7eqqwk3RFDbmz8mM3BG5YxDxPE7wmFiLN8coES7cLMbLERE5tIT5dWKDUYCtDRWkf6hEnR/fAoEQiGwO2G8jI4WAplhyEka0Kot5F4RFUJGgwcdjh4c95cuowws6meBxxHOWav4YjuUm6cPa//vIEAHDnSvz1lCixeLBarQCAQokxw7qKoKttqa0mzx5AbP3aiLCDLWIaxhMlKGINOf07fi5T0iXR3toEEYTlEa1NtdIuycBi2bNEKuFZVDawndpIYro6LY/uECRxISSCrq52VR0u49Eg58YEAPTPMvK4s58LJBczPyOg/sL5+YCX/efMgL++TzVOSQK8Xi10gEAhRJohuGt1uSlpbWZKVi1k/do+fV5axm4dOMugJBoa1pI2GaLeWpWTkcuTQLlAhHA7T1dGMoijoojCOTm1qhKeeRtq/vz8Yv7dqvypJdKsqNTFONkwrpiUpgfkdzdx7cB+5ZYcxhyNIqgo6OJiYwa62FN5YMB/TycKpqUkrAnuCGTNOraRFSwt4PNrPZrPWyFwgEAiEKBNEM+0+H8c6Ovje4tVjOg9PKIR1mF+63YEA0mkIC4pmYeZwxmOxOgj4PaiAq7sdn7cHR0x8dE3U54PH/gz79vZ/n9kTYO48ypKSOez38YHfRVpuNqsmZrN64kQtq9bvh2XLQNbEkpobw6uGS1lcWEDGR5uMNzb2F4EFWLBg9POLRODYMa2ZOYDdDlOnisUuEAiEKBNEN8c7O0GF/PiEMZ2HKxgkwTJ0KxxVVQdaUs5BHLEJmCxW/H5NtHhcXQT9vugSZXIY9Z8v9NUPkw0GAgsWUr58Kf/yeHBFgkwvyOKXs2aQZLMN7MDgcoGvP8OybdIiNneb+OWCwo9f58ABrWr/CWJjRz9Hr1dzqfbGs5GcDPn5YrELBAIhygTRzba6OmanZaIbw0bfqqoSVhQMuqFtWIFIBLPh3BZldkccMc4Eejq1WKqA30dnRzOJKZlRM0e1pQV2bCeMSlVCAruzstiTk0la2M+qydlcNKmA5KH6TL7yCiiauVPW6XhSUZmVlsp5mYN8vo+2VzqlvzSOa+2WTnD99aPP2hQIBAIhygRjQURV+bCxkVXZBWM6j7Ci4JfDmIYJ5O8JBE5bT84TXtBoc2NKkkRqxkTqqo/0zbC5vppJxXOjYn6KqtLT0c4hk4kdC+ZTE2Nl1rRi/nfpYtJjYogxmYZuot7YCJvf79ssSU3llYQEfjtnDrGDZdV+VJRFIqObZCgEf/xjf7PyWbPgkkvEYhcIBEKUCaKbA83NtHm9TE5IGltRpqp4ZRnjMO7JCBF0kvGcvyeaVUzqK6vV0RYdlf3L29vZ29zEgZoKktISOK+6jO9XVJA29z6kpFE8P5s3w6HDfZvPFRaSMKWIZTk5Hx/b2TmwHAbA7t2jiwvbtQteekn7WaeDtWu11ksCgUAgRJkgmtlSU0Oc2UpBQuKYzkNR1d6YsaFdqJ5gkESr45y/J7EJKegNJsKyFk/l9fTQ09VGbHzyWZ2HrCgEZJmy9jb+VVGBK+Rnemoi3/N0MXHjBpzBYK+iDo9wcxUoKYH/+1Wf9arVbuftGTP48fx5gx9TUvLxfa+/DjfcMHxpi+pq+PWvobVV287OhquvHr4lk0AgEAhRJhhrAuEwW2prSbE5SLWPrdgJRxSCYRnLMCUveoJBdNLpdThGYyamyWQmNSOHhppj2ncjy7S11J81URZWFOpdLrbX17GvuZFku4VV+ZmsnphLptMJPo9Wpf8EW7fCBRcMLXx274af/hRcbk3s6XT8dcYM5uVmsyo3d/Bjdu78+L6NG+Gvf4UvfWmQG6lCTQ3cfTe88MKJLxK+9jWt3ZJAIBAIUSaIZupdLo50dHBV4fQxn4usROgODl8SA0lCdwYkVLQJM6PRTMaEAuprK0BVkeUQTQ3V5E2eecbqlYUVhTafj7L2Nj6oq0UhzOz0NH64ZikTnM4BsWLqpEmQk4NUU6Md/MYGsNrg8ssgJaX/e21oQHrrLdiwob80BVDnjOWdtDR+7bCTYLUOLrC2bOnftlg061hPD9x6qxZbNn8+OJ29ar0HnngCnn++v9is0Qi33aY1LhcIBAIhygTRTrvPR3V3N/PSs8Z8LhFFIaIomIcQZVqzcgmDXnfO3xedXo8zPgm93kA4LKOqKj1d7YSCfixW+2m/Xnl7OwdbW9jd1IDTYmRF3gRW5uYwwekcNGhfysmBRYugvgEiYa2d0rPPwDtvw0mWL6myUqszptNpwfYBP5SVs3FiLjZXF3NOiKqP4nINrOS/bJlWo+z++7U6Z1/5itaYPCNDE3D19VBR0T9er9esaT/4wamV0RAIBAIhygRjxY76enJjE8iIcY75XDyhEE6TeUj3ZFhR0OskrIYzE+gfbdYyZ2wCVqsDt6sLAHdPF36f57SJska3m7K2NnY3NRCIhChMjufHa5aRFuMYWFdsMMxm+O53USUJ6eWX+7McW1v7Y7nQvlDVpkO65kb40pfhj3/Ed7yCpyYV8N1NG2HuEBmltbX9TcQBLrwQ7rgDHA743e+goQGOHtVeA9SsDoqL4ctf1kpgCEEmEAiEKBOMF7bU1rIgMxNLFNT+6gmGcJhMw4gmFQkJvaT7TNwbZ2wiNnsMblcXKuB2deHzuolPTP3E51RUldqeHvY0NbKzoY5Yi5ElOVlcmJ+nxYqdCjYb0u23Q0wMbNoElZUD75cNwvk61BULMX31djDbYM4cXm9oIM5hZ8FFFw3dMik2Vgvo7+7Wtq+4QnNHfvvbmoXs97+HHTu0FkqSBHFxWlbm/Plw3XXavwKBQCBEmWC80Oh2c6i1jTvmLxk2uP5s4Q4GSbQOXYNMUVRkRcFwBntARpO1zGgyE5+cTnNjLSpacd2m+ioyT7GeXFhR6A4EKGltYUtNDZIuwtTUpEFjxU6Z+Hi4/XbNMuXzaVmWHg+RjhL8VQ+hS83Hct49miADGpYs4c/NTdy+ZBF5kycPfd4JE+Cee+irCXJCvJlMcOWVsHq1dj2XS3tlZmrWu7i4U+uNKRAIBEKUCaKBXQ0NmPR6cmKjo8p5MBLBPoylLKwohCMKRp3+M3OPklMyOXzSdmd78ykdX93Tw4cN9extbsBhNrJsYgYX5OcNGSv2yf63MmjirLdavhr2E+z4DUqsinXet9E58/qG7mxspEtVWF9cjM44zB8CkjR82Yu4OO2VkSEWskAgEKJMML5RVJX3q6txmCzkxMZFxZy6/H6mJg9f8kGStNeZJJqsZakZOej0epRIBJBoa23C7/dgHaZWW6PbTXl7Gx82NhBSZSYlxvGj1ctIH02s2Kf97oLd+Pf/DLn7KLa5P0Sf0J/V65NlHv7wQ26dPx+b0SgWoUAgEKJMIACt8Xd5RwcF8QlYo+QXZJvPS6I1Z8j3I6qKTpLOiqUsWoSZ1WYnLj6ZjvYWAILBAO0tTUzInfQxkV3b00NJSwtb66pxmA0sz53A0uxsJiWevSbzcsMmQg1vY51+O4b05QPe21hRgaxEuCA/TyxAgUAgRJlAcIK6nh4Ot7Vx18LoaD2jqiqeYGjYmLKwomCQdFg+QzFDeoOR1Iwc2ntFmSzLNDfUMCF3Eoqq0un3U9Lawvb6WiJqmGmpyfxwzVJS7XYSrdbT56Ic6f4pYYI1rxE4/EdME6/ClH8Nkq5f7HcHArxQVsbNc2aRJ5qCCwQCIcoEgn6qu7vxhEJMT0mPivkEIxFMBv3wIkJSkXRnL/syGqxlRqOJpJQMJCRUVSUSDtPZ0UJFezsH29vY09SIxaRjflYa6yYVkOV0nvaOB6Mh0nMMf9mfMMQWYCn+twGCDOBIezuNHjc3zZw5JvMTCAQCIcoEUcsH9fXMTskkyWaLivn4ZRmzfvjHPqKohCIKBv3ZC/Qfa2EmSRKx8UmYLTa65DBdZjuHPSESD+6lIDmBu5cvJCcuFpvReEazUocj7K7CvfenSHorthl3orMMbEweVhQe/nA3F08qGLbkiUAgEAhRJvhM8ubx41ycXzxk9fyzjSsYHDEIPawohJUIRp3uM3OfIqpKu2SkMmUiVUE/toCHCV3V3HHxBczKnzz28/M14dnzU9Swh5iFP0Hv/Hi82K6GBso72vjeiiVi4QkEAiHKBIKTKW1txS+HmZKUgiFKCrFGVHXESv2KqoyJ6+tsW8siikKH38+htjY+qK/BKwcxR7zMbDyMNRzAGgkjt9TDGIsyNRzAX/YE4Z5jOGbcjj52EnzkeXIFg/xp717W5OUy7aSemAKBQCBEmUAAbKutJcZkJjsuLmrm1B0IEGMe3rXlCgaHrWM23oVZRFU53tHBtro6DrY1kem0c1lxPrPT0zj2wSbeOrqzV5xCXU0F8xevHjtBFgngK3+CQP072Kbcgjl7HdIgAv9AczO7mxp4b+1NmPR6sfgEAoEQZQLBCWRF4f2aGhwmM6l2R9TMyx0MYRkhpiykRIg3W8+p+6EoCm1+P+XtbeyoryMQCZGXEMt9a5YPiBULTZzcV9weoKbqGIqioBsjV26gdiPe489jyVqJNfdSJP3HXc9hReGxffu4vKiIbNGDUiAQCFEmEAykweXiSEcHF+UVRlUPSX9YJmmERtteOTim1fxPt7WsrL2dnfX17G9tID3GzvrCAqalJg9aMiIhORWbzYHP50EFvF43HW3NJKee/Yr2wZYP8ZT+AVPyHBxTv45kHPy+7Wpo4FhnJ/+5bLFYeAKBQIgygeCj1Pb0UNXVxey0zKiZU1hR8IVkTI7hBVdPIIDDbBnTuX4aYRZRFHqCQQ60tLC7qZ7ugI9JSfHct3o5Gc6YYeuKmS1WcvILOXxwDyoQCoWorjx61kWZ3FmGa+8v0FlTcUy/DZ01adBxgXCYDUePsWJiNjNSU8XCEwgEQpQJBB/lYEsLaQ4n2c7ocScpqkpYUUbMqgxFIsSNw76XEVWl3uXi7coKSttbyIixsTo/l4VZmWTGxIwqecFstpCdM4lDB/dq30UoSF1tJfPOWz5oLNcZuU/BHtwlD6GEPMTO+28Mzuwhx1Z1dbO5rpqXrr1GxJIJBAIhygSCwdje0MC8tEycY2xxOhlZUfCHwyNW6g9FlDGrxfVJhGabz0dlVyfv11TjDvkpTE7ge8sXMTkp8ZTriun1BpLTMjCZzISCQZSIQltLEz6fF7s95swLy0AXPXt+Sai7gviF/4Mpedaw458tLWVOerqIJRMIBEKUCQSD4QmFONDczJdnzIsqcaOqKioqxhEsKl45RJxl7MXkiXj7oexbZe3t7G9uYmdjLQlWM1cUFw0ZK3YqJCWnYnc4CQbbAGhvb8Hjdp0VUeY98gz+2k3Ezvk2ptT5w46t7e5hw/Gj/O/5q8WiEwgEQpQJBIOxp7ERRYGJcQlR1epGjkToCQSxjmApk5UINoMx6r7XE7Fih9ta2dXQQFfIw6TEBO5bvZxMp5MEq+W09KCMi0/GERNHR0c7qNDT3UVXZzupZzA+UFVC+Ovex1vxMjFTv4Q9/zKkYVzIsqLw5/37mZSUwMrcXLHoBAKBEGUCwWC8XVVFjMlMXnxCVM1L7g30H8l96ZVDmA3R06ZHUVXqXC4211Szr6WR9Bg7S3IyWT1xIakOx2kXvharlfTMbGqqjqMCkYhCfU0lRVNmnrHPGGj+kK49v8KSPAtH0Q1IhuFLkhzv6OTVo0d45NL1UWHVFAgEAiHKBFFHVyDAh42N5MTG4zBGV//BUCSCJEkjBvr3BALYxrgt1MmxYtvr6+gOeJmcFM89K5aQExdLrMV8Rl3DuXmFbN/6DqC5Uauuh7/RAAAgAElEQVSqjp+R66iqSthVTU/JH9BZ4nHOvA2daWQ36caK4xQmJ7I0O1ssOoFAIESZQDAYDS4X5e3tfHvB8tPiSjud9AQCJNtsI84rGImMGHd2Jqns6mJnQz27m+qJsxi5tHAyczLSyY07e8Hs2Tl56PUGwuEIAM2NDQT8PizW09tYPuxpoGvvA6gRmfh538EYM7KLtMnt4e3qKu5YOH/cJGQIBAKBEGWCs069y0Wzx8O8jIyom5srGMJuGj5WLDKKkhmnmxOxYkfa29lYWUFbwMX8jDQeWH8+OWOUVWi12UjLyKautgqAQNBPQ0Mt+QVFp+0aiuyle//DBFoPkLLyl1hS5458jKry7KFSnBYTawsKxIITCARClAkEQ7GzoYE5aZmY9NH3aPnD4RHjj1zBIM6zFKN0Ilbsg9oaPmxuICPGzoWTJrAgK5P8+PgxTZIwmS1MyJ6oiTIVQoEgLY31p02UqZEA7mMvEGgrIXbazZiTZozquCaPh7cqKvj3RQtHjA0UCAQCIcoEn2nera5mUVY2TrM56ubmDgZIdziHHRNSwiNmZ35aIdYVCFDW3sr7NTU0e3uYkZrEb9edz4RYZ9S4fE0mM1k5eUhb30NBRQ5HaG5uQpZDGD9lrKCqKrgrXqer5DGck64kduqNoz52a20tqqSyamKuWGwCgUCIMoFgKJo8Hlo9HqYkJUdVv8sTtHq9TElKGXaMPyxjkM5MPFllVxd7m5vY3VSP3ahj3aQCFmRlkuWMibrYKEmSSElJx2p34PG4QYXGhno8bjfxCYmf6tzBtlK6Dj6BJXU+sVO+OOrjfKEQ/ygt5dppU3GYTGLBCQQCIcoEgqHYXleHQWdgckJyVM6vOxAkMyZmhDGB0xbkf3Ks2Pu11dR7upiWksT95y9nUkJC1N/PpORUYmMT8LjdqEBDfS3dXZ2fSpQF2g7Suv3HGBxZJC24C/0QPS0/iqKqPHPoED5F5qri4rMe9ycQCARClAnGDaFIhL3NzaTa7KQ6HFE3v4iqIiGNKLhCkQg6Pp0LUVFVmjweNldXsa+lkRSHjSU56SzOnj/msWKngjM2ltj4eOrrawAJj9dLY2MDE/MnfaLzhQPdtO99CDUSInHOrRjsaaM+tsnj4aWyMtYVFJAWhc+XQCAQCFEmiBpavV72NDYyOy0rKl2XvlAIm3HkKv0RRUGvO3XRdCJW7HhnB5uqKmn1upiWmsiP1yynMCkx6sqDjAZJkpg0uZjSkgN9+2qqKliybOUpn0uNyLR/+ACyq57khXdhSZ5+Ssdvq62lw+/jlrlzxGITCARClAkEw9Hs8VDa2sqN0+ZG5fw8sozVOPLj7goFiT3FJuoNbjfb6+vY3VSPWQ+XFk5mdnoaE+Pjxn0drcwJuX09OAGqqipOTawqCi0tLegaXqTr+EYS5/879qylpyyonzt8mK/MnR2VCSQCgUAgRJkgqihvb0eOKOTHJ0bl/AKyjHkUZTpCkTDWUVjUOv1+Kro6ebuqkqqeDmanp4ybWLGRaGlpQVEUDAYDJpMZi8WKP+DXxK3HTWtLMympo3M9NjU18dvvXcX/W6rw+p4QxQlGLpt2an1Ft9TWEVEVrp46FdMYFvUVCAQCIcoE44IttbVMTkiKyvpkoNUoG03Gnj8s4zAN3ndRBRrdbnbU1bGzsRabycCavBz+Y5zFig3Hrl27+NWvfoWiKJhMJvR6HQYpjNWifXehkExra8uoRVmos4zL5yrsrgzzwo4gf7r11Aq+dgcC/LOsjNV5uSKWTCAQCFEmEIwoZGSZrbW1rM8vJiZKSxW4gkEcppEtNF2BABmOuL5tRVVpdLs51NbCrsYGgpEQU1IS+fmFq5gYHzcuY8WGwufz8eijj3LgQH8MmSRJZGWkMik/B4BAIEB1VSVTpk5HN6xrVsXfdhi59P+oaYvwm9f8mKxOUlJSTmlOuxsbOdrZxv+ev1IsNIFAIESZQDAS5R0d6CUdhYlJUStS3MHQqGLF5EiEE8mXTR4P2+pq2dfciEGncPHkSczNSD8nYsU+iqIobN++nSNHjgyUVqqKPxDoTYDQoaoqzc2N+P1+7Hb70OeTfbTu+T3tHZ08syVAQFbJnzwB0ymK9n8ePsziCVkk2mxioQkEAiHKBIKR2FZbi8VgZF56ZlTOT1FVQpHIiLWtZEXBHQqxrbaW144eQ6dTmJ6azN3LFjArLe2cvocNDQ387Gc/o729/WPv+fxBgsEQVqsFVYW6ulpcPT1DirKwv4PGbT+js7GMX7wc4GiT1tQ8NzcXq9U66jm9cuQIVd3d3L1svSgWKxAIhCgTCEbCEwpR3t5OZowTp9kSlXOMqCohJTJkr0QVqOnu5r2aajbXVjMxLp4ri4uYl5FBcXLSORErNhKbNm2itrYWALPZTG5ubp/VLBgMIcthTrQEbW1poaeni/RBms6rSpiushfwNe/B51xKk+v1vvfS0tJGbSnrDgR449hxpqUkUZSUJBaaQCAQokwgGIl6l4udDQ18vmhG1M5RjkToCQQG1B9TVJWanm4OtrawpbaazqCX4uQEVuVl89XZc5mWkvqZuYelpaU89dRTAOj1etasWcPq1av5zne+o4naSIQetwdHjKNXeKkcPnyIouKpHxFkMp1HXqWt5GmSpn+RiqYM/MGXALBarUydOnWEOLR+9jQ1sbe5kX9e84VzzlUsEAgEQpQJzgiNbjfl7e3MSIle954K6JD6SmLU9vTwfk0179dWokoRrp46hVV5uWTExPDgjp0YdZ+dsguyLPPee+/R3NwMgMPh4PrrryctLY3Y2Fh6enoAcLu9qGq/qG2or//YuTyNe2nd9zj2rPNImHo1TfueRw7JABiNRpKTR99+69XyI1xQkEeW0ykWmUAgEKJMIBgNW2tryY9PJM0eE73CIxKh2ePhraoKdjbUgRRhZloKP79oFYuysvrGdQcCRFCxGD87y+Ldd9/l0UcfJRLR4r6++MUvMnfuXNxuN3PnzuWdd94BwOVyo6pqXyJHXV0dPq8XW29cmbellIZtv8AUm0PW8nsIRXQcOnQIRVEAsNls5OXlI8syVVVVvPzyy7z77rtUVVWhqlp52vT0dC6++GJyFy+muqeTBxZfJGLJBAKBEGUCwWjZXl9PYUISZkN0PkoNLhevHzvGxspjZMU5uKywgJUTc5mVlvaZd4sFg0FeeuklZFmzZmVmZrJq1SpAc2MmnRTLFYko+H1+bDYbKpqFra2tjRy7HdnXTsuBJ0FnIGPBbehNdsJu94Ckgfj4eJzOGF566SWeeeYZjpQfIRwJD5hPU1MTjz/xBI7mZmbMnytiyQQCgRBlAsFoqXe5qOrq5uaZBUMG0Z9tVFWl3uViX3MT79dU0+DpJjcuhtUFWTx66aXohwnaj/RabD4r7ssXX3yRHTt2AJol6+abb2bGDC020GKxUFhY2DdWUVWCoTBWm+YO9vn8VFQcJyMlhrqtvyTQcZzc1fdiTS4GwOv1cvz48b7j7XY799xzDy+//DKKopCYmEhKSr87s7auDq/HSyQpiVqrhfqf/i/Pm4x8/vOfx2AQ/00JBAIhygSCYSnv6MBqMEZNa6Umt5uNFRVsrq1GVkNcUVzIipzzMOh1PFtaOqwgA60ZOYDZ8NkQZc8//zw+nw/QMiPXrl3b955OpyM+Ph69Xk8kEkFVVVRAknSoikokotDc3ExTyXO4G/eSNvsmbCn9gf8tLS10dXX1bR84cIADBw5gMpk477zzuOKKK8jOzu57f+/evTzxxBNUpqURbGkmXFPDk08+yUUXXURcXJxYbAKBQIgygWAoworCzro6YkxmpiSljNk8GlxuDrQ08fLRcoKRIPMy0rj3/GUsnTChb8zW2tpRteiJqCoSEqZz3FIWDof5wx/+QGlpKaBZye68884B7kqA1NRU4uLj6GjvIBKJIEk6jCYzgUAAvU7Fc/wVWgIucuZ/iaQpV4HU7w7eu2fPgHPJsozFYuGWW27hlltu+Zj1q7i4mNzZs/nyiy8Qfvqv4PPx5ptv8vLLL3PTTTeJBScQCIQoEwiGosPvZ29zM4WJyWMST1bf4+K1o0d5+dhhEqwmvrlgPguzMskbpAdlq9dL4iiKliqqiqqC8Rxvel1VVcWLL73Ytz1z5kwWLlz4sXHx8fHE2GPoaO8AICTLhCMRVCDF4Wd6UhPJuatJLLocncE84NjSQ4cGbOv1eq677rpBBRloyRj7PB7Crh6MjY3Ivfuff/55IcoEAoEQZQLBcNT19LCroYGfrrrorFxPVVVaPF52Ndazra6WGlcnM9OSee7qK5ianIJON7RrMhgJEz+KNj1yJEJEVaImPu5M8fjjj1NXWwfQZ71yDlJ6IiUlBWds//7W1lbiYp1MiJdZMbEdU2IRloKr0ZsGVvaXZZm9e/cN2HfhhRdy1113DRkfVtraxj8OHeLHl17CQ+++Q0lJCaC5QV0u16DzEwgEAiHKBALgSEcHwXCEvLgzH0/W6vXy90OHeLeqApNJ5eZZs1k3aRUZMTGjyqBs8/uZlpIibhpQUlLCa6+91re9bt06FixYMOhYm802QAx1d3cTDnpYnNOD3Womf8VdxKUVfuy45uZmQqHggPN8/etfHzZg/82K46TG2Dm/sJC/xcf37Q+Hw/j9fiHKBAKBEGWCzwA+H/QGuANgMmmvEXivqoqZqenEmM2ju44sQzg88DrDuAkbXG7K2tt4rqwUbyjAeRPS+eW6VayZmHfKH7HF7RlVTJlXlrEbjefsrfZ4PPz2t7/tK4GRlpbGjTfeiH6I+6DT6chIT+/bdlphWU4zFoOZ96qSMda7mZ/+cQtlRUUFfr+/7xyXXnoZeXlD37cOn48PGxq4ec5MUuLiBgiwQCCA1+sV61QgEAhRJjgHiURg+3Y4eBA2bYLm5oGizGyG2bPhwgth3bohT7OjoYFlWROxDSdiZBn7pjexbnwTY8UxCEf633M4CJ63CP9Fl+CfXAS9VpQWj4c3jh3n72UlWAw6/mPpIi1WLC7+E/egdAeDJI3Cfdnh8xF/Cg2zxxubNm3iw90f9m2vX7+egoKCQceqqsqR8sPU1VUDoNfBxfNsTJmgZ09LJnOWXc20adMGPba6uhp/QBNlRqORBQvmYxzmOdlcU4vDbOSSyZOJ+P19olHT7qZTamIuEAgEQpQJop/ubrj/ftiwAQ4fHn7s++/Dgw/ClVfCD38IU6YMeLu0tRVFgZlp6R87VAqFMB0qxfHmq8Q89SS61pYhL2N9dxNxP7uf0LQZ/PW3j/JmUyPtfg+TkuJ47pormJKcjF6n0wpjfUJ8sozdZByVoJMVBYv+3LSU+f1+Hn74YYIBza0YExPDbbfdNqhY8vl8vPvORt7c8Ao+jxudDlZNt7B6uoV9TfFc8uUfkp+fP2gfy1AoRGVlJaqi3bS4uLgh3aMAlV1d/Hn/Pr4+fw4Ok4nmzs6+Mh2g9cy02+1i/QoEAiHKBOcQtbXwwAMDXYjDEYnAc89pxz3++ABhtrepCZNeP2gpDOtbb5J8z93o62pHdx1FwVSynx17t7Nm6VLWTS4YdazYaHAHg32tgUbCEwphO0dbLD366KPU1vbfE71ez28eeOBj41SgpbmJo0fKkMMyoVCYiSkG1s+1sbUsyPYaP/+WmTlkY3FZlmloaOjbTkxMHLbn5fa6ejoDfpb21iwLBoO43e6+981mMzExMWL9CgQCIcoE5xCvvKIJMrsdZsyA/HxYsQJOrk3l82njtm6FE79Yd+6EH/0IHnsMHA48oRC7GhrIcsaSGRPbd6jk8WB9+UVS/+vbSP5eS4fBQGD2XORpM/AtWIRqt9Hi8XKwtYXwG69yWU8XCcePg8XCH+6844x8bFcoRPoo4skAuvx+Uu3nngAoLS3l1VdfHbCvu7ubJ//ylxGPLUg38PWLnNR3RPj7Ni9mq4Hq6mqmfMR6egKv10tFRUXfdnpG+pDn7gkEeKb0INdOm9IX81dRUUFZWVnfmHXr1o1aVAsEAoEQZYLxQW4u/OxnsGiRJsiSkgYP6L/0UnjrLfja1+BE78J33tFEWmEhLV4v+5qbWZM7MBbJuulfJN/7vT5BpiYm0XXX3bgvv4pIcjKtXj8bjh3j9ePl2Cdk8LXfP4zFYUctK4MjR4aet/rpPnYwEsZ6Dgfvj4Znn32WxqbGUz4u3qHj6qUOFBX+ud2LP6iiM2iWsKFEmcfjobW1tW87LnboavzvVFUTUmSunTatz728bds2AoFA35gLLrhArF2BQCBEmeAc44YbRjcuJkaLJWtshG99S9vX3g5lZVBYSE13N4fb2vjhsv5fltbdu0j977uQOrUio0p2Dh33/5xjS1ZS2tbKWyUHaPO5mZ6WzK/WrWZpdrYWKwYwadIZ/djd/gCxo8wQ7QkGyYtLOKdu+65du3j++ef7RVJ8HFOKp6DX6/F6vXS0t+Dq6QEgoqioqgIq2M0qly8wkZOZyPM7VWrbtJZJfr9fixlT1UEtWAcOHEA5KXHkRBbmR6ns6uIvJQe4YcZMcnvbKHV2dvK3v/2tb8znPvc58vPzxdoVCARClAk+45x/vmZJC4UG7D7Y2kqyzUGCVctm1Hd14fzrY0htbQCo8fGU3/ld/p6WxcsbXiXWZuS6aVNZOymfLKfztMWKjZZOv3/UGZVdpzB2PBAMBnn88cf7ts1mM//5n//JqpWrkCSJiuPlvPCPv9DR1oaKloSr9LaampvZyZRMhZyFN7MmTc+2knvxeX0oikJrayvBYBCLxfKxa+7du3fAtsvlGnRuO+vr6Qr4+VxRf52zV155pa+JuclkYv369cTGxoq1KBAIhCgTfMYJhz8myADeq65mekoqdqPm+rTs+gD7Sy/0vf/6xHx+bjFT7O/kocsuZEFm5lkXYgNEQShIkm10Qiuiqlj0586SePbZZ9m2bVvf9tq1a1m1chVms4k9O7fw2kvPEgiGMJuNoIKKRFpqGtNzdCREAmTN+gKZ0y/BY64g1hmHz6u5pisqKujs7CQjI2PA9RRF6avEf4LqqipaW1tJOal4rxyJ8Mbx41w9tbgvlmzbtm08+OCDhHsTURYvXsyll14q1qFAIBCiTHCO43aDy6W5JUMh7ecT/waD0NUFu3YNPMZkosvv53hnJ5+bPBWdTiIUCJD55ONaggBAUhIx93yfJ1YsJycu7hPXFTudBMORUceUtXq92EdROHc8EAgEeOqpp/pqftlsNm699VbCoSCv/PMJDh/chxySkSRAldAbDeTnT2ZecRyR+n+RNGklmbM+j85gJiUlhdg4J029cWnV1dX09PR8TJS1tLTQ0dExYF97RwcbXn+dL335y5pwU1V21NcTiGixZGFZpqSkhDvvvLPPyma1WrnjjjtIS0sTa1UgEAhRJjgH8Xrh0CE4dkwL5N+xY/gA+5PR6yE/nz1NTUhIZMXE8V5VNcqmjeRu3dz7JBlQr7qK5evXjaojwNkTZWFMo7TUBeQwztF2KIhiwuEwTz75JHV1dX37vvD5zxP09/DKc3+ivqayN39CQgLMVguLl65h0YLpVL3/C+xJk8ma9//QGSy9WjuJpMT+LN3m5mbaTySBnERlZeWAIP0T4vDJv/yFgkmTWLhwId2yzN8PHWJ+ZgaZDgfvvvsud999d58gi4uL47vf/S7rhilcLBAIBEKUCcYnigL79sFvf6tlUba1adawUyEzE2JjKamqpLG7g2f2biHRFsstB/dgOVH+IjUVLr44qgQZgC8sYxuF0FJUFYNed07c8rKyMl588cW+7ZTkJJLizTz7xO/w+TwgSUgqSDqJ+MRk1l92LTnpcRx/72foTQ7yln4Lsz1pwDmLi4vYunVr33Z5eTnLli0bMKaxsZFg77MlSRJ5eXk0NTfR1NTE97//febNm0fq4sVsOFLOF416bn3mGV577TUaGzULnMlk4vrrr+fOO+/EfA6IY4FAIBCiTDCQv/8d7roLmpr69zkcMHGi9m9iotZayWbr70XZ0ACbN/eLt6lTUe125saGuD5mH5dbK1k68SqM/pOq9aena+2ZTifqpz9FWFExjsJS1hUI4DCeG67Lxx9/nOrq6r7tjGQ7VeV7B2RFIkFh8XQuvPgLpKelcOTdXyL7eyhYfge2hOyPnTMnJ3fAdk1NzYDtSCRCVVVVn7s0MTGRhx9+mFdeeYXHHnuM5uZmXtuwgWA4TGdDLb/ZsEErUNxLQkIC11xzDT//+c8HTSAQCAQCIcoE45s9e7Q2SScEWUqKZs368pchIwOsVk2YmUxw8i/C/fu1vpfNzdp2fj6S1cqy/OmYGnLQ132ItPM+KDmpl2VionbOKMMTCuIYhfXOGwphNoz/5VBVVcXevXuJi4/D7/FgMhvISY8DVemNHwObI4Y585awZt2VWCxmjm99hJ6mw0w8799wpk8d9LxTp04lOTkZVdWU8kebhMuyjNvtJqm3GHHh5EKysrK46aabcDqdPPnkk7RaLPQY9Cj790Mkgl6vJy4ujgkTJvD1r3+d6667DtsoepQKBAKBEGWC8UV7O/znf8LRo9p2cjI88sjILkZF0eLNOju1baMRCgrAYEBnSCRp7vf4ZkMhX1Pf4arA64AHAJU2lPYd6JLmgS56LE7dfj+WUYitQDiM+RzIvExNTeWhh35HyZ7tbHn7VSxWI0aDjl4tRUJSKhddei1TZsxDp5NoKv8XjSWvkL/kq6RPWT/keScXTubpp5/uy460WAZmtJpMJm699Va+3BvQb7PZ0Ov1OJ1ObrrpJiZNmcKPt28nqaeL5KlTMc6aRXZ2NqtWrWLFihV9Yk4gEAiEKBOce+zdC++91799yy1atf6RBEooBP/6V385DLN5QN/L/Ph4/mf1RTz8p3qWyG+T1ivKlM4DhN67Bl3GhRiKvoGUMAPp04iz0+C6lBUFvU6HdRSirCsQwDbOK/+rioJOB5WHP6Cq7AOSE+woAKqKwWAkO6+QNes+T25+EQCtFVuo/OAxUiavJK34omHPrdfpyc7OHvJ9nU5HevrQLZVsEybQVXKAP37+Coq+cxd6vR673T5kD02BQCAQokxw7rBrV3/zcb0eLrhgZEEGWgPyjRv7t2NiYPLk/l++ksSS7Gy6p09HUfuVk2RMQ3JOJlLzEuHqF9AX3Igh71p08dORjI4x+Qpqe3pIs9tHNdYvyxh047vHYn3tMbZueokjh/dqljEJJFXCaLYwY84S1l52HVabdi887ZWUv/MA9vgsJq/6NgbjmS2a+2JZOStzc5iTnY3pROyiQCAQCIQo+0xwcmB/bKwWPzYSXV1wzz39dcdOiLLMzI8NXTdnDkpeHvTWpdK1WjDF/TfKDAX5yGOEK59Frn0VKbYYY9EtGNJXIhmdZ7W5dIfPh3OUFfpVVcWgG59iIRDwUX20hA3/fByPpwcJVcuwRMLujGP1RVczfc5iTGYtbtDTWUv5ew9isScxafmtZ1yQHevoZHNtNQ+sWysEmUAgEAhR9hnk5Lgxt1urUzYcfj/84hfwwgsD9y9ePKiFTZeejm7uXPjwQ21HfQO6zXuQvv1t9BkXEG7YhFz+KHLTFuT6qzFkrcVU9FUM6cvRmc5O65wGt5ssp3NUYzsDAeym8ee+9HlcvLPhbxzav41gIABooldCJSt3MmvWX0duQb/7OSIHOLblETwdVcy5/Kc4UwrP6PzkSIQXy8tJddhYEIWJIAKBQCBEmeDMM2HCSb8ZZXj8cZg/X8u2PBlF0bIsf/tb+P3v+12eJ1i4cPDzW63a+Z54AgIB7fWHP8CiRbBwIYbM89EnzcPYsYdg+Z+RmzYjb7kNg3ka1uwbMfhTUBcuQLLaz9hX0O7zUjTKAHJvKDSqhIBoQVUUmuqPs23TPzlWtq+3QTiAitlsZ+Lk6ay/6t+wO/oFcDjkpWLnU3Q3lzNpyVdxphWd8Xm2er28fOQw969ZjVFYyQQCgUCIss8kq1dDUpKWhQnwj3+AxwNXXAEnArbDYc3S9be/weHDmkD7KAsWDH5+SYIrr4RnnoFNm7R9FRVI11yDeuONsGABUkICBqsDg+VWFMNC5A2/RvfhGxgqN6DkJOB7+BYs82/B4Jx4Rr6CY52drJk4unP7ZJkEy/goxyCHghzev4W3X3uSoN/flxRxwl259nP/xqQpczB+pO5a9e7nqN33IsWrbiNzykVnZa6P7N7DpMREVubmijUpEAgEQpR9Rpk4EW6/He67T7OUhULw0kuwdWu/tUxRtAr/fr9Ww+zuu+Ghh6CyUns/M3P42mNxcdr5w+H+TM+mJqRf/7q/KK3RqNWkCoXQNzdDWFMQcmIEX/XjBLo3Y554BfYpX0IyxSLpTp8Lsba7m5RRBvr3BINkxcRG9S1VFYVQyM8Hbz/P/p2bCAV8vfpYix9Lz57M4vOvZFLxnAGxe4oSpq1yB7UHXiWtcBUZxRcinYX4uWMdnWysquCe5UtHVStOIBAIhCgTnJvExsJ3vqPFg917r+ZeBM1ydnLfQoMBVq6E730Pzj8fnnuuX5QVF4+cIHDeefDnP8Mdd2hZm4GAJgBPTjT4KOnpGH7wf9jSm/AdfgL3rv/Be/gxrAVfwF58E4bY/E/98RVVJayoxIyyXU9AltFHeXmGprqjvP/GU9RVlfXtkyQwma0UzVjMmktvwjyIta+zdj+HNv2GxJw5FK24FZ3hzAskORLhH4cOkRPr5HNFRWI9CgQCgRBln3GsVvjqV7XCsS++qLkoQbNsSRJMnQoXXQSXXw4n3Ev/8R/aOJ1OC/KPHYX1KDcXfvMb5J072frww+QeOcLEj4o5SUItKoK5c2HtWvQLFuAwSJizVhNq3onn4KN4Dz+Or+5tLKmLsU/7OgZHGjrjJ4s5cwWDpDrs58RtDAX91Bw7wOY3/0p3R3NfZX6dTsJosrLq4huZMnMJpkEEmaezlsPvP4LRGsPkpV/BaIk5K3Pu8Pv5V1/fwkkAACAASURBVMUx7luzalzF6gkEAsFYIqmqqoqv4TOEooDLpYmuUWYmngr/OHSIX23fzu8vvpjZwxQT/Siq7MVfswF36eMEmneB0YE163ycM7+BOWkGkv7UrDu1PT08uGsXv7zwghHHypEIP9myhZW5ecxNj64MQb/XxQdv/Y3D+94nFAz2ho9JqCrkF81lwcoryJpYPOixAU87+zf8hKCvm9nr/xtnSsFZm/ef9u5le0Mdj112qXBdCgQCwSgRf8J+1tDptFiwM8Qlkyezu6mJB3bs4JcXXkjyKGO6JKMdW8EXMKUsJNCwme69v8FX/SaBtgNY0hYSN+cODI4MdKMsROuTZeKto2tsrahaXS9jFNUpU1WVrrYGdr7zd46WfICiKki95S6MZjPZBbO44HO3YHPEDqG9wxz94C+4O2qZtvo2YpLyztrcuwIBXiov52vz5whBJhAIBKfyK1p8BYLTic1o5IcrVqDX6Xhw1y78Hy2xMdJfCc5sHEU3kHHlRpLPfwRj3CQ8Fa9R+/yFNL91K+6K14gEukc8jzsUJHaU8WQRVQWVqCnZEImEqTi8nZef+BFHS7ag0psVK6nY7DGsWHcTF199O/aYuEGL8SoRmdqSDTQeeY/JS75EeuFKpLMUL6eoKi+XlxNUZNYVFIgFIRAIBKfyO1B8BYIzIcxuX7CA727axGtHjnDllCnoT7GSv84Sjz3vUswpcwl2ltO17yF89dvwNn2IOWkKibNvw5q+YMiYs05/gDjL6CxlEVVFUdUxrzavqirhUJCyfW+z8+1n8Ps8vfFjKpJOR1xSJuetuYbJ0xcjSUOLrKajWzi642nSJi0no3DVWf0MnlCIl48c4ZqpU0f9/QsEAoFAiDLBGWR2ejr/ft55/PC998iJi2N+RsYnarFkcGRgcGRgy1xKoP0gnfsewVP9NjW112JJX0DCtC/jzF/7MXHWEwiMupp/RFFQUMe892VnSy07N/2FmmP7iEQiaPH8EnqDgYlFC1i+/mZi4oYvhutqq+LAW78hMXMa09bchsF4doXRa0eP4goFuGHGDLEIBAKB4BQR7kvBGeOCvDyuLCri/z74gHq3e3QHDZF2IulNWFPnkrr8J2Sufxx7zvkEO47SuPn7VL/6JVyVG5F97ZzIW5EVZdRZfypasP9YIYcC1B/fz+ZXH6bm6G5UJYwkgaSTMJrNzFl+BWs+941RCbLSdx/BHpdJ4eIbz7og6woE+FvpQa4sLiLJZhMLQCAQCE4RkX0pOKO4gkHu2rgRi8HAzy64AOtIQmmUT6OqKoS6q+g89DRdR14g1NOIKX4iCVNvIKHoCp483kqOXke4oYFgMIjL5QLA4XAwa9YsCk6Kd2r1enlw1y6+MnsuidazKyZCAS8Htr3EwR2vEuwtBqv2vhLT8jhvzfXkFs0fWdgFvWx//vv4uptYeu3PcSRmn9XPoagqfz1Qwp8P7OW1L15HmsMhHn6BQCA4RYT7UnBGcZrNfGfxYv79jTd44fBhrps+HZ306d2EkqTDHJ9P6sK7iCu8go6DT9N57HWatv8fHeUv4A0U8eMXS6kqrUSWw4RCIQAsFgtpaWmkp6dzySWXcMMNN6DodKCe3exLVVXpaa9n3/v/oOLwNiJhzTqmqmAyWUidUMSSS24hPnHkEh0hv4vju1/E293IpIVXn3VBBlq262vHjvLF6dOFIBMIBAIhygTRSmFiIv+9fDnfeuMNkmw21p7GrDyd0Y41eToZK3/C8eBMtjx3D1NSy1gUX0rWjAivBIJsPhyktbvfPdnc3Mz+/fvZuHEjR48e5T/uu4+IqmA4SxmKkUiY2iM72fvu03S11dFbkQNUCZPVxszFVzD9vEswWUZXTuTI9meo3Pcac9bdSWbhsjG5x6WtrXjlEDfOFLFkAoFAIESZIKpZlp3Nl2bO5P4tW8hPSKAgIeHjgz6hI93r9fLkk0/y9NNP09NlwGyMpWD5BK5PruKrawNcvSTInkqZZ7aGcMsO3N4AHo8Ho9FIRkYGciSChHTGK8+rqko4HKR02z8p3fEKoaBXqzwmSYBEYtpEFl30FdJypqAbhdVOUcI0Hv2Aqv1vkFW0gqyis1f64mRkReHvpaVcWVwoYskEAoFAiDLBeOCb8+dT1d3Nve+/z1+uuOK0nDMUknnkkUf44x//2LfPbomjOWU5yuxvMDnLQ8vB54izf8jaBRnoUpZQ3p3GG1uOs2vXLlasWNGrB9XT4lYdjp72Wkq3v0DFwfeJRGRAAgn0OgPZhQuYs+p64pNH73psrviQg+89RkbhMqauvHlMBBnA+9XVlLS2cPeyxeIhFwgEAiHKBOMBo17Pfy1dyg0vvsgf9+zhS7NnY/yUQuKNNzbw3HPP9W2np6fzgx/8gOd9Xi5bvx6dBEnFn6Or8l1qtv0Gf8Pb5OlM3Ll+PrY7f0fRrGkcd/vPqJUsLAfpbDrGh2/9kY6mClRFRUIzkOkMZqYvuYppCy8ftbsSwO9uY99bD2Mwmpl14TfPeqblCXyyzLOlpSzIzCAvPl485AKBQCBEmWC8kOZw8Ou1a7n2+efJjY/ngrxP3v6nrKycX/7yV3R3axX+Y2Njuffee5k2bx7v7NiOvlfwGSyxJE/5HHG5y+mseJf242/RdmQjgdb9HGlcSVXsXOLsU8/I542EQxzd/Rplu17C6+oA0Oq1qRCXPIFZK64nu3AhOr1x1OcM+rrZs/EhDGY7cy68bcwEGUBZWzslrc08csnFZ9zSKBAIBEKUCQSnmekpKdy9ZAn3vPMO89LTibdaT/kc3d09/PSn/0tbWysATmcs999/P0uXLuVQWxsJg5zTaEsgdfpVpEy5DHdLKZWbf03rkX9RHt6DP+sCOmMDxGbNRm+0npbP6eqoo2zni1SVvE04HEJCQgUMBhOpudOZtfz/kZief0puR0UJc3DzX2ipLmHFtT8mMb1ozO6jrCg8eWA/awvymZGaKh5sgUAgEKJMMB75/JQpHGxt5Ruvv87v1q8/5QDxbdu2cvDgwb7tpUuXsGjRYiRJosHtInGY80l6I86M2cz4wmN0Vm+jfMdbuOpLKX3jfRJyzvv/7N13dBzV/ffx9/aVtGqr3qutLje5925MNTbdQB4gAZLQQhISAqEkP0pCSSCEXkKzMWAMbrjbuNtyU++997Kr7TvPH2vWKHKRjSu5r3N8jmZnZ3Z2ivTxnTvfS9DQmQTFTUKuPLPBtCWng7b6Ig5teou2+mKkowOJI5NQKNQkj76CtPGL0Hr5ntZ6nQ47pQe+oTJvE2kTbyYwIvWCHsNtVVUUtLbyxpXzxZBKgiAIIpQJlypPlYqnp08n6623eDM7m0cnT0bG4G9/LV36GX19rmKrCoWCm266GS8vVxDrNpnRDyIkyBUqAhOm4dXjS2pUNUFdh2iv2U9b5V7qQlIIS51HUPwkVB6DD08Om4Xyw2so2P0ZZkOXe+xKZOCjjyZl3ALiM2aiOM3AJ0kStUXbKdy1jLj0WQzNuvqCHr8+m40vCwsZExkuWskEQRBEKBMudR5KJR8tWMDPV64kKzycuQmDq1/W29vLoUMH3dNZWaMZPTrLPV3R3cXchITBBx6ZDL+wDJLHzMfYVkFzyWYaC7+lcNOL1BxeQUjSdMJT5qHx0p90PYbOBkr2fUFFznocdjuAq0O/QkFAeDIjZ/6CgIikM9pXbXX57FvzCsHRGQyfcdcF7UcG0GIwUNjWysvz5oi+ZIIgCCKUCT8FI8PCeGraNB5ev56wa70H1eqyb98+7N+HHpmM66+/zj3P6ZQwVFRS1dVF+pw5qNWnbpEy2e1olUpkMjm6oES8AuMJS51Pfd5K6vPXUbbzXeryviVm+AJCk2agPk7LWUdDETkbX6e9sQRJcrpayJAhV2pIHHEZKeNvROvld0b7qLO5goMb3sI3KJYRs36OUu1xQY+ZU5L4rKCAKTFRZAQHi5NYEARBhDLhp+KKoUPZW1/Pk1u38tmiRagUJy+cmp+f7/7Zx8eHmJgY93RJSRFVG9ezr7ERrFauvfbaU35+t9ncr0+UTCbH0z+SxEl3E5o8m6aSbTSVfkfh1n9Tk7uG8OTZBMaMxDsoHqfDTk3eeop2fUpfT9v3a0AG6PzDSRq7kLjMOaf1dOUP2SxG9q5+BYvJwJRFf8InIOqCH6/itna211Tz2JRJoi+ZIAiCCGXCT80fJk3inlWr+MPmTfxp0hT0Hif+Y28ymY6dwEoVCoXrNO7s7OSVf75MW2sL8tO4o9Zns+OlGtiiJpPJ8Q5KRBcYT8yIa2ku20l90UbK9i+hdN8SguLG4rBbaSzd4yoGe/Q2nlKhJihmOBnT7sQnIPqMi7qaDJ1kr3+Tvt4Oxl/1EP4hCRf8ODmcTj7OOUKQlydTY2PFiSsIgnAWycUuEC4GXioVT06bxraqKlYUF5728gZDL59/voSa2hq6AwNdfbkGHcpseChP3JIlk8lRe/oTlXkFIy7/M0PG3oJK6019wUYair/D6bC53gcolGoSR13FqHkP4BsU+6Oq7BftX0ld6V4yptxMSHT6RXGc6np62FBZwbUpyT+68K8gCIIgQplwkUrw9+f5WbN49+BBDjU1DXo5h93O6pVfs33rZtInTSZsVBYymYTDbh3U8u2mPny1mkG9V6F0vc9q7HIHMXA9YKlQa4nJmEP8qKvw8A484/3gtNsoOfgtJdmrSRm7kIRhs8/49ufZZHc6+Sgnh9HhYUz9wS1jQRAEQYQy4SdoWmwsizMzeXb7dup7ek8dYJxO9u7ZyXfbNhMSGsYV1y4iOECPTOZ6SnNQIcg5uHEvbeZeyvd9SvGO97DbjICETOa6a+npHYTT7qA2fyt5W9+jvmSXuwXtdLU2FJPz3SeEJ44iKevyQQ1Ofj6Utnewr76eBSnJhHt7i5NVEAThLBN9yoSL64SUy/n5qFEcbGriL9u38fKceXio+p+moaGh7p81Kjl79+wgODiYu+7+NbVyBdE+vtQfK9l6UlaHA63q1JdBZ30uxdvfpKupBKfT7urKLwOlypPIjMuIH3UtPW3VVOdtpqUmh7rSvQRGZhCbPoOg6Ew8vQNO+RmSJNHZWkP2xvfx0AUwZt69aDwujvDjcDr5vCCfQJ0H84cMESeqIAjCOSBayoSLjkou54GxYylsbWVlaTFOp9Rv/vTp01EqlWg1amJjwpHhZPrMOcTGxtFpMuGtVh8tECYNDGFWq7ucBoDBasVTdeKyGZLTQUv5DvLW/42uhgIk59FlZaDWepM47iZSJt+Bp08IofFjyJr/G4bN/AUhsSNorjrE3tUvc2jj29QW78ZutZz0e5uNXexf/zZWk4HRc+++aAIZQJfFws7aGq5NTkGtUIiTVBAE4Vw0TIhdIFyM0oKCeGnuXB749lu0CiVXJR0ruhodHc2VV15BTUUhnlo1BcVVvPvef5CQU6tSoffQIpe5bi06nU5aW1uprKxk9erVrF+/njfeeIMRI0YAYHE4TtjJ32xoo2rfxzSXbcdi7ATZsZynj0gnafLd+IYORS4/dhkplGqiU6YRnjiOzsZSGisOUF20k/rybHT+kUQOHUdMykS89eH9bktaLX0c2PIh7U0VTLj8lwRFJl1Ux2NVSQmJej2TY6LFySkIgiBCmfC/RC6TkRUezuz4eP62exdTY2Lw/UFNrPiYUHo76qipb6GtvZPi0nJWr17F0EmTSI6KRAbs3LGD4tIq8vLy2L17N21tbeh0OiyWYy1WRqsV5YCnCCUMreVUZX9CU8lWJImjgUwGcgVhQ6cxZMLP8PSLOPGFpdISFJ1BUHQGYYljqS74jorczRze+iF1ZftJyJxJTMoktJ4+OOxW8vd8TW3JPjInXkfUkDHIZBdPI3a32cyG8nKuSEokTKcTJ6cgCIIIZcL/ogfHjcNit/OnzZt5bMpkArUe7NqxhcL8I2QOH0Vl3QYcTicGQy9Go5EDa9dS5q1j2uQsdu7cSUFxRb/1paSkEB4e3i+U6dTHWsrsViMtpVuo2vcRFmM7MiRXT34JNLoA4scsJix1DkrV4KvqB0WmEBCWSMLwOVTlf0dV4W72rX+Hgv1rSBo5D6ulj/y935A0ci7JWfNPe1zMc21TRSU9VjPXJCeLIZUEQRBEKBP+V/lptfxh0iSuWLKET3PzmKFVsmn9SiIiorjm2hsZkTWJL79czocffoDRaHQtJAPZ0ScjwTUUU0BAAKNGjeKOO+7oF8qONoK5ApnFQO2BT6jPW4XN0oMkHRsi3TsokYQJdxIYN+6MvodcocI/OA7/4DgiEsdQVbiDurKD7F7zBnKFEqXGi8jEUShVmotq/3eazHySm8us+DgCPT3FCSkIgiBCmfC/zFer5YmpU3ls00YOVxUTbrVw4+K7CAoOJTgkjIghkYy9ZgxvrnqTPbktSL1VyGUgiwbiQIqQkIfLCUkOQUqVaLe0E6J0jbFptNnw0WjpaThC9b7/0FV/GKfTcTSMScg1XoQMmUHsmFvReoecle8THJVCYMRQgqMy2P71K8jkcmx2Gxs/f5GY1PEkZU5DHxKN6gKPcQnwTUkxzX29XJuSIk5EQRAEEcoEAdI8NaR0NLFBoeWZmVOIiHR1OC9oLeDtg2+zvWY7hjADSt90TF2VkCNBtASRruVbaOHDkg9ZWr6Uf8z7B/dm3QtAn9WKqfEgJYfXYequdzWdASBDpdURNfIWwtOvQKX1Oavfx2o2UnjgW1QeXoydeTvdnY0UH9lG/p7VVBXuZUjmNFJHzcY3IOyC7fNus5mNFRVcPmQIiXq9OAkFQRBEKBP+11ksZj5440UcBblkTb2SFT0m5hi72FGziZf3vEyHqQOn5ARAkjyI1ocjl4HeQ09yoAaD1UCLsQWrw4rVYcVf6+8KRsYWmko30lu+DYuzztU6JpMhk8A3PJPo0bfjFzm839OVZ4PJ0MV3K1+js6WWadc+RHhsOpLkZMjwGVTm76GiaA9Fh7ZQeGgL8anjiU0aTVBYLF7e/ud1v2+vqcFgtfDAuLHHeRhCEARBEKFM+J9is1nYsOZL8o7sY+yEGSy4eTGPbN7CLctfor1vNSa7qx+ZQqYgM2QEkjSLB4bdzT+/e5Qb0q9jzqKFtPW1kdeax2d5n5HdkE2sXyymzkrKNjxJaUk1nhpvUBwdT1yuIHTILGLG343GK/CcfKdD27+gtuwQE+f/grCYVFxZUI6XdwDp4y4nedQsGquLOLxrJfnZG8jdt57w2DRGTLiS6MRhKFXnfsglg9XKqpISFqYmE+zlJU5EQRAEEcqE/3Ub1ixn7YolDB85jutuvotgPz/mJsi5a2UDwZ46dBojAZ6BPD7lcQI9E9lU0UhqUCrIwFvtQ6I+kUR9IqMjRrMweSFl7UX4NOeTt//39HVVY5Vi8cGJTAYqDz0RI28mMHEG6nMQyOw2GxX5Oyg5so1RU29gyLBpxy19oVRpiEocRmhUEvXVBRzeuYrmxkpWL32J8OhkRk66kuDwc9tydqChkeL2Nv40ddJx53d0dCA/2nqmVCrRaDSoVCpxwgqCIIhQJvwUVZQWsPKLD1CpNNz28wcJCY1kT90e/rH3aexOO02G6WT5lvLnKQ8yN2Euexvq8dW4nl6UAyZDj3tdCpkCX5UHIZU7aTj0IZbeZvdATDIZeAXEEz32F/jHjIdzVCOsungvu9Z9QHzaBNLGXo7yFKUvVBotsUNHEpWQSX1lAQd3rqa6PJfqinwiYlMZNmY2MYnpeHid3f5uFoeDT/JyGBsZQZyf34D5RUVFPP3003R2dgKgVqtJSUnhueeeEyetIAiCCGXCT01lWSEfvvV31GoNt/3iYUJCI7E77fx+w+/Jbc4FZCgVUXipryI5cBQATT29hOh0uAYKl3A6ne71mTrKqdr8FB0VW3Darchk4JDkWGRqQhOnMHT89Wi8Q89JIJMkJ52t9WRvXYZPQCijplyHWjP48hIKhZLoxEzCoobS0drAkX3rqakoYO2Xb+Dl7c/YqVcREZtMYHDEWdneI01NVHV18bsJ89Aq+/+KsNvtvPrqq3z11VeYzWb36zk5OTz++ON4iVudgiAIZ0z03hUuOmZzH8s++hc1lcVcf+svGZ7luoW2tWor22u245AcgJ1rUwLwUPryt517AWjuMxJ4NBTIjtYqA+goXknJV3fSVb4eHJaj8wCFCs+QTGKG34CHXxRyxbm5/dbZ1sC2b15HqdYycd6dePoEnNF6VBotIZHxzF5wN1cv/i1pI6dgNhlZ+8VbLP/Pi+zf8S2Gnq4fta19Nhuf5OYyJiKcEWEDn/wsKytj6dKl/QIZQF9fH5WVleLkFQRBEKFM+KmwmM0s//QNKkrymDzjCsZNmoVCoaDP1sc7h95xv0/voeeBsb/irzNmcKCxkSV5uZR1dBD6fShDQrIbqN/9ItWbH8fUlg+Swx3WPALiGXrVa/gnX4laee4KtlpMRg5t/4qOljrGzLyZ4IhEZD+yKr5MJiMoNJrply3m5rufIn3UNBxOB1vXfcZ/XnuSQ3u30NJYi8NuO+11769vYEdNNTempw2YZzAYePzxx+no6DhOkDZTUVEhTmBBEIQfQdy+FC4q3238ip2bv2HM+BksuuVeFEdvnx1sPMiBhgPu912ZdCXpweno1Dpemz+fO7/5BpVczhNTp+Iw9uLvYSXEsIqGnS1ITjsgc42WJEkEJl9F5KSHcfjEYWnLRq1QnKOA2cfhXd9QW57L6Ok3EB6TdlbHtFRptASGRDD/ul/Q1txAZUkORw5sZ+Xnb+HrH8SQlFGMnTyXgKDQwW2vw8HSvDwmx0STHhw8YP6qVavYsWOH6xeHUklQUBDNzc04nU6MRiNFRUVcddVV4iQWBEE4Q6KlTLgoSJJEYe4+Vn/xHvrAUBbd+iu8fY89XZjXkkdVV5V7elbcLHRq1+DYo8LCuDU9GVtPCV5SH7a2g1ydXEuEtgGZZAc4+nSlP1ETHiZ21tN4BaXilGRYnY5zUoPL6XRQkrOdI3vXkDxiOqmj56BQnpvbo3K5guCwKLImzmXx3Y8ybc51eOl8yd67hTdffpwNq5dRX1t5ypazvOYWqnu6+eXoLHTq/g8hNDU18dJLL9HS0gJARkYGjz32GPqjRWUdDgdVVVUDbmsKgiAIgydayoSLQm1lMZ+9/yJarZYbfvYgvv79S1LsrduL3Wl3T4+LPDYGpUwm4+5oEwtqltO8pZ32qn3oPa2ucCS55mv9Yoma9hR+CXOQ/aAYrHQ0sJ3171OeS/aWL4mMy2TYhMtRKs99uQiFUomn0ocpc65l5LgZ5BzcxZ7tG9i87iv27drCsJHjGTdlDoHHaTmzOhxsrqpkdEQYI4/Tl+yLL75g//79AHh6evLggw8ya9Ys3n77bdra2gAoLy/HarWi1WrFCS0IgiBCmXApMhp6WPbBC3S2NXHTnY+QnD5qwHu6LP07sPtp+5dqUBmrUXW30dq8EofTefRWpQy5XInvkCsJn/h7tH4x/QKZ3emkz2pDozy7l0FdZT47vv0Q/5AoJl/2Mzw8fc77PtX5+DF20hyGjZ7Mwb3bKMo/wqEDu8nev5OUtBEMz5pIZHQcXl6u1sbKzi5WlRbz2vzLBqyroaGB999/3z191VVXMXPmTMLCwkhMTOTw4cPuUGYwGPDx8REntSAIgghlwqXG0NPJV5+8SnVFEVPnLGLc1PmnvQ5T437qD36M2axAkhyujvQSIIOQcQ8RmHk7au+BrT8OScLudKJRnL3LwNjbyc51n2C3WRk/6ya8/YIu2L5VKJV4Kb2ZPOMKxk+eQ1FhDvt3bWH/nu0czN5DUsowxk6cRlrGCJbm5RLhrWNoQP8nQ61WK2+//TY5OTmusKfTcfvttxMR4Sq/kZ6ezhdffAFAVVUVvb294qQWBEEQoUy41DidDrasXcLe71YxYdrVXHPTvae1vGQ303bwVdr3/wOHzcj3nfmRJMo7vPEZei0jJv7hxMtLEnaHA9VZ6lNm6O5g8zfv0GfoYuY1dxMSmXjxXOgqNemZWaRnZlFWWsDWDWsoLysi58gBvOKGssknkMcmT0Tv4dFvuT179vDSSy9ht7tuHd9zzz3MmzfPPT8mJuZYyHU4OHjwIElJSeLkFgRBEKFMuJQc2b+Fbd8uJSp2KJffcDdK1eBLU9gN9bTkvUd34VIku+XoYOISSDI8w7NYu9vAhIiT1wOzOZ2Y7Paz1lK2d+uX1JTnMP3Ku4hKyLho93vikFRiYhMpKsghe99uVjS1Ymqqo+ibz9nQ2sykKdPx8PDAbDbz8ssv09PjGhkhOjqaBQsW9FtXQkJCv+mCggJxYguCIIhQJlxKCo7s4vP3n0cfGMptv3oKX7+TjzXpq/EFXI8Lxyvk1H15GT42AxKyo4FMhkyhRT/8XoJGPwTL534/54QcTicWhwOV4se3lGVvX0nhoe/ImnINKSOmnNXSF+eCSqUmY1gWUUnpvPz++8y19tBYmMdr+19g6af/YcGim+jp7WP79u2u/S6Xc99995GVldVvPVFRUajVaqxW14MVW7ZsESe3IAiCCGXCpaKzvYmvP34Zh83CVTf+irDIhFMuMyt+Fl8Xf80CjNyqVeFnNyAdvVWJTIYMJ4FjH8Z/xH3IldrzWuultiKPfdtWkDJ8CiMmzHcP1H0pePfgIVKDA/nT/FuxtDazaeM6Nqxfx9tv/BvkSrw8PejqUpCYmMjtt9+O+r9KZXh4eBAXF0dxcTEANTU1dHd34+vrK050QRCE0yTqlAnnlaG7g6VvP0VXWwPX3PIg6aOmDmq52aHpfByZxOM6DTFKOTKZazhxmVyByjsSjQq8IicgVx4txyCT6LF08VXhV9y/9n6yG7IHrLPFaCRE9+PGamyur2D5f54nMCSaKfNvRaP1vGSORVlHByuKi7g3axSRfn4kDEniF/fez2tvvEdUbDxdXR0kJQ1hwoRxLF68mKCgDkIrgAAAIABJREFUgQ8taDQaoqKi3NMmk8kd0ARBEITTI1rKhLPqcNNh1pWvO+H8wMJuKosO0hymZL3zMN/tLCXUK5SZ8TOJ9Ik87jK2ziKk7Q+S0VOE8+hjld/XF/vE6sDXU808hReba/fQ3lpBi6EFuQw2Vmxg7Rf/xE/rx80ZNw9Yr9Fmw1t95jW1+gzdbFr5AVpPb6bOvw2V+tKqz3WgsREfjZqZ8fH9Xm9rb2fX7n2Ulpag1+uJioyira2VlpYWgv+r0r9GoyE8PNw9bTabqaurY8yYMeJiEARBEKFMuJDePPAmb2S/MeB1hSRjVHcwEzrCaNAYWaYthZ27js2XKxgROoIX5rzA+MjxqBVqcFrpPfIqvUf+icPUzg+frmxxSjzfZ+Nri407bfkMUau5d93vqHW6BiG/lzEYrAbsTjtD9EP6FZt1hzKLFS/VmRV1NZuMrFzyD9pb6rjhrscJDo+7pI6TzeHg3YMHeXTyRLQ/qNNmt9t5//33OXTokHs6K2sUtTVVtLe3HTeURUdHI5PJkCSJvr4+CgoKWLBgwY8e41MQBOF/jbh9KZxVBxsOHvf1GJM3Y7tC6FCb2RxYO2C+w+kguyGbW5ffysaKjTiM9fTs/wu9B/4PyeyqGO9qHwO1PpmXVJGssriGDYqXK+l0gkU6tj6ZzPUv1i+W34z/zXG3qctqIdjr9G9fOuw2dm3+koa6cibPuZHAkKhL7jhtqKhALofU4P63JLdt28bHH3/snp48eTLDMlLx8tQQGTnwe8rlcmJiYvA6uh+dTidVVVXYbDZxMQiCIJwm0VImnDUtxhZqe44FLk+VJ2lBaah6LYyol9Br/WhOU5Pu7Rrmx+60U9FZQYuxxT2EUn1PLc+vuYux4SHYOouQSTKQuf73IMnU+A67D5/h9/OpypfsxmyWF3xJRuly2u1WRsSMwYJEuHc4sqJSbki/nl/8+tkTbq/d4UCrOL2WMqfDwZHsrezfvoYpc29k+Lg5l9xx6jSZeGXvXq5JTSbe/9j4olarlRdeeIGmpiYA9Ho9Dz34IMuXfUig3g9vb+/jri8uLg69Xo/BYACgsrISo9E44KEAQRAEQYQy4Typ7KrE6rS6p+ckzOHFCX9l86f/oFFVxqxr7+GxKde465GZ7WYONR3ihZ0vsLxoOQALPOT8Vt2OvbMTGSAdLXqh8ArHI/UOvIc9hOzo05XjI8czOjCZ8pbDeIRk8LPZL7s/+74vxuCpPHkfL6vDcXp9yiSJ0oID7Fi/jKSMsYwYP/uSPE6bKytpMPawOONYLTWn08maNWvcQyaBa4zL3bt30dXZioScd99997jrq66udheXBSgpKcFisYgLQhAEQYQy4UI52HiQHrOr0KhSrmRyyFh2f/0utRU5TJizmPEzb+j3fq1Sy/jI8SxZtITr3stiorGAO3VKJFzV9r8fu1IZOg7fqW+g9BlYOsNmaMbc14WvX//q+bKj/06my2wmNSh40N+vtqqYtcvfcRW7ve6XqNSaS+4YmWw2Xs/O5o+TJhGq07lfr6qq4ne/+527lQygrq6O9999i/FZKezcuYt3/7N0UJ9RV1dHW1sboaGh4qIQBEEQoUw43xySg8beRuySq8XEU66lI/cIhoIaUoZNZcLMm058EpqbedJXRrhMAUdbxiQAmYRH0mI803993EAGYDd3Y7NaUXiG9HtdLpM4VT/zPpsd3SBHEehsb2bjyo/Qaj2YMueGSzKQAWypqkImg8nR0f1eX7NmDWVlZQPer/PSoJBL9PQaTutz9u7dS3p6urgwBEEQRCgTzrdmQzM5zTlIkqu3/ZBODc6KfGLTJjH/pofxPl7FfocZW/nHWA49Q7yxDkkuw+lqJkPpHY82/Zd4pN930s+19HVgNfei8e0fMhjEg39GqxUfzanDlaGnkzVfvoPR0M31/+/3BIVFX5LHqK2vjzeys7llWAbJgceOR3Z2Ni+++KJ7WqvVkpmZiVKpRKc0opRD4pAhBIcNvCUpSRJms5ne3l4aGhr6rfPOO+8UF4YgCIIIZcL51m3upqa7BoAIqyfjDIH4+wYx5fI78PEPGfjH3NqNveRtLEeeQ7J2H01RrlayWodEb/ztTEi9+5SfazP3YDGb0Pr3r7UlH0Qu6zCb8D1FKHM47Oz9bg11VaXMveY2gi/RQAZQ2NpGc5+BRSkp/V5fvXo1dXV1AKjVau666y7uvPNOVEoFH731HJLDzj0P3oPOV3/cUGYymSgvL+fWW291v/7DvmmCIAiCCGXCedTS10JxezERFk8WdkSRoE9g/s2PEjN0VP83Ou0427Ox7X8YR+te99OVMlwlLT41OvjIGcS24b9GJj/103vGtgpQ+aL26t8SJ5NJyGTSSZe1O5xolCe+BOx2Gzs3reDIge3Mvuo2hmVNu6SP0TsHD/Cr0Vn9+pJt3bqVZ555xt1RPysri2effRadTkdLUx1quRN9SDjDR2bhpfM+4bpjYmIIDAykrc1VvqSmpoa2tjYCAwPFxSEIgjBIok6ZcFbUdtdis5gZa9QT4FDjnZxOfMq4AQVEpYa12Hf/Amfr3qMtWa7g1CM5eaPXwRNdDsYnLUSn1g3qc/u6GlB5Rwx4XQaYTSfuB2V3OlEpFCddd2VZPvt3bSQyZgipw8Yhk1+6l0thaxtlnR2MiTi2r8xmM6+99pp7MHGtVsv999+P7mho6+lqx2I24OPji9bj5MNHaTQaEhKO9fuzWCyUl5eLC0MQBEGEMuF8O1S1mzk9oaSafdnu3YqUmoj8h6HHWIUz+yHs390A3flHW7LAAWRbJa5tcfBEl5PUiHH8evSvB/25vR21eAWlDAxlMgm7zXzC5QxWK94nuHUpSRKVpfms//oj4odmMG/B/ztlKLmY9dlsPL9zJzPiYsgMOXYr+eOPP2bDhg2uXwRyOfPmzWP27GNlPro7WnDYTCQMTUNxigCr0+lI+cFtUYPBQEFBgbgwBEEQToO4fSmcFeq6Jkb0+dGg7mO3dxsjukrZWrUVp+TEz9lDRsMy5LXLwWkFZO4aZGtM8JdOJwU2SNQn8sTUJ0gOTB584Ohpwz963HFC2cn7lJntdjSK4/+fxGjoYcOqJdhsVibNvBqf4/SlupQcaWpif0Mdf5h8HeofhKs333yT7u5uwFWTbOHChej1ru/qdDjoaGtAIXcSEHjq0hYqlarfcEs2m42amhokSRLDLQmCIIhQJpwPTqeDivwdBBbVUamysNyvDqPczt93/p2/7/w7AFd4KXkn2EGQwtWRXyaTKLfDa13wao9ErF8sb076Izdn3Dzo25au4GCnp62WlPCMgaGMk5fEMNvtx63m39PdwcrP38NiNrHg5l8RHBp1yR+jf+3fz6K0FLKODhxut9t59tlnyc7Odr/nrrvuYvHixe5pi6WP+so8PLRaIuOGnvIz5HI5Q4YMwcPDg76+PpxOJ2VlZZhMJjw9PcWFIgiCMAji9qXwo7TUFbNrzRu0O7rZqWunW2kfkPu/NY7i9e7hlNoCcCKjyaHgd+0Sb/a6+pMl6hO5Mf3G0wpkAMauOpwyJRqvoIEn9ilaygxWK57/NRi53W5jx5bV1FaXMnnWVUREJVzyx6ewtY2qri6u/cGtxaKiIpYtW+aeDg0N5brrrhsYeDsa8fDQ4uMbMKjPio6O7je0UmNjoxgDUxAE4TSIljLhjBm6Wlj/yZNU1+SxxreJIx6uW2GhulCCvYKxOpxUdAZhtU/k1T4P3rXI6DCZkUt2DFIbkANUsLFiM1EvR/G32X/j7lF3D/rz22tzUXoGodJ6n/a2253Ofi1pDrudXdvWsn/XJmbNv47ho6de8sfHYrfz4u7dzIqPZfTRVrLvQ9gLL7yAyWQCIDIykhEjRvRf1myktb6E1FEzkSsG92tiypQpLFmyBLPZ1ZcvMDDQPVC5IAiCIEKZcI70GTrI3vQBHc1VVHrbKdL2uuf9bNjPuDZ1IZ/k5PPmgTJ0ak+emDadFL03O2pb+LKoiPwWNRAMsg6gjB7LIf763V+ZFT+LBP/BtVAZOhqQa3yRqwaOX3mqiv4/fPpSkiSK8g9xYNdm0oePJWPEhJ/EMSrr6CC/tZnfTryqX1+ywMBA5s6de9JluzuakZxWgkNPry7bvHnzxMUhCIIgQplwvjgcNg5v/ZQDm/5D8PDJdOsasZSWAhDsFczshNmUtGt491ADYV6BvHLZZcxNSEAukzEjPoU/T53KpspK1pSW8nVRHlXdgSCbQF1PB9csfYb3r/4Lw0NDUZ6iBEVnSyVKrT9KzYlaY05cp8xgteJ99FZbZVkhXy19i/ghqVy16I5Ldgil//ZZQQFTYqLdfclOR33FERQyifDooeKEFwRBOE9EnzLhtFXmbuXApg8IjkomY+ZiWiwd7nm+Gl8K2iw8snEjBouVh8aNY058PPL/araaGRfHszNn8s/LxhPgsR2kepD0FLTEcN3nn3PL8uV8U1x80u3o6WhErQtG4+E38MSWuf6diNluR6tU0d3VzrqVn6EPDGHGvIU/mUBmsFpZWVzEtakpZ7R8V2sNnh4e+OiDxAkvCIJwnoiWMuG0VORuYfOyv+IfHM3Mm56gWtlHUVuRe359rwdPbT2I06Hkn/Pm8fNRo1CcoMVLrVCQFhRGpE8n7ab3gECU8gk4nVksy8tnWX4+WWHhzBuSyILkZJIDA92d80297fT19eATnIBCObDyv0ql+n5Y8xOGMktvD19sXI7J1MfNd9xH6CU8hNIP2Z1O3jt0iMzQYEaEhp728g6Hja7mCnz99Gg8dOKkFwRBEKFMuNj0djaye9U/sVsMjL3uUcJiM9lR8DltfW1H3xFEn20yfVY7D4wdxV0jRqAadBV8J9CCh3Irf5x0A76aVN48cIBt1dVkNzTwaW4uSYGBPDBmDJNjYjAbOzEZDXj6hBx3bRrtycswGK1W9mxdi2dDJdctvvsnE8gAKjs7WVFUxBPTJqP38Djt5U29ndgsvfjqg/HS6cWJLwiCIEKZcDExGTv57ov/w9jVzLj5vyJxuKvy+5HmI0ffEQZcgU4VwX1jxvCnyZNPOq7k9+xOOw6nwz3todQwVB/M1Ng0rk9LI7uxkQ3l5XxZUMCWikrWlpaS6K/n+mAVUSYzPoExx12v7CQd/a1WC3UNtfR0tnP9gsWkZ47+SR2rT3Pz0CoVXD70zPqDGbqbsZt78Yscilornp4UBEE4X0SfMmFQDm54i6r8LQwdNY/0idcjk7lOnYKWAsADmAlSBLPi4/njpElolYPL+8XtxZR0lLin/Tz8ifE7FrSywsL446RJfLZoEZ9fdx1jwyNo6O3lqyOH6Ojt4a8H81mSlzcwlMEJh1nK3reD1Wu/YtjIcYwePw2F8qfzfxOD1crXxUXckpl+xuvo62nDbulBHxKDQqkSJ78gCMJ5IlrKhJNy2K3k7fiUvB2fEh4/kvFX/ga11tXPyOqwcqCxCrgCpDh06lb+MfeeAUVZT6TL3MVr+17D6rC6X0sLSiNUN7AfVIJeT4Jez2WJiZR1dLBx/UcYtu9gZUMPH375JX/esoVrkpKYm5jIlJgYZID1vwYklyQnZcX5LFvyLh4+QUyeNP0nFcjsTicfH8lheFgIVycnn9E6nE4Hve01KOUSQeFDxAUgCIIgQplwsehsKuXAun+j9fBmyqI/o/E4Vqi1rqcRs30cEATUM0Rfh6dKMaj1muwmXtrzEusr1vd7/dHJj6JVak+6bKJeT6NOzT6lB+8supHP8l0PBbywazcf5+YS7+/PDIsJ3//q6N/W2sy7b7yIzWZn7ORZKGWKn9Sxauvr47uaau7OGkGo7sw66DvsVtobClGpFPgGRYsLQBAEQYQy4aL4I19XwPr37kehVDH79pcI+EHLSYvRyD/3FtLeFwJSA/Alifo5Jw1Udqed2u5aDjUd4t/7/82O2h3ueT4aH+4fcz/DQoYNattaGyrRhw3l6qQkrk5K4ulp0/imuJivi4vZX9/AVMlJUXsbv9uwgcsSExnq7cUnb7yE2WTizl8/wtquPrTKn1Yo+7a0jA5z3xn3JQNwWE0Y2irx8vIlIDxJXASCIAgilAkXmt1qYu/Kv2HsaWTsFb8jPHFMv/n/3r+fdw4exOFsB9YB3Wyv2c6VS6488R98yUFbXxs13TX02fr6zVuUuohHJj4y6O3r7GjGTx/pnk7U6/nN+PFcn5ZGSUcHh19dS7XNzms7d7Hk8GEmtdXiWVvGjT/7JXGJKVj37UMp/2mFsvcOH+SyoYk/ah1Oh42e1hJCYkeLi0AQBEGEMuFCs5p62fnlkzRV7Cdl7HWkTV7sntdlNvOfI0d4fudOzLYOYAVQB0CToYkmQ9NpfVZKYCq3D7uN30747Wkt19XeSmzSmAGvR/r4EOnjQ55cTmpQAH+ePIlvv16GraaY7ZFDWJtTzJQeMyDDZLf/ZI7ZN8XFaFVKbkpP/1HrMfU04TR3ExiRLC4EQRAEEcqEC8npdJC/40MqDq0iYdRVjL3q9ygUro77NqeT9w8f5umt2/BRO9EpD9Bmquu3vEwmQ44c2Q/qUchlcndFf41Cg0ahJUgXxMKUhdyYduMJx7q02Ww0NzcDrmKwPj4+eHh44HQ66exsJSz6xNXq5TLQKJTMkDtp7Glj6NQ5RCdk8G1NDd8UFaOUy+kwmpgSE8v8IYlE+vripbo0nzSs7+nhk5wcbslIJzXox1Xgb687jFIu4RccLy4GQRAEEcqEC6k6Zx25m94gKCqNUXPvQ3V0XEmH08nK4mIe37wZjULJ8zPn0mXx4VBjbP8wJJfjo/ZBqTh2aulUOndfsxBdCCNDR5IRknHKbdmxYwc33XQjALGxsfzjH/9k3LhxtLfUIaHC09v/hMvKkGjv7GXHW68wcvQ47vj5A2g9PPitwcDHOTm8fuAAlV1dFLZlszQvj9nx8cxKiGdEaCi+Wu0ldcw2VlRQ0dXB7cMXDhjO6nQZ26tRKVXo9BHiYhAEQRChTLhQGkp3sv+bv+Kh0zN+4ZN4B7ievnNKElurqvjNt+vw1Wj57fjx3DosC8g6p9uzb99e2tpcowVERkbi5eWq0t/RUo/Gy98dGI/H5FBSUGMgIn4YC66/Fe3RyvahOh2LMzMp7exkQVIq++vr2V5Tw+rSUjZWVBDp60NWeAQ3pKUSrNNd9K1nNqeTj3JyuCE9DZ1a/aPWJUkODK0l6PyDjjueqCAIgiBCmXAe9LbXkP3N/+Fw2Bh/9WMERma4A9meujru+mYljQYDj02Zwv1jx57z7bFareT9oChsVFQUkZGujv0dHS1oPX3RnKDafJ/RSEWLCpnKk7vueZCwsMgBQcYpSYyNiGBydDR3jBjBuvIytlVVc6i5ibyWFpbm5TE5OpoFKcmkBwcT7HVxVrbfXFGJWilnUWrqj9/nhnbspnY8vQNRacWYl4IgCCKUCeedqbeV7FXP0NtWxYjLHiY6Y467T9iR5mZ+vnIlDb29/HL0aB4eP/68bFNDQwM1NTXu6fj4ePz8XLcrO9tb0Hj6otYOHNext7eHL5Z+SLfRzOi0AGLiBj6NKEkSVrvDPS6nn1bLDWnpzEscQml7O4ebmlheVMjO2hp21tYQ7evL9Ng4psREMyQg4Ee3SJ0tXWYzK0tKuCE97Uf3JQOwGNuQLN14RQxD4yXGvBQEQRChTDiv7NY+8jb/m8bibSRkLSRpwmLkctdpUdnZye1fraC4tY3bhw3j6WnT0CjOTxmJ+vp6dyd/gPT0DGQyGZLkpLWlCU9vPR4eA1uv1q5awYZ1a4gNcBDkZTvuup2ShAT9HkYA8NVoyAoPJys8nIWpqeypq2NVSTEHmpp4PdtVAmRuYiKz4+PICAkhVKf70X24fozs+nqONDfyr8vnnpXtMHfX4bT2oPOPRK7UiItDEARBhDLhfJEcdioOfElF9ucERg8jc9avURz9Y9zQ28sv16wht7mZG9PSeH727EEPn3Q21NbWUlVV5Z7OyHCVejD0dtPd1UVQSDgq9bHgYLPZ2LtnB6tXLmfG7Pkom9cik0vHXXe3xYL/KTrz+2u1XJaYyNSYGCq7OtlRU8N31dVsqaxka1UlYTpvJsVEMysungS9Pz4azXkNaE5J4sOcHEaGh56dljtJwtLbiBwrfuGZ4uIQBEG4AMSA5P+rgUxy0lj6HcXb38YnMJYJ1/8dT1/XmJNNBgMPr1/Pt6VlTImO5u9z5pwyxJxtpaUl2I/WEVMqlSQnu8pf9HR10t3dTUBQeL/3F+Tn8p/332bY8CwWXn8zSqWCE0WkPpsNvYfHoLbDU6UiLSiYu0dl8cHV1/DktKmMj4yk09THB4cPc+c33/C79RtYWVxMY6/hvO2fgtZW8lpbfnRdsu857CZMbcWoVFq8AkQ5DEEQhAtBtJT9j+puKuHQ6mew28yMuvov6PRRAHSaTPx+wwaW5uYxNSaGN664gjDd+e/0nZOT4/45JiYG3dFtMBoNdHf3gNKDpqYmZDIZZnMfb7/5L7y9fbjrnvvw8fFFhsSJGq5MdhseZzAQuUqh4PIhQ5kcE0tDTw+7amtZX17G4eYmshvqifPXkxkcwpVJQ0jQ6/E7R0HWYLXy4eEjzEuMZ0pMzNkJ6Q4blq4K1FoPvILEQOSCIAgilAnnhamnibyNL2Lqrid99m8IT5rqet1m49kdO/joSA7DQ0J4bf58hugvTIfv/fv3u38eNWqU++ey8gryiqvY+fQzGI0mVColkWFBmM1mJk2ZQV+f6Wgoc9UqO54uswX/QbaUHY+PWo1PYCDJgYHcnJHBztoa1paWcbCxkaX5uXxZWMDIsFCuS0sjIziEKF+fs3prs7i9ne9qq1lx4/Woz1IfP6fNiKklD6+gVOQKtbhIBEEQRCgTzjWbxUjOt8/SUraTxHGLiRt5HQAWu50Xdu3mxV27GarX8/rll5McGHhBtrGzs5OGhgb3dGLiEJqbm1m/fh2PP/YYDY0NOJ0SSqWSlKQhWCxWjuQWsn3Xfnbt3sNzzz2PTCZht/Ydd/0GiwXvs/QEpVapZGZcPOMjo6jq6iK3uZmVpSUUtbXzx42biPL1ZVhICPOHDCEzJBgvtRql/Mx7DTgliU9ycsgMCSbxLAZma28TTlMzuuBrxEUiCIIgQplwrjkdNqoPfU7t4RWEp8wlffZvUKo8sDocvH/4MM/t2EGoTser8+czOuLCVXTPy8vF6XQeO0mVSn72s9vZsmWLu5+ZQqEgIS6G0NAgSssqaWvvAGDDhg20trayeKonfl7Hb51yPXl5drtTeqpUpAYFkRoUxDXJyRxobGRZQT5FbW2sKC7iq6JCxkVGMTMujimxMUR4e59ROCtpa2NHTQ2vzJ97Vrff3FmKQubEM2CouFAEQRBEKBPOtdqcFZRs+zdBsWNImXk/SpUHkiTx1sGDPLJhA34aDS/Pncv02NgLup2FhYX9pt96602amprQarXEx0WTEBfDxMnT2bNnJ+PGTWD4SAOvv/46BoOro/3hw4dRmny54+rjF1TtMJlIC/I5Z9uvUSqZEBXF8NBQmg0GjjQ3s7yokJzmJg40NrAsP4/MkBAmRccwJiIcfw+PQd3etDmdrC0rJzM06LT7khmsBlYUrTjh/O7yb+l0WghuzcMz52NkMhl6rZ6kwCRCdaF4qjzFBSQIgiBCmXA2tFbsIn/dc8gVaoZf+RS+Ya7A8mVhIX/cuBEvpYrXr7iCyxITL2jtLafTyaFDh/u91tTURFRUFI888ggVJfl0dHSQnb2P6dNncs+9v0aj0ZCensEDD9xPV1cXAHmVvdS3Wo77GT0WCwE/ok/ZYHmqVMT5+xPn7881yckcaWpid10d6ysq+Ka4mBXFxST665kSG8OU6BiGh4W6C9oeN1R3d/NVUSEfL7zmtPuSrSxZya1f3XrqN+76e79JvYeeabHTuCHtBq5Pu15cSIIgCCKUCT9Gb0spxVv/CUDy9AfwCU0GYE1ZGU9t24bklHh8+hRmx8df0EAG0N3dTU1Ndb/XNBoNr7zyCnPnzuPun/8/mlvaSE1N5fobbkKjcdUqu/zyy9m+/TveeecdAMxWJ1VNpuN+hkOS0CrP/5iWw0JDSQ8OZlZ8PDnNzayvKCe3uYX/HD7MurIy0oODmZuQQFZ4BD5azYCAtqakFC+1kqQz6Ou3v37/GW1zh6mD5YXLOdx0GJ1Gx/zE+eKCEgRBEKFMOBMWYzu5a/5Md91h0i57nOgRC5HJ5GytquJXq1fT3Gvg/2bM4OejRp20leZ8aW9v7ze8klqt5qGHHuLKK6/CbrfTY+gjNDScBx58mLCwY7XK/Pz8uPfeX7pDGUBjh/W4n9HaZyTwPLSUHY9CLidRrydRr+eqpCSK29vZUVPNjuoaNpSXs6a0lHg/f6bGxjI9NpYRYaGoFAoae3t578ghnp4+FcVpBmeTzcTeur3H9qlCTWZIJjq1q8yI02rE2pGPXO2HWj8Uq8NKWUcZLcYW9zIVnRX8avWv+ODqD5gaO1VcWIIgCCKUCafDaTdTsestOqv3EjFsIZGZ1yBXqNhbX89jmzfT1Gvg9mHD+Nnw4RdFIAPo7u7qN7xSZmYmt912OwByuZxHHvkDarWGqKioAcump6fj5eWF0Wh0Bbwe2wlCih3Pi2D8SqVcTlpQEEP1ei5LHMKR5ibWlJWR29zMkrxc1leUk+iv5/q0NI40NRHgqWVOQsJpf06TsYlua7d7OsIngmdnPkui3jUuqLlxD23bfotH7BwCxv0Zu9NOk6GJ9w+/z3uH3nMvV9VVxad5n4pQJgiCIEKZcHqBzErtwc+oPfAJwQlTSJr+IEqNjrKODu765htK2tp5cOxYfj9xIj6ai2ecw/Lycjo6OtzTt9yymKFDh7pD2ZgxY0+4rEKhICkpiYMHDwJgszsHvMchSSjl8gt+m/aHVAoF0b6+RPv6cuXQJCq7uthUWcGO6hp21dawrbqwtMpCAAAgAElEQVQao81Kekgg++rrmRQdfVpDK9V019BqbHVPDwsZxoSoCUc770sYGrfjoXASEDMVnV8sAIn6RIaHDsdgNbAsf5l72S1VW8TFJQiCcI6IYZZ+giRJoqN6LyVb/o7WO4TkuY+i9QmjuquLxzZvprC1lbkJCfxm/PhzVnX+TO3bt+/YySmXc801Z143y1c3sDO8yWY7O2NFnkNxfn7cPmw4z8yYwfOzZhPu7Y1MJrGnto57V61m4bJlfHD4MC1GI3022ynXV99TT4fpWNBNCUxxP00pOe04ustRKuSo/PpX8tepdUyPnd7vNZvDJi4wQRCEc0S0lP0EGVqLKVr3BAqFipS5j+EdNJSG3l7uWbWazZWVXDFkKK/Mm0eg58VX5mDXrl3un4cNG3bc25QnU15e7v5Zrxt4ehts1vM6sPqZUsnlhPv4oFIq6bWaeXzKZMx2B9uqqthSWcX68nLi/f2ZFB3NrZmZjAwLO+F4nrktudiddvd0UmDSsQBvM+BoP4BS7YFKnzZg2Qif/vXqRGkMQRAEEcqEQbL0NlO25W+Yu+uIm/hLAmIn0GEy8fS2bWyurGREWBjPzJxJuLf3RbftDoeD3Nxc9/T06dNPa/nq6hq6u4/1nQrwHRi+7A4nGvmlcdo7JYnvqqoI9vJkcWYmfhot16emUtTezrL8fNaUlrIsL5/vqqoZGhDAdWmpTIuNJdrXt1/JjKK2on7rTQ38Qf02px36alD7xiDX+A7Yhm5zd7/p2KO3NwVBEAQRyoSTsJt7Kd30f7SVbiZ6zB3ETfwVJic8vP5bluTmMj4yklcum0dSQMBFuf2FhQWYTMfKWISGhp3W8rt373T/rJDLCPUbGMp6rBY0KsUlcTw7TCaW5Ofx6zGj0Ws9joYiP2L9/JiXkEBRezu7amr4KCfHNTh6RTmBHp4sSktlYlQU16ak4KlS9XvyEiAt+FiLmGRqhO4iVGGTBoZkycGBxgPuaa1Syy0Zt4gLTRAEQYQy4WQkp53mwlW0Fq9DHzuWmHG/wCrJ+Ne+vSzLyyfSx5dnZswgOSDwov0OJSUlZ7ys1Wrlyy+/dE/rvZUEHqdov83uQCW/NELZ/oYGKro6mBN//CcukwMCSA4IYGpMDGWdnSzJy2NXTQ0fHj7CF/kFfJKby8y4IJqNx55mjfOL63cL0tFdikIuoQrIGLD+nKYcNpRvcE9Pip7EhKgJ4mITBEEQoUw4mcbc5ZSu+xPeoRmkzv8beAbyZnY2z+3YQZhOx6vz5jE2MvKi/g579+498wCzfz+7d+92TyeEa/BVGQa8zyFJKOQX//MtZrudF3bv4q4RI075YEKCXk+CXs/chARqurv5tqyMnbW1fFVUxLdlq4FjT6GOCh/Vb1lZdwEKuQyF37ExL60OK8sLl/PUtqfctz51ah13jriTSJ9IcbEJgiCIUCacSE/9QWr3vI7Kw4/EaY+g9IviX/v28eimTYR4efHqZZcx9TTHSjzfuru7B7SUORyOQS1rt9t57rlnaWlxFTtVKpXMGROORmUf8N4+mw3vi/zpS6cksaq0FJlM4urkpNNaNtrXl7tGjuS2YcP47fjx3LPmIfbWH5u/qqScp7Z9zcKUFHRqNfa2HBxKb1R9XfS15LGhYgMrilaQ15LnfmIz0DOQ34z7DYtSF6GUi18ZgiAIIpQJx2VqL6d49cPYjS0kznsWXeRo1pSW8tyOHXgqVfxl2vQzKjh6vvX29tLU1NTvtcLCgkEt+8UXn7N27Vr39MyZMxk/2peWquwB7zXabHgoL+6nLztMJpbl57EgOYmh+tPv/yeXydAqlaQGB6JTt/WbZ7Yf4smt1/DkVgA1oAKMUL5wwHrUCjWLUhdx35j7yArPEoFMEAThHBN1yi5h1r52Krc9i7mzguiJ9xOUfDmry8q565uVmG12fjNuHNckJ18S36WlpZm6urp+r3399dd0dnaedLmDBw/w/PPPu6cTExN54oknQQYymTRwnzkdaJQXd7jYV19PTU8Xv8wa/aPW02pspdP8/f6TAVrAF0gFrgDuAeaccPn04HR+O/63jIkYIwKZIAiCCGXCydTv/Ted5ZsJTltASOYN7Klv4NFNm+k2m7l/7Fj+MGnSJVGTC6C5ucV9+/F73d3dPPzww9TW1gx4v8PhYPv27dxxxx3uMhpqtZpnn32WrKwsZEgcr2a/wWJFo7h4O/qb7XY+yc3lZ8OG/egit1Vd1TT12kDKAKYDNx4NYtcDWYA/4Akcf38cbDzIbStu483sN+mz9YkLThAE4RwT//29BElOO81HPqUh+218oyaQMPPP7G7p5rYVK2gxGPl/w4fz69GjL6nvlJNzpF8fsrS0NEpKSli6dAm7d+/iqaeeIjNzGDKZjKqqSj755BM2bdpMc7PrlqdWq+XRRx/l6quvQS6XI5PB8UZSsjkdF804n8fdD83NyGQSVyYNPe1ley0WzHY7pZ0dbKuq4rOCI7T2XQEyxf9v786j4y7ve4+/Z0YzGo1G+75aiy15kzcMXsEGr4CBEEgIWZqS0KYXem9I0qYlgSS3CSUhS9M2uSWBBmhCaCEL1GENBKgNNhgb40WWrNXa19E2oxnN8vvdP8aWLGzAsiVbxp/XOTroNzO/QXr0zPHnPMv3AWzE2+0kOeMoTk5mfWkpHykvI9lpB76DYRoMjgyys2Unv97/a3a07CBshDnQdYA7/3QnSc4kPlnxSX34REQUyuR4A0e207ztPuJSSihZ9y2aAxb+7sUXae4f4AsXXcR3168/b0bIjtm5c+fo94WFhTz22H/y9a9/ja1bt1JTU8MnP/negSA1NZU77riD2267HevRwGUBLIyfvjSBiGFimUbnXh5vOBTi0QP7KU9PO+W1ZD3Dw+xpb+dAdxevNTdT3dtLVc/x68hCwBGgnc8v+RhfWn4zRcnJ73qXsTIpi7IX8dmFn+Webfdwz7Z7ov0tMMC92+/l2vJrcTvc+gCKiCiUCUCg/wj1z30ZMxKg+PKv02pJ4/Y//IG3WtvYPHMmf7ty5XkXyABqa2txu93YbDauvfZa5s6dywMPPMAVV1xBc3MzQ0ND415vsVhISEhgwYIFfP/7P2Dx4sXEHLdWzIJ5wkhZxDAIGca4avfTyYGuLl5uqOfhj1x38r99OIw/HKbT5+P15iaeqq7mYHc3vX4//lAIu9VKnN3OvIwMlufns6vtIfZ1vgIMA2EuL/4/JwlkJ4qzx3HL4lv46a6f0h/oB6BtqI0DXQdYnr9cH0IREYUyCfm6aPzjVwn5eihccxcjWSv4xvPP88e6ejaVlvKzLVvIdp+fIxn33fd9gsEgLpeLiopoIdP09AxeeeVVXnnlFbZu/W+amqJry+x2O3PmzGH16ktZv349SUlJJ33Pd4+HhQ2DkXCYuGkaWv/zwAE2zixhcXb22N/cMNjb0cE7nR3s7+pid3s7e9rbCR6d6rVbrawoKGB2ejrL8/OpyMxkYVYWdpuNBfffBfSPvteS7CWn/LOkxaWxtmgtT1Y9CYA/5KfWU6tQJiKiUCZmJETzq99mqGkHmQtuIr78Or740ks8eaiKZXl5/OO6dedtIAO48sorT/p4amoqH/3oR9m8eTPBYBAAq9WCyxU/bmTshEBmPXH3pWGahA0D2zScvnyrrY1qTw93rl6Fx+/njdYWfldVxfamJjp8PnzBIGHDIM5uJzchgXmZmdw4Zw4r8vPJcrtxxsTgPK49wkaYyq6xkiJprjQKEgtOv/9hjjvUXEREFMou0EAWpGvfr+g58BhJxetIW3UX33tjNw+/vZeLc3P5xbXXUp6e/qFuA5fLhcvlOuXX22PdJx0pGw6FiLVNr27fOjjIL95+m9q+Xn78xk4O9fTQMjg4+vzs9HQuLyriopwcFufkcHFuLqlxce/7nrvbdxMxxzZOrCpYdUZr6SxYVBZDREShTPobXqJ9xw9x5ywi97K7+be9B/npm7soS0vjBxs3fugD2emwWWNOOlIWMiLEnKPdl6ZpEoxEGAoG6R0e5rXmZl5ubKR5cJCmwX48gWH6m5pIcTpZlpfH5lmzWF9czMzUVNwOx4RKZOzv3D/ueqLTjv2Bfna2jG2+iI2JpSCpQB1LRESh7MI13HWA1pfvxggNkXXZz3m8Ncj/feUVrBYL/7J5M6sK9A/lSVlOrFNmmCYj4chZ333pDQap6+tjb0cH1b29HOrupsbjwTCjoTFsGhQmJ/L5kkUszMpicXY2ZenpZzTNur9rLJTZLDYWZi2c0P0v1L1Ah3fshIXM+MwJv4eIiCiUfWgEeg/T9NztGMFBSrf8nPtbTH7w+kukOp389OqrWVdcrEZ6r0zGiXXKwoaBNxTCOYW7L0fCYXqGh+nwetnX1cXejg4OdXczFAziCwaxWq1kxsezNCeHRbk5pMQ6efzQAb6/YT2X5OVhnYTA2DvcS42nZlygykvMO6V7I2aEp6qe4t7t944+ZrVYue3i20h2JqtjiYgolF14TCNEx2v3EOg5SPbKO3k9XMi927biD4X40bXXsKm0dNrW25ouqezddcoM08RutU76MUsR06Spv5+9nZ3Uejzs6+jkcJ+HoZERABw2GzOSklhQWkJZWhqLs7MpTU0l1mbjn3bupDApkSU5OZMSyACaB5tpH2ofvS5KLiLDlfH+/c00aRlq4dF9j/Lg2w/S2N84GsiW5y/nuvLr1KdERBTKLsBAFg7QtetfGax/jrSFt7AjYQNffu6PhCMRHrjmGm6aOw+bVSdkfUAmO3GkzDQYCIycUUV/wzTpCwTo9vmo9XjY1dbG3o4OPH4/3lCIUCRCmiuOgsRE5mdmMj8zkyU52aTFxeGy28cFwsrubn57qJKvX7p6UmuntQ+10zzYPHrdNtTGt179FvH2+JO+PmyE2dO+hzpPHYMjg/jD/tFAtql0Ez+56icUJhWqU4mIKJRdeDwHf0XvO/+OK3spHYU38bUXttHY189dl17K9bNnK5Cdaih7d6AyTAzMCY+UmUDv8DBVPT1U9fSwp72dGo+HNq8X04yuXctyu7k0J4fZ6ekszM5iVmoqWfHx7zua+VJ9A5nxLjaUlkzq73649zC9w72j10cGjvDA7gcm9B6xtlium30dd116FyUpJepQIiIKZRcW0zTwd+6l43/uxuZMo2XB3dz2wk4a+wb46sqV3Ll69aRPvX1oQ5nFPOnuy4hhfuA0oS8Uotvno93rZXdb29FpyV58wRD+cBinzUZWgpu1M2awKCebpbm5FCYmEme3E2+3n9K0cvPAAH+oqebOy1aTPoFSH6finc53Tus+Z4yTbHc2FZkVfG7x59hYupG4mDh1JhERhbILz4inis7/+To2RyIxi+7g718/wKHuXm5dvJivrlqlQDaRUMaJ05eBSOQ9j6AaDoWo7+vjYHc3VT3dHOzuoaa3l5GjlfNddjtlaWnMy8hgXmYGczIymJWaelrlNcKGweMHK0l0xrIyP3/Sf/eZaTNZW7QWAIfNcUKwOtmC/XRXOkUpRSzJXsLFuRdjt9nViUREFMouTMbIAJ1/+gqBrt2MXPRtvlEdw1utTdw8fz4/2rTpvDzPcjoEs+P1+f1kuuOJGAY9fj8dXi91Hg+vNzezv6uL4VCIwZERDNMk2+1mTkYG8zMzWJafz+z0dBIdDuIdjjOuc3a4t5cnq6v48splH1gE9nTcsewOblt629E2sGCzjl+vdrIisDarDbtVfUxERKHsgg9kg/Tu/jH+jrewFW7knuZEnm+oY/WMGXx33ToFstMJZJbxxyxFTJP2oSFqez38ZNcuDnR3cbCrm/5A4GgosZKfmMiqwgJmpaaxMDuLstQ0kuOck/6zvdzYSLrLyZUzZ07J7+6yu3DZXeoEIiIKZTIhpoFn9z/Rv+8BjBnX8J2hS3iyrpa56en88iMfIec8Ps/ynAbdowvwn6qu4o/19expb6d5cJCwYWFHcyuJsbFkueNZkZ/Psvw8FufkkOJ0khgbi8Nmm7TyFO82HArxWlMTd6xYPulryURERKFMzoC//U363/k3YlzZ/HB4Kb9r7GVBZiY/2rSJ3IQENdAEePx+3u7o4GB3Fyk93WRa4IYnnhh93mW3szy3gEtnFFGRlcmc9HQKk5LO6s/4enMzITPCJbm5+oOJiIhC2XQx3PwyPdu+RsiewqPOj/Hv1b2kOuN47MYbKEpS9fT3EwiH6fB6aezvZ2drC9uamqjq6aEvECAQDvP3YQ9ZmKwvmsGa4hJWFhTwRksrOQmJfKR89jk5/7J1aIhH9u5lZUG+RslEREShbLqIBProeeUOQkOtPOT+K35eDzOSkrhvwwZKU1LVQCcRjETY1dbKrrZ2tjc30TQwwL7OTsKGAYAzJoaVBQWsmTGDiqo9WDsa+e+PXUecKwWIFmtNd8WdswPJX29qorbPww83b9BpDCIiolA2LQKZ34Nn+98SGGzm+dgN/EtTLHExMfzrlVeyZsYMNRAQMQz6AgGaBvqp7u3lj/X17G5vp8PrxR8OE4xEyIiPZ1FWFvMyM7lq1iwWZ2eT5nIRZ7dT1fEIXR0mNozR9xwcCZIed25GqIZDIZ6orGRL+SyKkjUKKiIiCmXTgvfgg/hqn+SpyEV8r3MWybFxfHPNGjaWll7wbVPf18frLc283NgYrRvW1UX/0TIVAAuysliYlcX6khJKUlKYn5lJsvPEHZIWTKzvGowKGhFcMY5z8nu93NBI0Ajz2YULp2wTgYiIKJTJKTKNML7qx+h/+8dUBZO4Z2ApfouTBzZs4PrZsy+stjBNfKEQzYODtA8N8VxdLW+0tXGkr4/BYBBvMIjb4SA/MZGLcnPZUlbGxXl5lKak4IyJIcHheN8pwJM90zfsn5K6YB+kdWiIJyoPsqZoBmVpafogiIiIQtm5NtK+g4E3/4Fav52vDF3JiNXNF5Ys4VMVFRdMG3gCfna3t/NiXR2VPT3Uejw09PePrgvLjI9ndWEhG0pKmJuRwez0dPITEyc8umSxgPVdxywNBUdwx579kbK3Wtuo6/Nw38Z1GiUTERGFsnMt7G2hf9sdDHp7+YHvKuqMLP7u0lXctnTph/Z3DkYidPp8dHiH2NnSwrbmZva2tzMwMsJQMIjVYiHH7eainBzWFBWxPD+fi3JycDscJDmd2CY5wEQM86wv8g8bBi821HF1mdaSiYiIQtk5Zwx3Mvj63+Hrq+Un/pX8MVjGx+fN46srV+L8kJ1nGTFNKru7eL62jj2dHdT39VHV04MvFMI0TeJiYqjIymJdcTFLcnIoTU1lTnr6pLdDdKRsbBozEA7jcpz9kxEOdHXROjTI/152sUbJREREoezcJrIgg2/czUjTs/zSv4hf+xZy49y5fG/9uvM+kBmmicfvp9Pn5WB3NztbW3m5oYEun4+hYJCRcJg0l4uZqanMzchgbVERK/LzyYyPx+1wEBcTM2WlISyYwNj05XAodNaPqxocGeGJgwcpSEpkQVaWPgsiIqJQdq6YRhB/1X/gP/wrto8U8r2hS6nImcEPN24k+zw+PqlneJhn62rZ297Bvq5O6vr6aB0cJGKa2CwWchIS+Pi8eSzLy2NuRgbzMzNJcTrPbm0uS3S07JhgJILDena7+76ODp6rq+VXH73+nNVGExERhTIBRo48i2/PPbwdzuGbg+tZVjiTH23adF4FMn8oROvQEK1Dg7zZ1sbzdXXU9vYyGAwyHAoRZ7eT43ZzRXExy/LyWFdSwqy0NBIcDuIdjklfFzaBTDZuB6Y3GMQVc/ZGysKGwe+qq7g4L5eF2RolExERhbJzJty7D9+bX8Pr8/DtgRsJJpTx/666ivL09Gn/s4ciEbY1N7GjuYVd7W3UH90h6Q+HgegZkuuKi1mam8vi7GzK0tOZkZQ0raZjrTYHFos5msy8wSD2mLM3WnWgq4vqnh7uvHQVDptNHwgREVEoOxcig/UMvfI5evvbuaN/C/0Ji/ntjTdOy0AWMQzavV66h3280drKMzU1vNjQQDASARidjpyfmcmqggKuLi/nssLCaR80bLHx40bKTDhrC+0HR0Z4bP8B5qSnsXnmTH0gREREoexcMCNBhnfdRaS/kod9y3nTmM1/bNrM/MzMafVz1vZ5eKm+njdbWznU20tdXx+9w8MA2G025mZksL64mGX5+cxMTaU8LY2kk1TOn64sRNeURUZ82OPS8IdCxJ2lkbx9nZ28fKSBR66/Th8IERFRKDsdnb5OHt33KF2+rlO+J9mZzIr8FRQkFZAXn46x7z4CDb/nCd98HjGu5hfXb2FTack5/b16hofpGR5mf1cn/9PUxO+rqujwekefT3e5yI6PZ11REdeUl7O+pOS83ogwFsxMzMgIEB29Sj5L1fy3HTnC6sICFmrHpYiIKJSdnv2d+7nzpTsJRoITus9utVORVcH1WeV8sv9Fqkdy+bFvDfdetZ5N5+g8y6FgkFcbG3i1qYm9HR0c6e/nyMAAkaNnSGbEx7O+uJgV+fnMy8xkdno6WW73OVuYP+mB7F27L8OGgcM69VOu7UNe3mpv4wtLl2gtmYiIKJSdrgNdByYcyABCRog97XvY076HOreNF4O38s1NN56145NGwmE6fD5aBgd5vbmJ31VVs6e9bTSAuR0O0l0uLisqYn1JCVfNnElFVtaHJoCdNJRhHq1VFjUcCuGc4t2XIcPgicqDxFjR4fIiIqJQdkahrPvAuOvVhatJd7334vy9HXtp7G8c99jDXpPrykxumjdvyn/eN1pa2N7cxJttbdR6PNT19eENRkNljNXK6oICVhYUsKqggOKUFMrT0i6Y0Ztja8qOD2UJjqldE1fb6+G3lZV8bc1q3A6HPlAiIqJQdtqhrGsslMVYY/jpVT9lQdaC93x9MBLkF2/8E9/Z9h1aA8fWaBm0e//ESOQruOypk/JzGaZJ9/AwHd4hKru7+X1VFduamug+ujDfZrGQER/PzJQUlufns760lE2lpRd8MBi3+9I0p7x47e+qDpEWH3fOpqxFRESh7EOhZ7iH1oHW0etZqbPIcr//Qm17xM8t1jZ64iPcHRh7vGu4i5aBFlKcZxbKGvr62N3ezvN1tdT393Oou5sevx/j6LRkSUoKa4uKuLSwkLK0NGamppLucumMRY6NlEXbKWIYhAwD+xRW1W8f8rKzpZmb5s8968c5iYiIQtmHSmV3JUOhodHriqwKEmMT3/sG0yBc/2sih39GqTUOMIDoTj/TNDEwTvn/bZom/nCY5oEB2rxe/lBzmJcaGjjQFd0FarFYSIqNJdvtZmF2NtfPmcPVs2ZRmJSkP9z7pLJj0TRkGPin+OzL31RWkhDr4NMLFigUi4iIQtmZaOhvIBgeW+RfnFyMw/be039G+0tEDnyXqpFk/iN0BW7HC3iD0VAWY43BdgrnLPYHArzT2cGztXVU9/ZwsLublsHB0cKtyU4na4uKWHncDsn8xETt6ju1TBbdgXk09EZMsFqmZqSsPxBg6+Fq/mbVCq0lExERhbIzVd1TjT/sByAxNpFZqbOwWU4efsyeXYR2/hXt3iHuj7mdP7tiFdv/sHX0+bS4NLLjs8eHONOkaWCAXv8wrzU383RNDdubmhg5GsAcNhu5CQksyMzkqrIyLi0sZH1Jif4wZ5DKju2+jJgmw8EgzikKs9ubmkiKi2Vjqf5eIiKiUHZGhkPD1HhqRq+TnEnkJuaePJCNeAjv+XvwNrLV/nluv/wL7Gx7Bm9wrBjrJ+Z/gnRXOhHTpLK7i21NTexub2dfZyd1fX0MjhwbUbOyICuLK2fNYlFWFnMzMihKTiYxNlZ/lDPPZEd3X5qEDYOgaRBjm/yRskAoxEN732bzrFKtJRMREYWyM+UL+ajpHQtlac40ytPKT/LCJiJv3EZ/+5v8xvYZrrjiLgZCTXzvte8e9yI3Hv9sbv7db9nW1DRaOT/GaqUwKYnl+flUZGWxMj+fLWVlmoqcqo4d6x5dU2YChmFM+u5LwzT5fXU17d4hbpgzR2vJREREoexMjYRHqOurG71OiE0gx51z4j/CTb+Bjhc5ZFtC+dIvsr97B//42ndoGmg6rjkv4Tvb3hy9J9vtHj1Dck5GBnPS08lNSFCjTzGL1TG6+9IwTcKmiX2SK/oHwmGeOXyYLeVl2nQhIiIKZZPhrba3xk0/9vp7eWjvQ7gcrrEXDVRjVv2YoWCY38Q4aH3hRhr6GzBNk+hkWQbprtWUpV1FeVoGS3Nz2TxzJoVJScRMYSkGeY9QdtygVSgSwR8KE2+f3O7+p4YGGgb6eOC6LWpwERFRKJsM73S+M+66sruS25+5/X3ueHXc1ZoZW7hsxsdZlL2I+Zk5FCcnY9e05DlnPRrMTMAwjUndfRkIhXhk7ztcNWuW1gCKiIhC2WR5pfGV0743253NF5fdwobSDbgdbjXmNBHdeRmdvgxFInhHQsTaJqe7G6bJk9WH6fB5+aulV2ldoIiITM5gwoXeAMOhYer76k/7/g5vB7duvZWvvPAVhkaG1KOmU+e2gBn2YZgmISOCfZJ2XwbCYZ6rreHqsplaSyYiIpPmgh8pq+6txhfyjV6vyF/B0596mhRnyklf7w16aR1sZevhrTy450Gqe6vx+D38fPfPsWDhR5t+hMvuUs86x46tKTMiASKmOanr+mp6PXT6vNx/zVVqaBERmbzBhAu9Aeo8dYyER0avC5IK3reSv9vhpjy9nL9Z+Td8a+23SHYmjz73ZNWT7O3Yq141XTq3xcQCePz+Sa20/9DevSzNzSFB1ftFREShbHIYpsH+rv2jI2UOm4MlOUuIt8ef0v3Xll/L2qK1o/Wvuoe72de5T71qGjhWDgPAFwyRM0llSLY1NbG9+Qg3zZ9HbIyWZIqIiELZpAhFQjQNNB0taxGt5F+YVHjK97vsLmYkzcB6tBkN06Cqp0q9atoEs+h/h4IjOCahRlkoEuG5mlrmZaazJOEl3twAAAqeSURBVCdHDSwiIgplk8Ub8nKo+9DodYYrg7kZcyf0HjHWmHGV4o+vdybnMJBhHv2CgUCA1Li4M37Pyu4enq2r4duXX64dlyIiolA2mYKRIA39DaPXqXGpJz9e6QPewzCN0evE2ET1qukSzI5m5bBhED8J51Le/9YuLptRSFlamhpXREQUyibTkf4jdPm6Rq/nZszFGeM85fsb+xvZ0bJjNJQ5bA6W5i5Vr5omgcwyGpwjOM9w/de2pibe6ezk1iWLdUKDiIgolE2215pfG3c90anLXa27xi3sz0vIY2HWQvWqaRPMomsF+wIB0lynX6YkbBg8X1PL3Kx0lubmqmFFRGRKXNDbx7Yf2T7u+qKci07pvkA4wDM1z/DXz/41wUhw9PGNpRspTy9Xr5oOgYyxkTJ/OHxG5SvahoZ4vaWJh6+/TqNkIiKiUDYVKnsqR793O9wUJRd94D0tgy38YMcP+OU7v8Tj94w+vjh7MV9a8SVirCqTMF1S2bE1ZYOBAMmxp7/Q/4W6OkrTUihJSVG7ioiIQtlkO9B1YFyoGomM8Jdb/5LYmPc+XLqyu5L6vnrCRnjc46sKVvHgtQ9OeJOATGEms9hGd18OBYMkOU/v0PCGvj6erjnM55csOuN1aSIiIgplJ9HY30ggHBi9DkVCPFv77ITew2FzcP3s67l7zd3MTp+t3jSN2ByJoyNlwXAE+2mUsDBMk/+urmZgJMCWsjI1qoiIKJRNhRpPDf6Qf8L3uR1uZqbOpCKrgpvn38yGkg2aspyGorXjTIL+bhwxp1dTrHVwkP+qPMiXViyb1GOaREREFMqOU5FZwS2LbyFshLFarGS4Mkafs1ltJMUmnXAGZlpcGmXpZWS7s8lLyFMYm9apDKwW8AZHiHecXu24F+rqyE1wc3lRkdpTREQUyqbK+pL1rC9Zrx7wIRcIR3DabJiM7cY8FQ19fTxfV8ufL1pIUXKyGlJERKac9vfLh7dzW2AkEsYZEx3xNE/xPsM0ebqmBk9Aa8lEREShTOSMWI7GMG8wSNxxuyZPJZj1BwK8WF/H/7r4Iq0lExERhTKRMw5mFogYBtZ3zVt+UDB79cgRrFYLK/Lz1YgiIqJQJnJGgQywYBI2DBy2U186ORAIsLW6miuKi7SWTEREFMpEzjiUWUwsFhgKjpAQe+IUpMnJR8yeqanlyEA/n6yowGGzqSFFREShTOSMgxkQDIdPeaSszx/gsQP72TyrlMKkJDWgiIgolIlMSiizmPjDYeJi7O/5muNHzF490kggEua6ch2XJSIiCmUikxfKgOFQCOcpVPQfCAR4+nANH5ldxvzMTDWeiIgolIlMSiCLcWKxQDASOXrk0vt7sb6BlqEBPjF/vtaSiYiIQpnIpHVsezwAgXAY6weEMm8wyDO1NawvKdZaMhERUSgTmVQWsGISjIQ/sADs4d5e6vo8bJ41U+0mIiIKZSJTEczChontfUbKwobB4wcPsiwvl1mpqWozERFRKBOZ5DyGBZNgJILD+t5rxKp6enirrY1PLaggNS5ODSciIgplIpMezCwQCIdw2k9ep2w4FOJX77zDnIw0VhYUqMFEREShTGTSA9no13tPXVb39PLKkSN8akGFGkxERBTKRKYsmFkgZHOdtKJ/KBLhV/v3sSQ3WwePi4iIQpnIlIYyTPy2ZGJPUjy21uPhQFcXf7ag4gN3Z4qIiCiUiZxJKLOAaXNif9dC/2AkwksNjczLTGNDaakaSkREFMpEJs22bbBpE1x+OVx+OZaujujuS6sbu3V8N+/2+Xiy+hDXlJWp3UREZNqIURPIh8KTT8ILL0S/dzgg4eMABGyJxMaM7+b/dfAgcTE2LsnLU7uJiMi0oZEy+XCorx/7fs4cLK54wMK768a2Dg7yckM9H5s7h8z4eLWbiIgolIlMqjfeGPt+3ToABsxYEh3O0YdDkQhbDx/GHmPllsWLP/BMTBEREYUykYno6IDOzrHrRYsA6DLcZMS7Rh/u8vl4/OBBPr1gAS67Xe0mIiIKZSKT6s03wTCi37vdMGsWFgv4DDsu+1i5i8cPVpIcF8sm7bgUERGFMpEp8NJLY98XFkJKCgA9hosER3RErHVwiB2tzXxi/jytJRMREYUykUkXiUBl5dh1Xh5kZAAmvYaLZOsIhmmyq7UVqwVunj9fa8lERGRaUkkMOb91dUFf3/hQlpSExQNG2IJ1z9tYf/4oa15+icv7+3B9+x/gssvghhtg7dpo+QwRERGFMpEz1NgI7e1j15dcAjYblmer6N3louDwr4k9XEVh/9Hg1t0NVVXw8MNw881w772Qk6N2FBGRc07Tl3J+a22FgYGx69hY+MxnsHz1x3R3x5MR8BOKhDFdLnCN7cQkGIRHHoHbbht/v4iIyDmikTI5v9XUgM83dn333dEpTWuYQHwMezcu5Zn+pdy5fj32YBCefjr65fVGX791a3S07LvfVVuKiMg5pZEyOb+99db467Y2cDoxv7iWIwuSeKggD9ctn8N+003wmc/Agw/CnXeC7egh5ZEIPPooNDSoLUVERKFM5LTV1Iy/zs6Ojnx94bP44hwMx+aypWzW2PNuN/zFX8A114w95vGMPxFAREREoUxkAgKB8eUwILp4/9ZbGbbEY7XFsr6kiJKjdctGZWTATTeNjZYFAnDkiNpTRETOKa0pk/PX669Hpx+PKSyEO+4ApxNr5iru2FTMorwiHMfC1/EWLIDiYqitjZ4G0N4eDWdOp9pVREQUykQmZP/+se+tVvjyl6PBDIhz53Lt/Nz3vjctDY6v7D84CCMjCmUiInLOaPpSzl87dox9n5kJa9ac+r12e/TrmNRUiItTm4qIiEKZyIR4PFBXN3Y9Zw7k55/6/V1d0dGx40OZqvuLiIhCmcgEtbZGg9kxy5ZBevqp39/TMxbKYmOjI20iIiIKZSIT1NICvb1j1yUlE7u/vn4s1MXGwowZalMREVEoE5mwhobxxyNZJ9CVfT7YuTN61BJEa5dVVKhNRUREoUxkwo7feTlRhw7B44+PXd94Y7TorIiIiEKZyAQdOHB69wWDcP/9Y1Ofqalwww1qTxERUSgTmTDDgD17xj/W0BB9/IP8/vfw1FNj19dcA4sWqU1FREShTGTCWlpgeHj8Y9u3R3dUvp+mJvjJT8ZeV1gIt94KiYlqUxERUSgTmbBdu058bOdO+MY3oLv7xOcikejzn/pU9GgmiBaKve8+WLlS7SkiItOCjlmS88/xh5A7HOByQX8//OxnEA7Dpz8NRUXR53t64IUX4Je/hKqqsXv+/M/hyisntmtTRERkCllM0zTVDHLeCATgs58d2z25fDn88IfwxS/C7t1gsURDmtsdfT4YjE51BgLR68REuP12uOuu6OtERESmCQ0TyPmlsTG6NuyYyy+HSy6Bf/7n6FFLhgFeL3R0RL88nrFAdtFF8OijCmQiIjItaaRMzi8dHfDii2MlLbZsgdLS6LTl4GA0nL388tjaMqsVysth82ZYty5a+d9iUTuKiIhCmciUCwSiOzQhun4sO1uHjYuIiEKZiIiIiHwwrSkTERERUSgTEREREYUyEREREYUyEREREVEoExEREVEoExERERGFMhERERGFMhERERF5t/8PXvtFW0YQK2QAAAAASUVORK5CYII=)\n",
    "\n",
    "For convenience, PyPhi can be asked to automatically unfold the cause-effect\n",
    "structure of a `candidate_system`, which internally follows the method calls\n",
    "described above. If the `candidate_system` is in turn a maximal complex (as\n",
    "found in the [System Irreducibility Analysis](#scrollTo=95b5fc3f)), then the cause-effect structure\n",
    "is called a Φ-structure."
   ]
  },
  {
   "cell_type": "code",
   "execution_count": null,
   "id": "67d8d639",
   "metadata": {
    "colab": {
     "base_uri": "https://localhost:8080/"
    },
    "id": "67d8d639",
    "outputId": "98c66eb0-b656-4d45-f89f-16ca6b171765"
   },
   "outputs": [
    {
     "name": "stdout",
     "output_type": "stream",
     "text": [
      "┌──────────────────────────────────────┐\n",
      "│             PhiStructure             │\n",
      "│ ════════════════════════════════════ │\n",
      "│               Φ:  5.410149997115375  │\n",
      "│ #(distinctions):  4                  │\n",
      "│           Σ φ_d:  1.792481250360578  │\n",
      "│    #(relations): 14                  │\n",
      "│           Σ φ_r:  3.6176687467547968 │\n",
      "│ ┌──────────────────────────────────┐ │\n",
      "│ │ SystemIrreducibilityAnalysis     │ │\n",
      "│ │ ━━━━━━━━━━━━━━━━━━━━━━━━━━━      │ │\n",
      "│ │      Subsystem:  A,B,C           │ │\n",
      "│ │  Current state:  1,0,0           │ │\n",
      "│ │            φ_s: 2.0              │ │\n",
      "│ │ Normalized φ_s: 0.4              │ │\n",
      "│ │          CAUSE:  (0, 0, 0)       │ │\n",
      "│ │           II_c: 3.0              │ │\n",
      "│ │         EFFECT:  (0, 1, 0)       │ │\n",
      "│ │           II_e: 3.0              │ │\n",
      "│ │   #(tied MIPs): 2                │ │\n",
      "│ │      Partition:                  │ │\n",
      "│ │                 3 parts: {A,B,C} │ │\n",
      "│ │                 [[0 0 1]         │ │\n",
      "│ │                  [1 0 1]         │ │\n",
      "│ │                  [1 1 0]]        │ │\n",
      "│ └──────────────────────────────────┘ │\n",
      "└──────────────────────────────────────┘\n"
     ]
    }
   ],
   "source": [
    "phi_structure = pyphi.new_big_phi.phi_structure(candidate_system, parallel=False)\n",
    "print(phi_structure)"
   ]
  },
  {
   "cell_type": "markdown",
   "id": "f20a5c2b",
   "metadata": {
    "id": "f20a5c2b"
   },
   "source": [
    "Individual properties and components of the structure remain accessible. E.g:"
   ]
  },
  {
   "cell_type": "code",
   "execution_count": null,
   "id": "d0d79418",
   "metadata": {
    "colab": {
     "base_uri": "https://localhost:8080/"
    },
    "id": "d0d79418",
    "outputId": "748668b9-cf15-400f-816e-61db76e4398b"
   },
   "outputs": [
    {
     "name": "stdout",
     "output_type": "stream",
     "text": [
      "φ_s = 2.0\n",
      "Big Φ = 5.410149997115375\n"
     ]
    }
   ],
   "source": [
    "# φ_s\n",
    "print(f\"φ_s = {phi_structure.sia.phi}\")\n",
    "# Big Φ (sum of distincions and relations' small φ)\n",
    "print(f\"Big Φ = {phi_structure.big_phi}\")"
   ]
  },
  {
   "cell_type": "markdown",
   "id": "eacd5174",
   "metadata": {
    "id": "eacd5174"
   },
   "source": [
    "So even though the `candidate_system` only has 3 units, an analysis of its\n",
    "cause-effect structure reveals it is composed of 4 distinctions and 14 relations\n",
    "among them."
   ]
  },
  {
   "cell_type": "code",
   "execution_count": null,
   "id": "f946f847",
   "metadata": {
    "colab": {
     "base_uri": "https://localhost:8080/"
    },
    "id": "f946f847",
    "outputId": "608a9cec-2471-4476-a9b2-fafafb94139d"
   },
   "outputs": [
    {
     "name": "stdout",
     "output_type": "stream",
     "text": [
      "══════════════════════════════════════════════════════════════════════════════\n",
      "                   Cause-effect structure (4 distinctions)                    \n",
      "══════════════════════════════════════════════════════════════════════════════\n",
      "  ━━━━━━━━━━━━━━━━━━━━━━━━━━━━━━━━━━━━━━━━━━━━━━━━━━━━━━━━━━━━━━━━━━━━━━━━━━  \n",
      "                  Distinction: mechanism = [A], state = [1]                   \n",
      "                             φ = 0.4387218755409                              \n",
      "  ━━━━━━━━━━━━━━━━━━━━━━━━━━━━━━━━━━━━━━━━━━━━━━━━━━━━━━━━━━━━━━━━━━━━━━━━━━  \n",
      "                   MIC                                  MIE                   \n",
      "  ┌───────────────────────────────────┐┌───────────────────────────────────┐  \n",
      "  │  φ = 1/2                          ││  φ = 0.4387218755409              │  \n",
      "  │  Normalized φ = 1/4               ││  Normalized φ = 0.4387218755409   │  \n",
      "  │  Purview: [A,C]                   ││  Purview: [B]                     │  \n",
      "  │  Specified state:                 ││  Specified state:                 │  \n",
      "  │  ┌─────────────────┐              ││  ┌─────────────────────────────┐  │  \n",
      "  │  │ Specified CAUSE │              ││  │       Specified EFFECT      │  │  \n",
      "  │  │ ╍╍╍╍╍╍╍╍╍╍╍╍╍╍╍ │              ││  │ ╍╍╍╍╍╍╍╍╍╍╍╍╍╍╍╍╍╍╍╍╍╍╍╍╍╍╍ │  │  \n",
      "  │  │ CAUSE:  (0, 0)  │              ││  │ EFFECT:  (1,)               │  │  \n",
      "  │  │  II_c: 0.5      │              ││  │   II_e: 0.43872187554086717 │  │  \n",
      "  │  └─────────────────┘              ││  └─────────────────────────────┘  │  \n",
      "  │  MIP:                             ││  MIP:                             │  \n",
      "  │     A     ∅                       ││     A     ∅                       │  \n",
      "  │    ─── ✕ ───                      ││    ─── ✕ ───                      │  \n",
      "  │     ∅    A,C                      ││     ∅     B                       │  \n",
      "  │  Forward probability:             ││  Forward probability:             │  \n",
      "  │      1.0                          ││      0.75                         │  \n",
      "  │  Partitioned forward probability: ││  Partitioned forward probability: │  \n",
      "  │      0.5                          ││      0.5                          │  \n",
      "  │  #(ties): 1                       ││  #(ties): 0                       │  \n",
      "  └───────────────────────────────────┘└───────────────────────────────────┘  \n",
      "                                                                              \n",
      "  ━━━━━━━━━━━━━━━━━━━━━━━━━━━━━━━━━━━━━━━━━━━━━━━━━━━━━━━━━━━━━━━━━━━━━━━━━━  \n",
      "                  Distinction: mechanism = [B], state = [0]                   \n",
      "                                   φ = 1/2                                    \n",
      "  ━━━━━━━━━━━━━━━━━━━━━━━━━━━━━━━━━━━━━━━━━━━━━━━━━━━━━━━━━━━━━━━━━━━━━━━━━━  \n",
      "                   MIC                                  MIE                   \n",
      "  ┌───────────────────────────────────┐┌───────────────────────────────────┐  \n",
      "  │  φ = 1/2                          ││  φ = 1                            │  \n",
      "  │  Normalized φ = 1/4               ││  Normalized φ = 1                 │  \n",
      "  │  Purview: [A,B]                   ││  Purview: [C]                     │  \n",
      "  │  Specified state:                 ││  Specified state:                 │  \n",
      "  │  ┌─────────────────┐              ││  ┌──────────────────┐             │  \n",
      "  │  │ Specified CAUSE │              ││  │ Specified EFFECT │             │  \n",
      "  │  │ ╍╍╍╍╍╍╍╍╍╍╍╍╍╍╍ │              ││  │  ╍╍╍╍╍╍╍╍╍╍╍╍╍╍  │             │  \n",
      "  │  │ CAUSE:  (0, 0)  │              ││  │  EFFECT:  (0,)   │             │  \n",
      "  │  │  II_c: 0.5      │              ││  │    II_e: 1.0     │             │  \n",
      "  │  └─────────────────┘              ││  └──────────────────┘             │  \n",
      "  │  MIP:                             ││  MIP:                             │  \n",
      "  │     B     ∅                       ││     B     ∅                       │  \n",
      "  │    ─── ✕ ───                      ││    ─── ✕ ───                      │  \n",
      "  │     ∅    A,B                      ││     ∅     C                       │  \n",
      "  │  Forward probability:             ││  Forward probability:             │  \n",
      "  │      1.0                          ││      1.0                          │  \n",
      "  │  Partitioned forward probability: ││  Partitioned forward probability: │  \n",
      "  │      0.5                          ││      0.5                          │  \n",
      "  │  #(ties): 0                       ││  #(ties): 0                       │  \n",
      "  └───────────────────────────────────┘└───────────────────────────────────┘  \n",
      "                                                                              \n",
      "  ━━━━━━━━━━━━━━━━━━━━━━━━━━━━━━━━━━━━━━━━━━━━━━━━━━━━━━━━━━━━━━━━━━━━━━━━━━  \n",
      "                  Distinction: mechanism = [C], state = [0]                   \n",
      "                             φ = 0.4387218755409                              \n",
      "  ━━━━━━━━━━━━━━━━━━━━━━━━━━━━━━━━━━━━━━━━━━━━━━━━━━━━━━━━━━━━━━━━━━━━━━━━━━  \n",
      "                   MIC                                  MIE                   \n",
      "  ┌───────────────────────────────────┐┌───────────────────────────────────┐  \n",
      "  │  φ = 1                            ││  φ = 0.4387218755409              │  \n",
      "  │  Normalized φ = 1                 ││  Normalized φ = 0.4387218755409   │  \n",
      "  │  Purview: [B]                     ││  Purview: [B]                     │  \n",
      "  │  Specified state:                 ││  Specified state:                 │  \n",
      "  │  ┌─────────────────┐              ││  ┌─────────────────────────────┐  │  \n",
      "  │  │ Specified CAUSE │              ││  │       Specified EFFECT      │  │  \n",
      "  │  │  ╍╍╍╍╍╍╍╍╍╍╍╍╍  │              ││  │ ╍╍╍╍╍╍╍╍╍╍╍╍╍╍╍╍╍╍╍╍╍╍╍╍╍╍╍ │  │  \n",
      "  │  │  CAUSE:  (0,)   │              ││  │ EFFECT:  (1,)               │  │  \n",
      "  │  │   II_c: 1.0     │              ││  │   II_e: 0.43872187554086717 │  │  \n",
      "  │  └─────────────────┘              ││  └─────────────────────────────┘  │  \n",
      "  │  MIP:                             ││  MIP:                             │  \n",
      "  │     C     ∅                       ││     C     ∅                       │  \n",
      "  │    ─── ✕ ───                      ││    ─── ✕ ───                      │  \n",
      "  │     ∅     B                       ││     ∅     B                       │  \n",
      "  │  Forward probability:             ││  Forward probability:             │  \n",
      "  │      1.0                          ││      0.75                         │  \n",
      "  │  Partitioned forward probability: ││  Partitioned forward probability: │  \n",
      "  │      0.5                          ││      0.5                          │  \n",
      "  │  #(ties): 0                       ││  #(ties): 0                       │  \n",
      "  └───────────────────────────────────┘└───────────────────────────────────┘  \n",
      "                                                                              \n",
      "  ━━━━━━━━━━━━━━━━━━━━━━━━━━━━━━━━━━━━━━━━━━━━━━━━━━━━━━━━━━━━━━━━━━━━━━━━━━  \n",
      "                Distinction: mechanism = [A,B], state = [1, 0]                \n",
      "                             φ = 0.4150374992788                              \n",
      "  ━━━━━━━━━━━━━━━━━━━━━━━━━━━━━━━━━━━━━━━━━━━━━━━━━━━━━━━━━━━━━━━━━━━━━━━━━━  \n",
      "                   MIC                                  MIE                   \n",
      "  ┌───────────────────────────────────┐┌───────────────────────────────────┐  \n",
      "  │  φ = 1/2                          ││  φ = 0.4150374992788              │  \n",
      "  │  Normalized φ = 1/8               ││  Normalized φ = 0.4150374992788   │  \n",
      "  │  Purview: [A,B,C]                 ││  Purview: [B]                     │  \n",
      "  │  Specified state:                 ││  Specified state:                 │  \n",
      "  │  ┌────────────────────┐           ││  ┌──────────────────┐             │  \n",
      "  │  │  Specified CAUSE   │           ││  │ Specified EFFECT │             │  \n",
      "  │  │ ╍╍╍╍╍╍╍╍╍╍╍╍╍╍╍╍╍╍ │           ││  │  ╍╍╍╍╍╍╍╍╍╍╍╍╍╍  │             │  \n",
      "  │  │ CAUSE:  (0, 0, 0)  │           ││  │  EFFECT:  (1,)   │             │  \n",
      "  │  │  II_c: 1.0         │           ││  │    II_e: 1.0     │             │  \n",
      "  │  └────────────────────┘           ││  └──────────────────┘             │  \n",
      "  │  MIP:                             ││  MIP:                             │  \n",
      "  │     A     B     ∅                 ││     A     B     ∅                 │  \n",
      "  │    ─── ✕ ─── ✕ ───                ││    ─── ✕ ─── ✕ ───                │  \n",
      "  │     ∅    A,B    C                 ││     B     ∅     ∅                 │  \n",
      "  │  Forward probability:             ││  Forward probability:             │  \n",
      "  │      1.0                          ││      1.0                          │  \n",
      "  │  Partitioned forward probability: ││  Partitioned forward probability: │  \n",
      "  │      0.5                          ││      0.75                         │  \n",
      "  │  #(ties): 2                       ││  #(ties): 0                       │  \n",
      "  └───────────────────────────────────┘└───────────────────────────────────┘  \n",
      "                                                                              \n",
      "                                                                              \n",
      "     ConcreteRelations      \n",
      "════════════════════════════\n",
      "   #: 14                    \n",
      "  Σφ:  3.6176687467547968   \n",
      "╍╍╍╍╍╍╍╍╍╍╍╍╍╍╍╍╍╍╍╍╍╍╍╍╍╍╍ \n",
      "          Relation          \n",
      "╍╍╍╍╍╍╍╍╍╍╍╍╍╍╍╍╍╍╍╍╍╍╍╍╍╍╍ \n",
      "      φ: 0.1383458330929479 \n",
      "Purview:  [A]               \n",
      " Relata:                    \n",
      "       Cause[A]/[A,C]       \n",
      "       Cause[B]/[A,B]       \n",
      "     Cause[A,B]/[A,B,C]     \n",
      "╍╍╍╍╍╍╍╍╍╍╍╍╍╍╍╍╍╍╍╍╍╍╍╍╍╍╍╍\n",
      "          Relation          \n",
      "╍╍╍╍╍╍╍╍╍╍╍╍╍╍╍╍╍╍╍╍╍╍╍╍╍╍╍╍\n",
      "      φ: 0.21936093777043358\n",
      "Purview:  [A]               \n",
      " Relata:                    \n",
      "       Cause[A]/[A,C]       \n",
      "       Cause[B]/[A,B]       \n",
      "╍╍╍╍╍╍╍╍╍╍╍╍╍╍╍╍╍╍╍╍╍╍╍╍╍╍╍ \n",
      "          Relation          \n",
      "╍╍╍╍╍╍╍╍╍╍╍╍╍╍╍╍╍╍╍╍╍╍╍╍╍╍╍ \n",
      "      φ: 0.1383458330929479 \n",
      "Purview:  [C]               \n",
      " Relata:                    \n",
      "       Cause[A]/[A,C]       \n",
      "      Effect[B]/[C]         \n",
      "     Cause[A,B]/[A,B,C]     \n",
      "╍╍╍╍╍╍╍╍╍╍╍╍╍╍╍╍╍╍╍╍╍╍╍╍╍╍╍╍\n",
      "          Relation          \n",
      "╍╍╍╍╍╍╍╍╍╍╍╍╍╍╍╍╍╍╍╍╍╍╍╍╍╍╍╍\n",
      "      φ: 0.21936093777043358\n",
      "Purview:  [C]               \n",
      " Relata:                    \n",
      "       Cause[A]/[A,C]       \n",
      "      Effect[B]/[C]         \n",
      "╍╍╍╍╍╍╍╍╍╍╍╍╍╍╍╍╍╍╍╍╍╍╍╍╍╍╍ \n",
      "          Relation          \n",
      "╍╍╍╍╍╍╍╍╍╍╍╍╍╍╍╍╍╍╍╍╍╍╍╍╍╍╍ \n",
      "      φ: 0.2766916661858958 \n",
      "Purview:  [A,C]             \n",
      " Relata:                    \n",
      "       Cause[A]/[A,C]       \n",
      "     Cause[A,B]/[A,B,C]     \n",
      "╍╍╍╍╍╍╍╍╍╍╍╍╍╍╍╍╍╍╍╍╍╍╍╍╍╍╍ \n",
      "          Relation          \n",
      "╍╍╍╍╍╍╍╍╍╍╍╍╍╍╍╍╍╍╍╍╍╍╍╍╍╍╍ \n",
      "      φ: 0.4150374992788437 \n",
      "Purview:  [B]               \n",
      " Relata:                    \n",
      "        Effect[A]/[B]       \n",
      "        Effect[C]/[B]       \n",
      "      Effect[A,B]/[B]       \n",
      "╍╍╍╍╍╍╍╍╍╍╍╍╍╍╍╍╍╍╍╍╍╍╍╍╍╍╍╍\n",
      "          Relation          \n",
      "╍╍╍╍╍╍╍╍╍╍╍╍╍╍╍╍╍╍╍╍╍╍╍╍╍╍╍╍\n",
      "      φ: 0.43872187554086717\n",
      "Purview:  [B]               \n",
      " Relata:                    \n",
      "       Effect[A]/[B]        \n",
      "       Effect[C]/[B]        \n",
      "╍╍╍╍╍╍╍╍╍╍╍╍╍╍╍╍╍╍╍╍╍╍╍╍╍╍╍ \n",
      "          Relation          \n",
      "╍╍╍╍╍╍╍╍╍╍╍╍╍╍╍╍╍╍╍╍╍╍╍╍╍╍╍ \n",
      "      φ: 0.4150374992788437 \n",
      "Purview:  [B]               \n",
      " Relata:                    \n",
      "        Effect[A]/[B]       \n",
      "      Effect[A,B]/[B]       \n",
      "╍╍╍╍╍╍╍╍╍╍╍╍╍╍╍╍╍╍╍╍╍╍╍╍╍╍╍ \n",
      "          Relation          \n",
      "╍╍╍╍╍╍╍╍╍╍╍╍╍╍╍╍╍╍╍╍╍╍╍╍╍╍╍ \n",
      "      φ: 0.1383458330929479 \n",
      "Purview:  [B]               \n",
      " Relata:                    \n",
      "       Cause[B]/[A,B]       \n",
      "       Cause[C]/[B]         \n",
      "     Cause[A,B]/[A,B,C]     \n",
      "       ╍╍╍╍╍╍╍╍╍╍╍╍╍╍       \n",
      "          Relation          \n",
      "       ╍╍╍╍╍╍╍╍╍╍╍╍╍╍       \n",
      "             φ: 0.25        \n",
      "       Purview:  [B]        \n",
      "        Relata:             \n",
      "       Cause[B]/[A,B]       \n",
      "       Cause[C]/[B]         \n",
      "╍╍╍╍╍╍╍╍╍╍╍╍╍╍╍╍╍╍╍╍╍╍╍╍╍╍╍ \n",
      "          Relation          \n",
      "╍╍╍╍╍╍╍╍╍╍╍╍╍╍╍╍╍╍╍╍╍╍╍╍╍╍╍ \n",
      "      φ: 0.2766916661858958 \n",
      "Purview:  [A,B]             \n",
      " Relata:                    \n",
      "       Cause[B]/[A,B]       \n",
      "     Cause[A,B]/[A,B,C]     \n",
      "╍╍╍╍╍╍╍╍╍╍╍╍╍╍╍╍╍╍╍╍╍╍╍╍╍╍╍ \n",
      "          Relation          \n",
      "╍╍╍╍╍╍╍╍╍╍╍╍╍╍╍╍╍╍╍╍╍╍╍╍╍╍╍ \n",
      "      φ: 0.1383458330929479 \n",
      "Purview:  [C]               \n",
      " Relata:                    \n",
      "      Effect[B]/[C]         \n",
      "     Cause[A,B]/[A,B,C]     \n",
      "╍╍╍╍╍╍╍╍╍╍╍╍╍╍╍╍╍╍╍╍╍╍╍╍╍╍╍ \n",
      "          Relation          \n",
      "╍╍╍╍╍╍╍╍╍╍╍╍╍╍╍╍╍╍╍╍╍╍╍╍╍╍╍ \n",
      "      φ: 0.1383458330929479 \n",
      "Purview:  [B]               \n",
      " Relata:                    \n",
      "       Cause[C]/[B]         \n",
      "     Cause[A,B]/[A,B,C]     \n",
      "╍╍╍╍╍╍╍╍╍╍╍╍╍╍╍╍╍╍╍╍╍╍╍╍╍╍╍ \n",
      "          Relation          \n",
      "╍╍╍╍╍╍╍╍╍╍╍╍╍╍╍╍╍╍╍╍╍╍╍╍╍╍╍ \n",
      "      φ: 0.4150374992788437 \n",
      "Purview:  [B]               \n",
      " Relata:                    \n",
      "        Effect[C]/[B]       \n",
      "      Effect[A,B]/[B]       \n"
     ]
    }
   ],
   "source": [
    "distinctions = phi_structure.distinctions\n",
    "print(distinctions)\n",
    "\n",
    "relations = phi_structure.relations\n",
    "print(relations)"
   ]
  },
  {
   "cell_type": "markdown",
   "id": "a02ab984",
   "metadata": {
    "id": "a02ab984"
   },
   "source": [
    "## Obtaining properties for all distinctions as generators or sequences:\n",
    "\n",
    "Let's try to imitate the distinctions table in Figure 7-C by accessing the data in each of its \"columns\", all rows at once."
   ]
  },
  {
   "cell_type": "code",
   "execution_count": null,
   "id": "282df5c1",
   "metadata": {
    "colab": {
     "base_uri": "https://localhost:8080/"
    },
    "id": "282df5c1",
    "outputId": "2b1170cc-4cac-4e26-b9fb-10acbbffd128"
   },
   "outputs": [
    {
     "name": "stdout",
     "output_type": "stream",
     "text": [
      "  mechanism      cause effect       φ_d\n",
      "0      (A,)     (A, C)   (B,)  0.438722\n",
      "1      (B,)     (A, B)   (C,)  0.500000\n",
      "2      (C,)       (B,)   (B,)  0.438722\n",
      "3    (A, B)  (A, B, C)   (B,)  0.415037\n"
     ]
    }
   ],
   "source": [
    "import pandas as pd\n",
    "\n",
    "# Mechanisms:\n",
    "mechanism_indices = list(phi_structure.distinctions.mechanisms)\n",
    "mechanism_labels = list(phi_structure.distinctions.labeled_mechanisms)\n",
    "\n",
    "# Maximally irreducible causes.\n",
    "causes = list(phi_structure.distinctions.purviews(pyphi.Direction.CAUSE))\n",
    "\n",
    "# Maximally irreducible effects.\n",
    "effects = list(phi_structure.distinctions.purviews(pyphi.Direction.EFFECT))\n",
    "\n",
    "# Small φ values (distinction integrated information or irreducibility):\n",
    "small_phis = list(phi_structure.distinctions.phis)\n",
    "\n",
    "distinctions_table_figure_7C = {\n",
    "    \"mechanism\": map(candidate_system.indices2nodes, mechanism_indices),\n",
    "    \"cause\": map(candidate_system.indices2nodes, causes),\n",
    "    \"effect\": map(candidate_system.indices2nodes, effects),\n",
    "    \"φ_d\": small_phis\n",
    "}\n",
    "\n",
    "print(pd.DataFrame(distinctions_table_figure_7C))\n"
   ]
  },
  {
   "cell_type": "markdown",
   "id": "r1jY6pAJwRad",
   "metadata": {
    "id": "r1jY6pAJwRad"
   },
   "source": [
    "# PyPhi documentation\n",
    "\n",
    "Visit [pyphi.readthedocs.io](https://pyphi.readthedocs.io/en/latest/) for further information on PyPhi usage and its API."
   ]
  }
 ],
 "metadata": {
  "accelerator": "GPU",
  "colab": {
   "provenance": [],
   "toc_visible": true
  },
  "gpuClass": "standard",
  "kernelspec": {
   "display_name": "Python 3 (ipykernel)",
   "language": "python",
   "name": "python3"
  },
  "language_info": {
   "codemirror_mode": {
    "name": "ipython",
    "version": 3
   },
   "file_extension": ".py",
   "mimetype": "text/x-python",
   "name": "python",
   "nbconvert_exporter": "python",
   "pygments_lexer": "ipython3",
   "version": "3.10.8"
  },
  "name": "IIT_4.0_demo.2.ipynb",
  "widgets": {
   "application/vnd.jupyter.widget-state+json": {
    "state": {},
    "version_major": 2,
    "version_minor": 0
   }
  }
 },
 "nbformat": 4,
 "nbformat_minor": 5
}
